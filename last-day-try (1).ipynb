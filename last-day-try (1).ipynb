{
 "cells": [
  {
   "cell_type": "code",
   "execution_count": 1,
   "metadata": {
    "execution": {
     "iopub.execute_input": "2021-02-26T14:54:00.203048Z",
     "iopub.status.busy": "2021-02-26T14:54:00.202350Z",
     "iopub.status.idle": "2021-02-26T14:54:01.372354Z",
     "shell.execute_reply": "2021-02-26T14:54:01.371651Z"
    },
    "papermill": {
     "duration": 1.226989,
     "end_time": "2021-02-26T14:54:01.372598",
     "exception": false,
     "start_time": "2021-02-26T14:54:00.145609",
     "status": "completed"
    },
    "tags": []
   },
   "outputs": [],
   "source": [
    "# Importing core libraries\n",
    "import seaborn as sns\n",
    "import scipy.stats as ss\n",
    "import math \n",
    "import numpy as np\n",
    "import pandas as pd\n",
    "import pprint\n",
    "import joblib\n",
    "\n",
    "from collections import Counter\n",
    "from time import time\n",
    "from matplotlib import pyplot as plt\n",
    "from scipy import stats\n",
    "# Classifiers\n",
    "from catboost import CatBoostClassifier, Pool\n",
    "\n",
    "# Model selection\n",
    "from sklearn.model_selection import StratifiedKFold\n",
    "\n",
    "# Metrics\n",
    "from sklearn.metrics import roc_auc_score, average_precision_score\n",
    "from sklearn.metrics import make_scorer"
   ]
  },
  {
   "cell_type": "markdown",
   "metadata": {
    "papermill": {
     "duration": 0.047576,
     "end_time": "2021-02-26T14:54:01.468745",
     "exception": false,
     "start_time": "2021-02-26T14:54:01.421169",
     "status": "completed"
    },
    "tags": []
   },
   "source": [
    "## Reading the Data and Preprocessing"
   ]
  },
  {
   "cell_type": "code",
   "execution_count": 2,
   "metadata": {
    "_cell_guid": "79c7e3d0-c299-4dcb-8224-4455121ee9b0",
    "_uuid": "d629ff2d2480ee46fbb7e2d37f6b5fab8052498a",
    "execution": {
     "iopub.execute_input": "2021-02-26T14:54:01.574551Z",
     "iopub.status.busy": "2021-02-26T14:54:01.573788Z",
     "iopub.status.idle": "2021-02-26T14:54:01.680039Z",
     "shell.execute_reply": "2021-02-26T14:54:01.680540Z"
    },
    "papermill": {
     "duration": 0.164123,
     "end_time": "2021-02-26T14:54:01.680731",
     "exception": false,
     "start_time": "2021-02-26T14:54:01.516608",
     "status": "completed"
    },
    "tags": []
   },
   "outputs": [],
   "source": [
    "df_train = pd.read_csv('../input/bri-data-hackathon-pa/train.csv')\n",
    "df_test = pd.read_csv('../input/bri-data-hackathon-pa/test.csv')\n",
    "sample_submission = pd.read_csv('../input/bri-data-hackathon-pa/sample_submission.csv')\n",
    "\n",
    "#df_train = df_train.drop(['age','year_graduated'],axis=1)\n",
    "#df_test = df_test.drop(['age','year_graduated'],axis=1)"
   ]
  },
  {
   "cell_type": "code",
   "execution_count": 3,
   "metadata": {
    "execution": {
     "iopub.execute_input": "2021-02-26T14:54:01.780394Z",
     "iopub.status.busy": "2021-02-26T14:54:01.779713Z",
     "iopub.status.idle": "2021-02-26T14:54:01.920358Z",
     "shell.execute_reply": "2021-02-26T14:54:01.919358Z"
    },
    "papermill": {
     "duration": 0.191736,
     "end_time": "2021-02-26T14:54:01.920517",
     "exception": false,
     "start_time": "2021-02-26T14:54:01.728781",
     "status": "completed"
    },
    "tags": []
   },
   "outputs": [
    {
     "data": {
      "text/html": [
       "<div>\n",
       "<style scoped>\n",
       "    .dataframe tbody tr th:only-of-type {\n",
       "        vertical-align: middle;\n",
       "    }\n",
       "\n",
       "    .dataframe tbody tr th {\n",
       "        vertical-align: top;\n",
       "    }\n",
       "\n",
       "    .dataframe thead th {\n",
       "        text-align: right;\n",
       "    }\n",
       "</style>\n",
       "<table border=\"1\" class=\"dataframe\">\n",
       "  <thead>\n",
       "    <tr style=\"text-align: right;\">\n",
       "      <th></th>\n",
       "      <th>job_level</th>\n",
       "      <th>job_duration_in_current_job_level</th>\n",
       "      <th>person_level</th>\n",
       "      <th>job_duration_in_current_person_level</th>\n",
       "      <th>job_duration_in_current_branch</th>\n",
       "      <th>Employee_type</th>\n",
       "      <th>gender</th>\n",
       "      <th>age</th>\n",
       "      <th>marital_status_maried(Y/N)</th>\n",
       "      <th>number_of_dependences</th>\n",
       "      <th>Education_level</th>\n",
       "      <th>GPA</th>\n",
       "      <th>year_graduated</th>\n",
       "      <th>job_duration_from_training</th>\n",
       "      <th>branch_rotation</th>\n",
       "      <th>job_rotation</th>\n",
       "      <th>assign_of_otherposition</th>\n",
       "      <th>annual leave</th>\n",
       "      <th>sick_leaves</th>\n",
       "      <th>Last_achievement_%</th>\n",
       "      <th>Achievement_above_100%_during3quartal</th>\n",
       "      <th>Best Performance</th>\n",
       "    </tr>\n",
       "  </thead>\n",
       "  <tbody>\n",
       "    <tr>\n",
       "      <th>0</th>\n",
       "      <td>JG04</td>\n",
       "      <td>1.352775</td>\n",
       "      <td>PG03</td>\n",
       "      <td>1.352775</td>\n",
       "      <td>1.732051</td>\n",
       "      <td>RM_type_A</td>\n",
       "      <td>2</td>\n",
       "      <td>1985</td>\n",
       "      <td>Y</td>\n",
       "      <td>1</td>\n",
       "      <td>level_0</td>\n",
       "      <td>2.86</td>\n",
       "      <td>2011</td>\n",
       "      <td>4</td>\n",
       "      <td>2</td>\n",
       "      <td>3</td>\n",
       "      <td>2</td>\n",
       "      <td>3</td>\n",
       "      <td>0</td>\n",
       "      <td>46.37</td>\n",
       "      <td>0.0</td>\n",
       "      <td>0</td>\n",
       "    </tr>\n",
       "    <tr>\n",
       "      <th>1</th>\n",
       "      <td>JG04</td>\n",
       "      <td>1.292285</td>\n",
       "      <td>PG03</td>\n",
       "      <td>1.292285</td>\n",
       "      <td>1.039230</td>\n",
       "      <td>RM_type_A</td>\n",
       "      <td>2</td>\n",
       "      <td>1989</td>\n",
       "      <td>Y</td>\n",
       "      <td>0</td>\n",
       "      <td>level_1</td>\n",
       "      <td>7.28</td>\n",
       "      <td>2007</td>\n",
       "      <td>4</td>\n",
       "      <td>4</td>\n",
       "      <td>3</td>\n",
       "      <td>0</td>\n",
       "      <td>0</td>\n",
       "      <td>1</td>\n",
       "      <td>47.68</td>\n",
       "      <td>0.0</td>\n",
       "      <td>0</td>\n",
       "    </tr>\n",
       "    <tr>\n",
       "      <th>2</th>\n",
       "      <td>JG05</td>\n",
       "      <td>2.565151</td>\n",
       "      <td>PG06</td>\n",
       "      <td>2.308679</td>\n",
       "      <td>1.780449</td>\n",
       "      <td>RM_type_C</td>\n",
       "      <td>1</td>\n",
       "      <td>1970</td>\n",
       "      <td>Y</td>\n",
       "      <td>1</td>\n",
       "      <td>level_1</td>\n",
       "      <td>0.00</td>\n",
       "      <td>1989</td>\n",
       "      <td>28</td>\n",
       "      <td>10</td>\n",
       "      <td>9</td>\n",
       "      <td>6</td>\n",
       "      <td>2</td>\n",
       "      <td>1</td>\n",
       "      <td>40.73</td>\n",
       "      <td>0.0</td>\n",
       "      <td>0</td>\n",
       "    </tr>\n",
       "    <tr>\n",
       "      <th>3</th>\n",
       "      <td>JG05</td>\n",
       "      <td>2.828427</td>\n",
       "      <td>PG06</td>\n",
       "      <td>1.000000</td>\n",
       "      <td>1.385641</td>\n",
       "      <td>RM_type_A</td>\n",
       "      <td>2</td>\n",
       "      <td>1967</td>\n",
       "      <td>Y</td>\n",
       "      <td>2</td>\n",
       "      <td>level_1</td>\n",
       "      <td>0.00</td>\n",
       "      <td>1987</td>\n",
       "      <td>29</td>\n",
       "      <td>11</td>\n",
       "      <td>6</td>\n",
       "      <td>0</td>\n",
       "      <td>4</td>\n",
       "      <td>10</td>\n",
       "      <td>47.42</td>\n",
       "      <td>0.0</td>\n",
       "      <td>1</td>\n",
       "    </tr>\n",
       "    <tr>\n",
       "      <th>4</th>\n",
       "      <td>JG05</td>\n",
       "      <td>2.828427</td>\n",
       "      <td>PG06</td>\n",
       "      <td>2.828427</td>\n",
       "      <td>0.707107</td>\n",
       "      <td>RM_type_A</td>\n",
       "      <td>2</td>\n",
       "      <td>1965</td>\n",
       "      <td>Y</td>\n",
       "      <td>3</td>\n",
       "      <td>level_1</td>\n",
       "      <td>7.20</td>\n",
       "      <td>1985</td>\n",
       "      <td>30</td>\n",
       "      <td>9</td>\n",
       "      <td>8</td>\n",
       "      <td>2</td>\n",
       "      <td>3</td>\n",
       "      <td>0</td>\n",
       "      <td>47.18</td>\n",
       "      <td>0.0</td>\n",
       "      <td>0</td>\n",
       "    </tr>\n",
       "    <tr>\n",
       "      <th>...</th>\n",
       "      <td>...</td>\n",
       "      <td>...</td>\n",
       "      <td>...</td>\n",
       "      <td>...</td>\n",
       "      <td>...</td>\n",
       "      <td>...</td>\n",
       "      <td>...</td>\n",
       "      <td>...</td>\n",
       "      <td>...</td>\n",
       "      <td>...</td>\n",
       "      <td>...</td>\n",
       "      <td>...</td>\n",
       "      <td>...</td>\n",
       "      <td>...</td>\n",
       "      <td>...</td>\n",
       "      <td>...</td>\n",
       "      <td>...</td>\n",
       "      <td>...</td>\n",
       "      <td>...</td>\n",
       "      <td>...</td>\n",
       "      <td>...</td>\n",
       "      <td>...</td>\n",
       "    </tr>\n",
       "    <tr>\n",
       "      <th>11148</th>\n",
       "      <td>JG04</td>\n",
       "      <td>1.256981</td>\n",
       "      <td>PG03</td>\n",
       "      <td>1.256981</td>\n",
       "      <td>1.224745</td>\n",
       "      <td>RM_type_A</td>\n",
       "      <td>2</td>\n",
       "      <td>1986</td>\n",
       "      <td>Y</td>\n",
       "      <td>1</td>\n",
       "      <td>level_5</td>\n",
       "      <td>3.33</td>\n",
       "      <td>2016</td>\n",
       "      <td>4</td>\n",
       "      <td>3</td>\n",
       "      <td>3</td>\n",
       "      <td>0</td>\n",
       "      <td>4</td>\n",
       "      <td>1</td>\n",
       "      <td>50.87</td>\n",
       "      <td>0.0</td>\n",
       "      <td>0</td>\n",
       "    </tr>\n",
       "    <tr>\n",
       "      <th>11149</th>\n",
       "      <td>JG04</td>\n",
       "      <td>1.385641</td>\n",
       "      <td>PG03</td>\n",
       "      <td>1.385641</td>\n",
       "      <td>1.802776</td>\n",
       "      <td>RM_type_B</td>\n",
       "      <td>1</td>\n",
       "      <td>1988</td>\n",
       "      <td>Y</td>\n",
       "      <td>2</td>\n",
       "      <td>level_5</td>\n",
       "      <td>3.00</td>\n",
       "      <td>2015</td>\n",
       "      <td>3</td>\n",
       "      <td>1</td>\n",
       "      <td>2</td>\n",
       "      <td>0</td>\n",
       "      <td>6</td>\n",
       "      <td>0</td>\n",
       "      <td>79.91</td>\n",
       "      <td>0.0</td>\n",
       "      <td>0</td>\n",
       "    </tr>\n",
       "    <tr>\n",
       "      <th>11150</th>\n",
       "      <td>JG04</td>\n",
       "      <td>1.256981</td>\n",
       "      <td>PG03</td>\n",
       "      <td>1.256981</td>\n",
       "      <td>1.385641</td>\n",
       "      <td>RM_type_B</td>\n",
       "      <td>2</td>\n",
       "      <td>1991</td>\n",
       "      <td>Y</td>\n",
       "      <td>0</td>\n",
       "      <td>level_5</td>\n",
       "      <td>3.48</td>\n",
       "      <td>2017</td>\n",
       "      <td>2</td>\n",
       "      <td>1</td>\n",
       "      <td>2</td>\n",
       "      <td>0</td>\n",
       "      <td>4</td>\n",
       "      <td>0</td>\n",
       "      <td>78.38</td>\n",
       "      <td>0.0</td>\n",
       "      <td>0</td>\n",
       "    </tr>\n",
       "    <tr>\n",
       "      <th>11151</th>\n",
       "      <td>JG04</td>\n",
       "      <td>1.118034</td>\n",
       "      <td>PG03</td>\n",
       "      <td>1.118034</td>\n",
       "      <td>0.000000</td>\n",
       "      <td>RM_type_A</td>\n",
       "      <td>1</td>\n",
       "      <td>1987</td>\n",
       "      <td>Y</td>\n",
       "      <td>1</td>\n",
       "      <td>level_5</td>\n",
       "      <td>3.53</td>\n",
       "      <td>2012</td>\n",
       "      <td>5</td>\n",
       "      <td>5</td>\n",
       "      <td>4</td>\n",
       "      <td>0</td>\n",
       "      <td>4</td>\n",
       "      <td>1</td>\n",
       "      <td>85.94</td>\n",
       "      <td>1.0</td>\n",
       "      <td>0</td>\n",
       "    </tr>\n",
       "    <tr>\n",
       "      <th>11152</th>\n",
       "      <td>JG04</td>\n",
       "      <td>2.828427</td>\n",
       "      <td>PG04</td>\n",
       "      <td>2.121320</td>\n",
       "      <td>1.473092</td>\n",
       "      <td>RM_type_B</td>\n",
       "      <td>2</td>\n",
       "      <td>1980</td>\n",
       "      <td>Y</td>\n",
       "      <td>2</td>\n",
       "      <td>level_5</td>\n",
       "      <td>3.14</td>\n",
       "      <td>2009</td>\n",
       "      <td>14</td>\n",
       "      <td>5</td>\n",
       "      <td>7</td>\n",
       "      <td>0</td>\n",
       "      <td>2</td>\n",
       "      <td>0</td>\n",
       "      <td>79.99</td>\n",
       "      <td>1.0</td>\n",
       "      <td>0</td>\n",
       "    </tr>\n",
       "  </tbody>\n",
       "</table>\n",
       "<p>11153 rows × 22 columns</p>\n",
       "</div>"
      ],
      "text/plain": [
       "      job_level  job_duration_in_current_job_level person_level  \\\n",
       "0          JG04                           1.352775         PG03   \n",
       "1          JG04                           1.292285         PG03   \n",
       "2          JG05                           2.565151         PG06   \n",
       "3          JG05                           2.828427         PG06   \n",
       "4          JG05                           2.828427         PG06   \n",
       "...         ...                                ...          ...   \n",
       "11148      JG04                           1.256981         PG03   \n",
       "11149      JG04                           1.385641         PG03   \n",
       "11150      JG04                           1.256981         PG03   \n",
       "11151      JG04                           1.118034         PG03   \n",
       "11152      JG04                           2.828427         PG04   \n",
       "\n",
       "       job_duration_in_current_person_level  job_duration_in_current_branch  \\\n",
       "0                                  1.352775                        1.732051   \n",
       "1                                  1.292285                        1.039230   \n",
       "2                                  2.308679                        1.780449   \n",
       "3                                  1.000000                        1.385641   \n",
       "4                                  2.828427                        0.707107   \n",
       "...                                     ...                             ...   \n",
       "11148                              1.256981                        1.224745   \n",
       "11149                              1.385641                        1.802776   \n",
       "11150                              1.256981                        1.385641   \n",
       "11151                              1.118034                        0.000000   \n",
       "11152                              2.121320                        1.473092   \n",
       "\n",
       "      Employee_type  gender   age marital_status_maried(Y/N)  \\\n",
       "0         RM_type_A       2  1985                          Y   \n",
       "1         RM_type_A       2  1989                          Y   \n",
       "2         RM_type_C       1  1970                          Y   \n",
       "3         RM_type_A       2  1967                          Y   \n",
       "4         RM_type_A       2  1965                          Y   \n",
       "...             ...     ...   ...                        ...   \n",
       "11148     RM_type_A       2  1986                          Y   \n",
       "11149     RM_type_B       1  1988                          Y   \n",
       "11150     RM_type_B       2  1991                          Y   \n",
       "11151     RM_type_A       1  1987                          Y   \n",
       "11152     RM_type_B       2  1980                          Y   \n",
       "\n",
       "       number_of_dependences Education_level   GPA  year_graduated  \\\n",
       "0                          1         level_0  2.86            2011   \n",
       "1                          0         level_1  7.28            2007   \n",
       "2                          1         level_1  0.00            1989   \n",
       "3                          2         level_1  0.00            1987   \n",
       "4                          3         level_1  7.20            1985   \n",
       "...                      ...             ...   ...             ...   \n",
       "11148                      1         level_5  3.33            2016   \n",
       "11149                      2         level_5  3.00            2015   \n",
       "11150                      0         level_5  3.48            2017   \n",
       "11151                      1         level_5  3.53            2012   \n",
       "11152                      2         level_5  3.14            2009   \n",
       "\n",
       "       job_duration_from_training  branch_rotation  job_rotation  \\\n",
       "0                               4                2             3   \n",
       "1                               4                4             3   \n",
       "2                              28               10             9   \n",
       "3                              29               11             6   \n",
       "4                              30                9             8   \n",
       "...                           ...              ...           ...   \n",
       "11148                           4                3             3   \n",
       "11149                           3                1             2   \n",
       "11150                           2                1             2   \n",
       "11151                           5                5             4   \n",
       "11152                          14                5             7   \n",
       "\n",
       "       assign_of_otherposition  annual leave  sick_leaves  Last_achievement_%  \\\n",
       "0                            2             3            0               46.37   \n",
       "1                            0             0            1               47.68   \n",
       "2                            6             2            1               40.73   \n",
       "3                            0             4           10               47.42   \n",
       "4                            2             3            0               47.18   \n",
       "...                        ...           ...          ...                 ...   \n",
       "11148                        0             4            1               50.87   \n",
       "11149                        0             6            0               79.91   \n",
       "11150                        0             4            0               78.38   \n",
       "11151                        0             4            1               85.94   \n",
       "11152                        0             2            0               79.99   \n",
       "\n",
       "       Achievement_above_100%_during3quartal  Best Performance  \n",
       "0                                        0.0                 0  \n",
       "1                                        0.0                 0  \n",
       "2                                        0.0                 0  \n",
       "3                                        0.0                 1  \n",
       "4                                        0.0                 0  \n",
       "...                                      ...               ...  \n",
       "11148                                    0.0                 0  \n",
       "11149                                    0.0                 0  \n",
       "11150                                    0.0                 0  \n",
       "11151                                    1.0                 0  \n",
       "11152                                    1.0                 0  \n",
       "\n",
       "[11153 rows x 22 columns]"
      ]
     },
     "execution_count": 3,
     "metadata": {},
     "output_type": "execute_result"
    }
   ],
   "source": [
    "pd.set_option(\"display.max_columns\", None)\n",
    "\n",
    "df_train"
   ]
  },
  {
   "cell_type": "code",
   "execution_count": 4,
   "metadata": {
    "execution": {
     "iopub.execute_input": "2021-02-26T14:54:02.043420Z",
     "iopub.status.busy": "2021-02-26T14:54:02.042684Z",
     "iopub.status.idle": "2021-02-26T14:54:02.061280Z",
     "shell.execute_reply": "2021-02-26T14:54:02.061789Z"
    },
    "papermill": {
     "duration": 0.089947,
     "end_time": "2021-02-26T14:54:02.061984",
     "exception": false,
     "start_time": "2021-02-26T14:54:01.972037",
     "status": "completed"
    },
    "tags": []
   },
   "outputs": [
    {
     "data": {
      "text/html": [
       "<div>\n",
       "<style scoped>\n",
       "    .dataframe tbody tr th:only-of-type {\n",
       "        vertical-align: middle;\n",
       "    }\n",
       "\n",
       "    .dataframe tbody tr th {\n",
       "        vertical-align: top;\n",
       "    }\n",
       "\n",
       "    .dataframe thead th {\n",
       "        text-align: right;\n",
       "    }\n",
       "</style>\n",
       "<table border=\"1\" class=\"dataframe\">\n",
       "  <thead>\n",
       "    <tr style=\"text-align: right;\">\n",
       "      <th></th>\n",
       "      <th>job_level</th>\n",
       "      <th>job_duration_in_current_job_level</th>\n",
       "      <th>person_level</th>\n",
       "      <th>job_duration_in_current_person_level</th>\n",
       "      <th>job_duration_in_current_branch</th>\n",
       "      <th>Employee_type</th>\n",
       "      <th>gender</th>\n",
       "      <th>age</th>\n",
       "      <th>marital_status_maried(Y/N)</th>\n",
       "      <th>number_of_dependences</th>\n",
       "      <th>Education_level</th>\n",
       "      <th>GPA</th>\n",
       "      <th>year_graduated</th>\n",
       "      <th>job_duration_from_training</th>\n",
       "      <th>branch_rotation</th>\n",
       "      <th>job_rotation</th>\n",
       "      <th>assign_of_otherposition</th>\n",
       "      <th>annual leave</th>\n",
       "      <th>sick_leaves</th>\n",
       "      <th>Last_achievement_%</th>\n",
       "      <th>Achievement_above_100%_during3quartal</th>\n",
       "    </tr>\n",
       "  </thead>\n",
       "  <tbody>\n",
       "    <tr>\n",
       "      <th>0</th>\n",
       "      <td>JG04</td>\n",
       "      <td>1.256981</td>\n",
       "      <td>PG03</td>\n",
       "      <td>1.256981</td>\n",
       "      <td>0.707107</td>\n",
       "      <td>RM_type_A</td>\n",
       "      <td>1</td>\n",
       "      <td>1988</td>\n",
       "      <td>N</td>\n",
       "      <td>0</td>\n",
       "      <td>level_3</td>\n",
       "      <td>3.08</td>\n",
       "      <td>2009</td>\n",
       "      <td>6</td>\n",
       "      <td>4</td>\n",
       "      <td>2</td>\n",
       "      <td>6</td>\n",
       "      <td>3</td>\n",
       "      <td>7</td>\n",
       "      <td>84.02</td>\n",
       "      <td>0.0</td>\n",
       "    </tr>\n",
       "    <tr>\n",
       "      <th>1</th>\n",
       "      <td>JG04</td>\n",
       "      <td>1.224745</td>\n",
       "      <td>PG03</td>\n",
       "      <td>1.224745</td>\n",
       "      <td>1.256981</td>\n",
       "      <td>RM_type_B</td>\n",
       "      <td>2</td>\n",
       "      <td>1991</td>\n",
       "      <td>N</td>\n",
       "      <td>0</td>\n",
       "      <td>level_4</td>\n",
       "      <td>3.31</td>\n",
       "      <td>2014</td>\n",
       "      <td>2</td>\n",
       "      <td>2</td>\n",
       "      <td>2</td>\n",
       "      <td>0</td>\n",
       "      <td>1</td>\n",
       "      <td>0</td>\n",
       "      <td>63.74</td>\n",
       "      <td>0.0</td>\n",
       "    </tr>\n",
       "    <tr>\n",
       "      <th>2</th>\n",
       "      <td>JG04</td>\n",
       "      <td>0.500000</td>\n",
       "      <td>PG03</td>\n",
       "      <td>0.500000</td>\n",
       "      <td>1.081665</td>\n",
       "      <td>RM_type_A</td>\n",
       "      <td>2</td>\n",
       "      <td>1989</td>\n",
       "      <td>Y</td>\n",
       "      <td>1</td>\n",
       "      <td>level_4</td>\n",
       "      <td>3.44</td>\n",
       "      <td>2011</td>\n",
       "      <td>4</td>\n",
       "      <td>2</td>\n",
       "      <td>2</td>\n",
       "      <td>0</td>\n",
       "      <td>2</td>\n",
       "      <td>1</td>\n",
       "      <td>88.19</td>\n",
       "      <td>1.0</td>\n",
       "    </tr>\n",
       "    <tr>\n",
       "      <th>3</th>\n",
       "      <td>JG04</td>\n",
       "      <td>1.256981</td>\n",
       "      <td>PG03</td>\n",
       "      <td>1.256981</td>\n",
       "      <td>1.802776</td>\n",
       "      <td>RM_type_A</td>\n",
       "      <td>2</td>\n",
       "      <td>1990</td>\n",
       "      <td>Y</td>\n",
       "      <td>1</td>\n",
       "      <td>level_4</td>\n",
       "      <td>0.00</td>\n",
       "      <td>2014</td>\n",
       "      <td>3</td>\n",
       "      <td>1</td>\n",
       "      <td>3</td>\n",
       "      <td>0</td>\n",
       "      <td>3</td>\n",
       "      <td>0</td>\n",
       "      <td>25.94</td>\n",
       "      <td>0.0</td>\n",
       "    </tr>\n",
       "    <tr>\n",
       "      <th>4</th>\n",
       "      <td>JG04</td>\n",
       "      <td>1.352775</td>\n",
       "      <td>PG03</td>\n",
       "      <td>1.352775</td>\n",
       "      <td>1.224745</td>\n",
       "      <td>RM_type_B</td>\n",
       "      <td>1</td>\n",
       "      <td>1985</td>\n",
       "      <td>Y</td>\n",
       "      <td>0</td>\n",
       "      <td>level_4</td>\n",
       "      <td>3.34</td>\n",
       "      <td>2007</td>\n",
       "      <td>5</td>\n",
       "      <td>3</td>\n",
       "      <td>2</td>\n",
       "      <td>0</td>\n",
       "      <td>3</td>\n",
       "      <td>0</td>\n",
       "      <td>82.32</td>\n",
       "      <td>0.0</td>\n",
       "    </tr>\n",
       "    <tr>\n",
       "      <th>...</th>\n",
       "      <td>...</td>\n",
       "      <td>...</td>\n",
       "      <td>...</td>\n",
       "      <td>...</td>\n",
       "      <td>...</td>\n",
       "      <td>...</td>\n",
       "      <td>...</td>\n",
       "      <td>...</td>\n",
       "      <td>...</td>\n",
       "      <td>...</td>\n",
       "      <td>...</td>\n",
       "      <td>...</td>\n",
       "      <td>...</td>\n",
       "      <td>...</td>\n",
       "      <td>...</td>\n",
       "      <td>...</td>\n",
       "      <td>...</td>\n",
       "      <td>...</td>\n",
       "      <td>...</td>\n",
       "      <td>...</td>\n",
       "      <td>...</td>\n",
       "    </tr>\n",
       "    <tr>\n",
       "      <th>5995</th>\n",
       "      <td>JG04</td>\n",
       "      <td>1.292285</td>\n",
       "      <td>PG03</td>\n",
       "      <td>1.292285</td>\n",
       "      <td>0.707107</td>\n",
       "      <td>RM_type_B</td>\n",
       "      <td>2</td>\n",
       "      <td>1988</td>\n",
       "      <td>Y</td>\n",
       "      <td>0</td>\n",
       "      <td>level_4</td>\n",
       "      <td>3.01</td>\n",
       "      <td>2015</td>\n",
       "      <td>2</td>\n",
       "      <td>2</td>\n",
       "      <td>2</td>\n",
       "      <td>0</td>\n",
       "      <td>4</td>\n",
       "      <td>0</td>\n",
       "      <td>58.60</td>\n",
       "      <td>0.0</td>\n",
       "    </tr>\n",
       "    <tr>\n",
       "      <th>5996</th>\n",
       "      <td>JG04</td>\n",
       "      <td>1.352775</td>\n",
       "      <td>PG03</td>\n",
       "      <td>1.352775</td>\n",
       "      <td>1.581139</td>\n",
       "      <td>RM_type_A</td>\n",
       "      <td>2</td>\n",
       "      <td>1989</td>\n",
       "      <td>Y</td>\n",
       "      <td>1</td>\n",
       "      <td>level_4</td>\n",
       "      <td>3.56</td>\n",
       "      <td>2011</td>\n",
       "      <td>5</td>\n",
       "      <td>3</td>\n",
       "      <td>2</td>\n",
       "      <td>7</td>\n",
       "      <td>3</td>\n",
       "      <td>0</td>\n",
       "      <td>90.64</td>\n",
       "      <td>3.0</td>\n",
       "    </tr>\n",
       "    <tr>\n",
       "      <th>5997</th>\n",
       "      <td>JG04</td>\n",
       "      <td>1.385641</td>\n",
       "      <td>PG03</td>\n",
       "      <td>1.385641</td>\n",
       "      <td>1.224745</td>\n",
       "      <td>RM_type_A</td>\n",
       "      <td>2</td>\n",
       "      <td>1991</td>\n",
       "      <td>Y</td>\n",
       "      <td>0</td>\n",
       "      <td>level_4</td>\n",
       "      <td>3.59</td>\n",
       "      <td>2013</td>\n",
       "      <td>3</td>\n",
       "      <td>2</td>\n",
       "      <td>3</td>\n",
       "      <td>0</td>\n",
       "      <td>16</td>\n",
       "      <td>0</td>\n",
       "      <td>13.02</td>\n",
       "      <td>0.0</td>\n",
       "    </tr>\n",
       "    <tr>\n",
       "      <th>5998</th>\n",
       "      <td>JG05</td>\n",
       "      <td>1.385641</td>\n",
       "      <td>PG05</td>\n",
       "      <td>1.385641</td>\n",
       "      <td>0.648074</td>\n",
       "      <td>RM_type_A</td>\n",
       "      <td>2</td>\n",
       "      <td>1980</td>\n",
       "      <td>Y</td>\n",
       "      <td>2</td>\n",
       "      <td>level_4</td>\n",
       "      <td>2.93</td>\n",
       "      <td>2003</td>\n",
       "      <td>14</td>\n",
       "      <td>7</td>\n",
       "      <td>6</td>\n",
       "      <td>8</td>\n",
       "      <td>2</td>\n",
       "      <td>0</td>\n",
       "      <td>82.26</td>\n",
       "      <td>0.0</td>\n",
       "    </tr>\n",
       "    <tr>\n",
       "      <th>5999</th>\n",
       "      <td>JG04</td>\n",
       "      <td>1.352775</td>\n",
       "      <td>PG03</td>\n",
       "      <td>1.352775</td>\n",
       "      <td>0.707107</td>\n",
       "      <td>RM_type_A</td>\n",
       "      <td>2</td>\n",
       "      <td>1987</td>\n",
       "      <td>Y</td>\n",
       "      <td>1</td>\n",
       "      <td>level_3</td>\n",
       "      <td>3.08</td>\n",
       "      <td>2008</td>\n",
       "      <td>5</td>\n",
       "      <td>4</td>\n",
       "      <td>3</td>\n",
       "      <td>2</td>\n",
       "      <td>3</td>\n",
       "      <td>0</td>\n",
       "      <td>66.62</td>\n",
       "      <td>0.0</td>\n",
       "    </tr>\n",
       "  </tbody>\n",
       "</table>\n",
       "<p>6000 rows × 21 columns</p>\n",
       "</div>"
      ],
      "text/plain": [
       "     job_level  job_duration_in_current_job_level person_level  \\\n",
       "0         JG04                           1.256981         PG03   \n",
       "1         JG04                           1.224745         PG03   \n",
       "2         JG04                           0.500000         PG03   \n",
       "3         JG04                           1.256981         PG03   \n",
       "4         JG04                           1.352775         PG03   \n",
       "...        ...                                ...          ...   \n",
       "5995      JG04                           1.292285         PG03   \n",
       "5996      JG04                           1.352775         PG03   \n",
       "5997      JG04                           1.385641         PG03   \n",
       "5998      JG05                           1.385641         PG05   \n",
       "5999      JG04                           1.352775         PG03   \n",
       "\n",
       "      job_duration_in_current_person_level  job_duration_in_current_branch  \\\n",
       "0                                 1.256981                        0.707107   \n",
       "1                                 1.224745                        1.256981   \n",
       "2                                 0.500000                        1.081665   \n",
       "3                                 1.256981                        1.802776   \n",
       "4                                 1.352775                        1.224745   \n",
       "...                                    ...                             ...   \n",
       "5995                              1.292285                        0.707107   \n",
       "5996                              1.352775                        1.581139   \n",
       "5997                              1.385641                        1.224745   \n",
       "5998                              1.385641                        0.648074   \n",
       "5999                              1.352775                        0.707107   \n",
       "\n",
       "     Employee_type  gender   age marital_status_maried(Y/N)  \\\n",
       "0        RM_type_A       1  1988                          N   \n",
       "1        RM_type_B       2  1991                          N   \n",
       "2        RM_type_A       2  1989                          Y   \n",
       "3        RM_type_A       2  1990                          Y   \n",
       "4        RM_type_B       1  1985                          Y   \n",
       "...            ...     ...   ...                        ...   \n",
       "5995     RM_type_B       2  1988                          Y   \n",
       "5996     RM_type_A       2  1989                          Y   \n",
       "5997     RM_type_A       2  1991                          Y   \n",
       "5998     RM_type_A       2  1980                          Y   \n",
       "5999     RM_type_A       2  1987                          Y   \n",
       "\n",
       "      number_of_dependences Education_level   GPA  year_graduated  \\\n",
       "0                         0         level_3  3.08            2009   \n",
       "1                         0         level_4  3.31            2014   \n",
       "2                         1         level_4  3.44            2011   \n",
       "3                         1         level_4  0.00            2014   \n",
       "4                         0         level_4  3.34            2007   \n",
       "...                     ...             ...   ...             ...   \n",
       "5995                      0         level_4  3.01            2015   \n",
       "5996                      1         level_4  3.56            2011   \n",
       "5997                      0         level_4  3.59            2013   \n",
       "5998                      2         level_4  2.93            2003   \n",
       "5999                      1         level_3  3.08            2008   \n",
       "\n",
       "      job_duration_from_training  branch_rotation  job_rotation  \\\n",
       "0                              6                4             2   \n",
       "1                              2                2             2   \n",
       "2                              4                2             2   \n",
       "3                              3                1             3   \n",
       "4                              5                3             2   \n",
       "...                          ...              ...           ...   \n",
       "5995                           2                2             2   \n",
       "5996                           5                3             2   \n",
       "5997                           3                2             3   \n",
       "5998                          14                7             6   \n",
       "5999                           5                4             3   \n",
       "\n",
       "      assign_of_otherposition  annual leave  sick_leaves  Last_achievement_%  \\\n",
       "0                           6             3            7               84.02   \n",
       "1                           0             1            0               63.74   \n",
       "2                           0             2            1               88.19   \n",
       "3                           0             3            0               25.94   \n",
       "4                           0             3            0               82.32   \n",
       "...                       ...           ...          ...                 ...   \n",
       "5995                        0             4            0               58.60   \n",
       "5996                        7             3            0               90.64   \n",
       "5997                        0            16            0               13.02   \n",
       "5998                        8             2            0               82.26   \n",
       "5999                        2             3            0               66.62   \n",
       "\n",
       "      Achievement_above_100%_during3quartal  \n",
       "0                                       0.0  \n",
       "1                                       0.0  \n",
       "2                                       1.0  \n",
       "3                                       0.0  \n",
       "4                                       0.0  \n",
       "...                                     ...  \n",
       "5995                                    0.0  \n",
       "5996                                    3.0  \n",
       "5997                                    0.0  \n",
       "5998                                    0.0  \n",
       "5999                                    0.0  \n",
       "\n",
       "[6000 rows x 21 columns]"
      ]
     },
     "execution_count": 4,
     "metadata": {},
     "output_type": "execute_result"
    }
   ],
   "source": [
    "df_test"
   ]
  },
  {
   "cell_type": "code",
   "execution_count": 5,
   "metadata": {
    "execution": {
     "iopub.execute_input": "2021-02-26T14:54:02.166672Z",
     "iopub.status.busy": "2021-02-26T14:54:02.165969Z",
     "iopub.status.idle": "2021-02-26T14:54:02.179072Z",
     "shell.execute_reply": "2021-02-26T14:54:02.178448Z"
    },
    "papermill": {
     "duration": 0.066757,
     "end_time": "2021-02-26T14:54:02.179233",
     "exception": false,
     "start_time": "2021-02-26T14:54:02.112476",
     "status": "completed"
    },
    "tags": []
   },
   "outputs": [
    {
     "data": {
      "text/plain": [
       "True     10981\n",
       "False      172\n",
       "Name: job_duration_in_current_job_level, dtype: int64"
      ]
     },
     "execution_count": 5,
     "metadata": {},
     "output_type": "execute_result"
    }
   ],
   "source": [
    "df_train.job_duration_in_current_job_level.isin(df_train.job_duration_in_current_person_level).value_counts()"
   ]
  },
  {
   "cell_type": "code",
   "execution_count": 6,
   "metadata": {
    "execution": {
     "iopub.execute_input": "2021-02-26T14:54:02.289431Z",
     "iopub.status.busy": "2021-02-26T14:54:02.288419Z",
     "iopub.status.idle": "2021-02-26T14:54:02.296240Z",
     "shell.execute_reply": "2021-02-26T14:54:02.295529Z"
    },
    "papermill": {
     "duration": 0.065555,
     "end_time": "2021-02-26T14:54:02.296410",
     "exception": false,
     "start_time": "2021-02-26T14:54:02.230855",
     "status": "completed"
    },
    "tags": []
   },
   "outputs": [
    {
     "data": {
      "text/plain": [
       "True     5855\n",
       "False     145\n",
       "Name: job_duration_in_current_job_level, dtype: int64"
      ]
     },
     "execution_count": 6,
     "metadata": {},
     "output_type": "execute_result"
    }
   ],
   "source": [
    "df_test.job_duration_in_current_job_level.isin(df_test.job_duration_in_current_person_level).value_counts()"
   ]
  },
  {
   "cell_type": "code",
   "execution_count": 7,
   "metadata": {
    "execution": {
     "iopub.execute_input": "2021-02-26T14:54:02.402619Z",
     "iopub.status.busy": "2021-02-26T14:54:02.401961Z",
     "iopub.status.idle": "2021-02-26T14:54:02.409918Z",
     "shell.execute_reply": "2021-02-26T14:54:02.410402Z"
    },
    "papermill": {
     "duration": 0.062567,
     "end_time": "2021-02-26T14:54:02.410586",
     "exception": false,
     "start_time": "2021-02-26T14:54:02.348019",
     "status": "completed"
    },
    "tags": []
   },
   "outputs": [],
   "source": [
    "df_train = df_train.drop(['job_duration_in_current_person_level'], axis=1)\n",
    "df_test = df_test.drop(['job_duration_in_current_person_level'], axis=1)"
   ]
  },
  {
   "cell_type": "code",
   "execution_count": 8,
   "metadata": {
    "execution": {
     "iopub.execute_input": "2021-02-26T14:54:02.516552Z",
     "iopub.status.busy": "2021-02-26T14:54:02.515897Z",
     "iopub.status.idle": "2021-02-26T14:54:02.542858Z",
     "shell.execute_reply": "2021-02-26T14:54:02.542058Z"
    },
    "papermill": {
     "duration": 0.08117,
     "end_time": "2021-02-26T14:54:02.543019",
     "exception": false,
     "start_time": "2021-02-26T14:54:02.461849",
     "status": "completed"
    },
    "tags": []
   },
   "outputs": [],
   "source": [
    "df_train['rotation'] = (df_train['branch_rotation'] + df_train['job_rotation'] + df_train['assign_of_otherposition'])/3\n",
    "df_test['rotation'] = (df_test['branch_rotation'] + df_test['job_rotation'] + df_test['assign_of_otherposition'])/3"
   ]
  },
  {
   "cell_type": "code",
   "execution_count": 9,
   "metadata": {
    "execution": {
     "iopub.execute_input": "2021-02-26T14:54:02.658138Z",
     "iopub.status.busy": "2021-02-26T14:54:02.657436Z",
     "iopub.status.idle": "2021-02-26T14:54:02.661078Z",
     "shell.execute_reply": "2021-02-26T14:54:02.660533Z"
    },
    "papermill": {
     "duration": 0.063063,
     "end_time": "2021-02-26T14:54:02.661233",
     "exception": false,
     "start_time": "2021-02-26T14:54:02.598170",
     "status": "completed"
    },
    "tags": []
   },
   "outputs": [],
   "source": [
    "df_train['age_year_graduated'] = df_train['year_graduated'] - df_train['age']\n",
    "df_test['age_year_graduated'] = df_test['year_graduated'] - df_test['age']"
   ]
  },
  {
   "cell_type": "code",
   "execution_count": 10,
   "metadata": {
    "execution": {
     "iopub.execute_input": "2021-02-26T14:54:02.771431Z",
     "iopub.status.busy": "2021-02-26T14:54:02.770734Z",
     "iopub.status.idle": "2021-02-26T14:54:02.812142Z",
     "shell.execute_reply": "2021-02-26T14:54:02.812598Z"
    },
    "papermill": {
     "duration": 0.10002,
     "end_time": "2021-02-26T14:54:02.812780",
     "exception": false,
     "start_time": "2021-02-26T14:54:02.712760",
     "status": "completed"
    },
    "tags": []
   },
   "outputs": [
    {
     "data": {
      "text/html": [
       "<div>\n",
       "<style scoped>\n",
       "    .dataframe tbody tr th:only-of-type {\n",
       "        vertical-align: middle;\n",
       "    }\n",
       "\n",
       "    .dataframe tbody tr th {\n",
       "        vertical-align: top;\n",
       "    }\n",
       "\n",
       "    .dataframe thead th {\n",
       "        text-align: right;\n",
       "    }\n",
       "</style>\n",
       "<table border=\"1\" class=\"dataframe\">\n",
       "  <thead>\n",
       "    <tr style=\"text-align: right;\">\n",
       "      <th></th>\n",
       "      <th>job_level</th>\n",
       "      <th>job_duration_in_current_job_level</th>\n",
       "      <th>person_level</th>\n",
       "      <th>job_duration_in_current_branch</th>\n",
       "      <th>Employee_type</th>\n",
       "      <th>gender</th>\n",
       "      <th>age</th>\n",
       "      <th>marital_status_maried(Y/N)</th>\n",
       "      <th>number_of_dependences</th>\n",
       "      <th>Education_level</th>\n",
       "      <th>GPA</th>\n",
       "      <th>year_graduated</th>\n",
       "      <th>job_duration_from_training</th>\n",
       "      <th>branch_rotation</th>\n",
       "      <th>job_rotation</th>\n",
       "      <th>assign_of_otherposition</th>\n",
       "      <th>annual leave</th>\n",
       "      <th>sick_leaves</th>\n",
       "      <th>Last_achievement_%</th>\n",
       "      <th>Achievement_above_100%_during3quartal</th>\n",
       "      <th>Best Performance</th>\n",
       "      <th>rotation</th>\n",
       "      <th>age_year_graduated</th>\n",
       "    </tr>\n",
       "  </thead>\n",
       "  <tbody>\n",
       "    <tr>\n",
       "      <th>1</th>\n",
       "      <td>JG04</td>\n",
       "      <td>1.292285</td>\n",
       "      <td>PG03</td>\n",
       "      <td>1.039230</td>\n",
       "      <td>RM_type_A</td>\n",
       "      <td>2</td>\n",
       "      <td>1989</td>\n",
       "      <td>Y</td>\n",
       "      <td>0</td>\n",
       "      <td>level_1</td>\n",
       "      <td>7.28</td>\n",
       "      <td>2007</td>\n",
       "      <td>4</td>\n",
       "      <td>4</td>\n",
       "      <td>3</td>\n",
       "      <td>0</td>\n",
       "      <td>0</td>\n",
       "      <td>1</td>\n",
       "      <td>47.68</td>\n",
       "      <td>0.0</td>\n",
       "      <td>0</td>\n",
       "      <td>2.333333</td>\n",
       "      <td>18</td>\n",
       "    </tr>\n",
       "    <tr>\n",
       "      <th>2</th>\n",
       "      <td>JG05</td>\n",
       "      <td>2.565151</td>\n",
       "      <td>PG06</td>\n",
       "      <td>1.780449</td>\n",
       "      <td>RM_type_C</td>\n",
       "      <td>1</td>\n",
       "      <td>1970</td>\n",
       "      <td>Y</td>\n",
       "      <td>1</td>\n",
       "      <td>level_1</td>\n",
       "      <td>0.00</td>\n",
       "      <td>1989</td>\n",
       "      <td>28</td>\n",
       "      <td>10</td>\n",
       "      <td>9</td>\n",
       "      <td>6</td>\n",
       "      <td>2</td>\n",
       "      <td>1</td>\n",
       "      <td>40.73</td>\n",
       "      <td>0.0</td>\n",
       "      <td>0</td>\n",
       "      <td>8.333333</td>\n",
       "      <td>19</td>\n",
       "    </tr>\n",
       "    <tr>\n",
       "      <th>3</th>\n",
       "      <td>JG05</td>\n",
       "      <td>2.828427</td>\n",
       "      <td>PG06</td>\n",
       "      <td>1.385641</td>\n",
       "      <td>RM_type_A</td>\n",
       "      <td>2</td>\n",
       "      <td>1967</td>\n",
       "      <td>Y</td>\n",
       "      <td>2</td>\n",
       "      <td>level_1</td>\n",
       "      <td>0.00</td>\n",
       "      <td>1987</td>\n",
       "      <td>29</td>\n",
       "      <td>11</td>\n",
       "      <td>6</td>\n",
       "      <td>0</td>\n",
       "      <td>4</td>\n",
       "      <td>10</td>\n",
       "      <td>47.42</td>\n",
       "      <td>0.0</td>\n",
       "      <td>1</td>\n",
       "      <td>5.666667</td>\n",
       "      <td>20</td>\n",
       "    </tr>\n",
       "    <tr>\n",
       "      <th>4</th>\n",
       "      <td>JG05</td>\n",
       "      <td>2.828427</td>\n",
       "      <td>PG06</td>\n",
       "      <td>0.707107</td>\n",
       "      <td>RM_type_A</td>\n",
       "      <td>2</td>\n",
       "      <td>1965</td>\n",
       "      <td>Y</td>\n",
       "      <td>3</td>\n",
       "      <td>level_1</td>\n",
       "      <td>7.20</td>\n",
       "      <td>1985</td>\n",
       "      <td>30</td>\n",
       "      <td>9</td>\n",
       "      <td>8</td>\n",
       "      <td>2</td>\n",
       "      <td>3</td>\n",
       "      <td>0</td>\n",
       "      <td>47.18</td>\n",
       "      <td>0.0</td>\n",
       "      <td>0</td>\n",
       "      <td>6.333333</td>\n",
       "      <td>20</td>\n",
       "    </tr>\n",
       "    <tr>\n",
       "      <th>5</th>\n",
       "      <td>JG05</td>\n",
       "      <td>2.828427</td>\n",
       "      <td>PG06</td>\n",
       "      <td>1.118034</td>\n",
       "      <td>RM_type_A</td>\n",
       "      <td>1</td>\n",
       "      <td>1971</td>\n",
       "      <td>Y</td>\n",
       "      <td>3</td>\n",
       "      <td>level_1</td>\n",
       "      <td>0.00</td>\n",
       "      <td>1990</td>\n",
       "      <td>28</td>\n",
       "      <td>7</td>\n",
       "      <td>9</td>\n",
       "      <td>4</td>\n",
       "      <td>0</td>\n",
       "      <td>0</td>\n",
       "      <td>48.46</td>\n",
       "      <td>0.0</td>\n",
       "      <td>0</td>\n",
       "      <td>6.666667</td>\n",
       "      <td>19</td>\n",
       "    </tr>\n",
       "    <tr>\n",
       "      <th>...</th>\n",
       "      <td>...</td>\n",
       "      <td>...</td>\n",
       "      <td>...</td>\n",
       "      <td>...</td>\n",
       "      <td>...</td>\n",
       "      <td>...</td>\n",
       "      <td>...</td>\n",
       "      <td>...</td>\n",
       "      <td>...</td>\n",
       "      <td>...</td>\n",
       "      <td>...</td>\n",
       "      <td>...</td>\n",
       "      <td>...</td>\n",
       "      <td>...</td>\n",
       "      <td>...</td>\n",
       "      <td>...</td>\n",
       "      <td>...</td>\n",
       "      <td>...</td>\n",
       "      <td>...</td>\n",
       "      <td>...</td>\n",
       "      <td>...</td>\n",
       "      <td>...</td>\n",
       "      <td>...</td>\n",
       "    </tr>\n",
       "    <tr>\n",
       "      <th>136</th>\n",
       "      <td>JG05</td>\n",
       "      <td>2.828427</td>\n",
       "      <td>PG07</td>\n",
       "      <td>1.581139</td>\n",
       "      <td>RM_type_A</td>\n",
       "      <td>1</td>\n",
       "      <td>1966</td>\n",
       "      <td>Y</td>\n",
       "      <td>3</td>\n",
       "      <td>level_1</td>\n",
       "      <td>0.00</td>\n",
       "      <td>1984</td>\n",
       "      <td>31</td>\n",
       "      <td>8</td>\n",
       "      <td>6</td>\n",
       "      <td>2</td>\n",
       "      <td>0</td>\n",
       "      <td>0</td>\n",
       "      <td>87.41</td>\n",
       "      <td>1.0</td>\n",
       "      <td>0</td>\n",
       "      <td>5.333333</td>\n",
       "      <td>18</td>\n",
       "    </tr>\n",
       "    <tr>\n",
       "      <th>137</th>\n",
       "      <td>JG05</td>\n",
       "      <td>2.858321</td>\n",
       "      <td>PG06</td>\n",
       "      <td>0.707107</td>\n",
       "      <td>RM_type_A</td>\n",
       "      <td>1</td>\n",
       "      <td>1966</td>\n",
       "      <td>Y</td>\n",
       "      <td>2</td>\n",
       "      <td>level_1</td>\n",
       "      <td>0.00</td>\n",
       "      <td>1986</td>\n",
       "      <td>31</td>\n",
       "      <td>13</td>\n",
       "      <td>9</td>\n",
       "      <td>0</td>\n",
       "      <td>0</td>\n",
       "      <td>0</td>\n",
       "      <td>64.19</td>\n",
       "      <td>0.0</td>\n",
       "      <td>1</td>\n",
       "      <td>7.333333</td>\n",
       "      <td>20</td>\n",
       "    </tr>\n",
       "    <tr>\n",
       "      <th>138</th>\n",
       "      <td>JG05</td>\n",
       "      <td>2.828427</td>\n",
       "      <td>PG06</td>\n",
       "      <td>0.707107</td>\n",
       "      <td>RM_type_A</td>\n",
       "      <td>1</td>\n",
       "      <td>1973</td>\n",
       "      <td>Y</td>\n",
       "      <td>1</td>\n",
       "      <td>level_1</td>\n",
       "      <td>13.43</td>\n",
       "      <td>1991</td>\n",
       "      <td>24</td>\n",
       "      <td>10</td>\n",
       "      <td>9</td>\n",
       "      <td>1</td>\n",
       "      <td>11</td>\n",
       "      <td>4</td>\n",
       "      <td>93.77</td>\n",
       "      <td>2.0</td>\n",
       "      <td>0</td>\n",
       "      <td>6.666667</td>\n",
       "      <td>18</td>\n",
       "    </tr>\n",
       "    <tr>\n",
       "      <th>139</th>\n",
       "      <td>JG05</td>\n",
       "      <td>2.828427</td>\n",
       "      <td>PG06</td>\n",
       "      <td>0.707107</td>\n",
       "      <td>RM_type_A</td>\n",
       "      <td>1</td>\n",
       "      <td>1970</td>\n",
       "      <td>Y</td>\n",
       "      <td>1</td>\n",
       "      <td>level_1</td>\n",
       "      <td>0.00</td>\n",
       "      <td>1989</td>\n",
       "      <td>27</td>\n",
       "      <td>15</td>\n",
       "      <td>8</td>\n",
       "      <td>0</td>\n",
       "      <td>2</td>\n",
       "      <td>1</td>\n",
       "      <td>75.70</td>\n",
       "      <td>0.0</td>\n",
       "      <td>0</td>\n",
       "      <td>7.666667</td>\n",
       "      <td>19</td>\n",
       "    </tr>\n",
       "    <tr>\n",
       "      <th>140</th>\n",
       "      <td>JG04</td>\n",
       "      <td>1.118034</td>\n",
       "      <td>PG03</td>\n",
       "      <td>0.959166</td>\n",
       "      <td>RM_type_A</td>\n",
       "      <td>2</td>\n",
       "      <td>1985</td>\n",
       "      <td>Y</td>\n",
       "      <td>2</td>\n",
       "      <td>level_1</td>\n",
       "      <td>0.00</td>\n",
       "      <td>2003</td>\n",
       "      <td>6</td>\n",
       "      <td>4</td>\n",
       "      <td>3</td>\n",
       "      <td>1</td>\n",
       "      <td>5</td>\n",
       "      <td>0</td>\n",
       "      <td>67.80</td>\n",
       "      <td>0.0</td>\n",
       "      <td>0</td>\n",
       "      <td>2.666667</td>\n",
       "      <td>18</td>\n",
       "    </tr>\n",
       "  </tbody>\n",
       "</table>\n",
       "<p>140 rows × 23 columns</p>\n",
       "</div>"
      ],
      "text/plain": [
       "    job_level  job_duration_in_current_job_level person_level  \\\n",
       "1        JG04                           1.292285         PG03   \n",
       "2        JG05                           2.565151         PG06   \n",
       "3        JG05                           2.828427         PG06   \n",
       "4        JG05                           2.828427         PG06   \n",
       "5        JG05                           2.828427         PG06   \n",
       "..        ...                                ...          ...   \n",
       "136      JG05                           2.828427         PG07   \n",
       "137      JG05                           2.858321         PG06   \n",
       "138      JG05                           2.828427         PG06   \n",
       "139      JG05                           2.828427         PG06   \n",
       "140      JG04                           1.118034         PG03   \n",
       "\n",
       "     job_duration_in_current_branch Employee_type  gender   age  \\\n",
       "1                          1.039230     RM_type_A       2  1989   \n",
       "2                          1.780449     RM_type_C       1  1970   \n",
       "3                          1.385641     RM_type_A       2  1967   \n",
       "4                          0.707107     RM_type_A       2  1965   \n",
       "5                          1.118034     RM_type_A       1  1971   \n",
       "..                              ...           ...     ...   ...   \n",
       "136                        1.581139     RM_type_A       1  1966   \n",
       "137                        0.707107     RM_type_A       1  1966   \n",
       "138                        0.707107     RM_type_A       1  1973   \n",
       "139                        0.707107     RM_type_A       1  1970   \n",
       "140                        0.959166     RM_type_A       2  1985   \n",
       "\n",
       "    marital_status_maried(Y/N)  number_of_dependences Education_level    GPA  \\\n",
       "1                            Y                      0         level_1   7.28   \n",
       "2                            Y                      1         level_1   0.00   \n",
       "3                            Y                      2         level_1   0.00   \n",
       "4                            Y                      3         level_1   7.20   \n",
       "5                            Y                      3         level_1   0.00   \n",
       "..                         ...                    ...             ...    ...   \n",
       "136                          Y                      3         level_1   0.00   \n",
       "137                          Y                      2         level_1   0.00   \n",
       "138                          Y                      1         level_1  13.43   \n",
       "139                          Y                      1         level_1   0.00   \n",
       "140                          Y                      2         level_1   0.00   \n",
       "\n",
       "     year_graduated  job_duration_from_training  branch_rotation  \\\n",
       "1              2007                           4                4   \n",
       "2              1989                          28               10   \n",
       "3              1987                          29               11   \n",
       "4              1985                          30                9   \n",
       "5              1990                          28                7   \n",
       "..              ...                         ...              ...   \n",
       "136            1984                          31                8   \n",
       "137            1986                          31               13   \n",
       "138            1991                          24               10   \n",
       "139            1989                          27               15   \n",
       "140            2003                           6                4   \n",
       "\n",
       "     job_rotation  assign_of_otherposition  annual leave  sick_leaves  \\\n",
       "1               3                        0             0            1   \n",
       "2               9                        6             2            1   \n",
       "3               6                        0             4           10   \n",
       "4               8                        2             3            0   \n",
       "5               9                        4             0            0   \n",
       "..            ...                      ...           ...          ...   \n",
       "136             6                        2             0            0   \n",
       "137             9                        0             0            0   \n",
       "138             9                        1            11            4   \n",
       "139             8                        0             2            1   \n",
       "140             3                        1             5            0   \n",
       "\n",
       "     Last_achievement_%  Achievement_above_100%_during3quartal  \\\n",
       "1                 47.68                                    0.0   \n",
       "2                 40.73                                    0.0   \n",
       "3                 47.42                                    0.0   \n",
       "4                 47.18                                    0.0   \n",
       "5                 48.46                                    0.0   \n",
       "..                  ...                                    ...   \n",
       "136               87.41                                    1.0   \n",
       "137               64.19                                    0.0   \n",
       "138               93.77                                    2.0   \n",
       "139               75.70                                    0.0   \n",
       "140               67.80                                    0.0   \n",
       "\n",
       "     Best Performance  rotation  age_year_graduated  \n",
       "1                   0  2.333333                  18  \n",
       "2                   0  8.333333                  19  \n",
       "3                   1  5.666667                  20  \n",
       "4                   0  6.333333                  20  \n",
       "5                   0  6.666667                  19  \n",
       "..                ...       ...                 ...  \n",
       "136                 0  5.333333                  18  \n",
       "137                 1  7.333333                  20  \n",
       "138                 0  6.666667                  18  \n",
       "139                 0  7.666667                  19  \n",
       "140                 0  2.666667                  18  \n",
       "\n",
       "[140 rows x 23 columns]"
      ]
     },
     "execution_count": 10,
     "metadata": {},
     "output_type": "execute_result"
    }
   ],
   "source": [
    "df_train.loc[(df_train['Education_level']=='level_1')]"
   ]
  },
  {
   "cell_type": "code",
   "execution_count": 11,
   "metadata": {
    "execution": {
     "iopub.execute_input": "2021-02-26T14:54:02.946441Z",
     "iopub.status.busy": "2021-02-26T14:54:02.945714Z",
     "iopub.status.idle": "2021-02-26T14:54:02.950353Z",
     "shell.execute_reply": "2021-02-26T14:54:02.949843Z"
    },
    "papermill": {
     "duration": 0.084482,
     "end_time": "2021-02-26T14:54:02.950500",
     "exception": false,
     "start_time": "2021-02-26T14:54:02.866018",
     "status": "completed"
    },
    "tags": []
   },
   "outputs": [
    {
     "data": {
      "text/html": [
       "<div>\n",
       "<style scoped>\n",
       "    .dataframe tbody tr th:only-of-type {\n",
       "        vertical-align: middle;\n",
       "    }\n",
       "\n",
       "    .dataframe tbody tr th {\n",
       "        vertical-align: top;\n",
       "    }\n",
       "\n",
       "    .dataframe thead th {\n",
       "        text-align: right;\n",
       "    }\n",
       "</style>\n",
       "<table border=\"1\" class=\"dataframe\">\n",
       "  <thead>\n",
       "    <tr style=\"text-align: right;\">\n",
       "      <th></th>\n",
       "      <th>job_level</th>\n",
       "      <th>job_duration_in_current_job_level</th>\n",
       "      <th>person_level</th>\n",
       "      <th>job_duration_in_current_branch</th>\n",
       "      <th>Employee_type</th>\n",
       "      <th>gender</th>\n",
       "      <th>age</th>\n",
       "      <th>marital_status_maried(Y/N)</th>\n",
       "      <th>number_of_dependences</th>\n",
       "      <th>Education_level</th>\n",
       "      <th>GPA</th>\n",
       "      <th>year_graduated</th>\n",
       "      <th>job_duration_from_training</th>\n",
       "      <th>branch_rotation</th>\n",
       "      <th>job_rotation</th>\n",
       "      <th>assign_of_otherposition</th>\n",
       "      <th>annual leave</th>\n",
       "      <th>sick_leaves</th>\n",
       "      <th>Last_achievement_%</th>\n",
       "      <th>Achievement_above_100%_during3quartal</th>\n",
       "      <th>Best Performance</th>\n",
       "      <th>rotation</th>\n",
       "      <th>age_year_graduated</th>\n",
       "    </tr>\n",
       "  </thead>\n",
       "  <tbody>\n",
       "    <tr>\n",
       "      <th>141</th>\n",
       "      <td>JG04</td>\n",
       "      <td>1.118034</td>\n",
       "      <td>PG03</td>\n",
       "      <td>0.707107</td>\n",
       "      <td>RM_type_B</td>\n",
       "      <td>1</td>\n",
       "      <td>1995</td>\n",
       "      <td>Y</td>\n",
       "      <td>1</td>\n",
       "      <td>level_2</td>\n",
       "      <td>0.00</td>\n",
       "      <td>2014</td>\n",
       "      <td>3</td>\n",
       "      <td>2</td>\n",
       "      <td>2</td>\n",
       "      <td>1</td>\n",
       "      <td>3</td>\n",
       "      <td>1</td>\n",
       "      <td>23.77</td>\n",
       "      <td>0.0</td>\n",
       "      <td>0</td>\n",
       "      <td>1.666667</td>\n",
       "      <td>19</td>\n",
       "    </tr>\n",
       "    <tr>\n",
       "      <th>142</th>\n",
       "      <td>JG04</td>\n",
       "      <td>1.292285</td>\n",
       "      <td>PG03</td>\n",
       "      <td>0.707107</td>\n",
       "      <td>RM_type_B</td>\n",
       "      <td>2</td>\n",
       "      <td>1988</td>\n",
       "      <td>Y</td>\n",
       "      <td>1</td>\n",
       "      <td>level_2</td>\n",
       "      <td>3.01</td>\n",
       "      <td>2010</td>\n",
       "      <td>4</td>\n",
       "      <td>3</td>\n",
       "      <td>3</td>\n",
       "      <td>0</td>\n",
       "      <td>3</td>\n",
       "      <td>3</td>\n",
       "      <td>70.29</td>\n",
       "      <td>0.0</td>\n",
       "      <td>0</td>\n",
       "      <td>2.000000</td>\n",
       "      <td>22</td>\n",
       "    </tr>\n",
       "    <tr>\n",
       "      <th>143</th>\n",
       "      <td>JG04</td>\n",
       "      <td>2.828427</td>\n",
       "      <td>PG04</td>\n",
       "      <td>0.707107</td>\n",
       "      <td>RM_type_A</td>\n",
       "      <td>1</td>\n",
       "      <td>1972</td>\n",
       "      <td>Y</td>\n",
       "      <td>2</td>\n",
       "      <td>level_2</td>\n",
       "      <td>0.00</td>\n",
       "      <td>2003</td>\n",
       "      <td>24</td>\n",
       "      <td>9</td>\n",
       "      <td>7</td>\n",
       "      <td>0</td>\n",
       "      <td>2</td>\n",
       "      <td>1</td>\n",
       "      <td>63.95</td>\n",
       "      <td>0.0</td>\n",
       "      <td>0</td>\n",
       "      <td>5.333333</td>\n",
       "      <td>31</td>\n",
       "    </tr>\n",
       "    <tr>\n",
       "      <th>144</th>\n",
       "      <td>JG04</td>\n",
       "      <td>2.828427</td>\n",
       "      <td>PG04</td>\n",
       "      <td>1.000000</td>\n",
       "      <td>RM_type_A</td>\n",
       "      <td>2</td>\n",
       "      <td>1978</td>\n",
       "      <td>Y</td>\n",
       "      <td>2</td>\n",
       "      <td>level_2</td>\n",
       "      <td>3.01</td>\n",
       "      <td>1998</td>\n",
       "      <td>18</td>\n",
       "      <td>8</td>\n",
       "      <td>7</td>\n",
       "      <td>4</td>\n",
       "      <td>4</td>\n",
       "      <td>0</td>\n",
       "      <td>78.54</td>\n",
       "      <td>0.0</td>\n",
       "      <td>0</td>\n",
       "      <td>6.333333</td>\n",
       "      <td>20</td>\n",
       "    </tr>\n",
       "  </tbody>\n",
       "</table>\n",
       "</div>"
      ],
      "text/plain": [
       "    job_level  job_duration_in_current_job_level person_level  \\\n",
       "141      JG04                           1.118034         PG03   \n",
       "142      JG04                           1.292285         PG03   \n",
       "143      JG04                           2.828427         PG04   \n",
       "144      JG04                           2.828427         PG04   \n",
       "\n",
       "     job_duration_in_current_branch Employee_type  gender   age  \\\n",
       "141                        0.707107     RM_type_B       1  1995   \n",
       "142                        0.707107     RM_type_B       2  1988   \n",
       "143                        0.707107     RM_type_A       1  1972   \n",
       "144                        1.000000     RM_type_A       2  1978   \n",
       "\n",
       "    marital_status_maried(Y/N)  number_of_dependences Education_level   GPA  \\\n",
       "141                          Y                      1         level_2  0.00   \n",
       "142                          Y                      1         level_2  3.01   \n",
       "143                          Y                      2         level_2  0.00   \n",
       "144                          Y                      2         level_2  3.01   \n",
       "\n",
       "     year_graduated  job_duration_from_training  branch_rotation  \\\n",
       "141            2014                           3                2   \n",
       "142            2010                           4                3   \n",
       "143            2003                          24                9   \n",
       "144            1998                          18                8   \n",
       "\n",
       "     job_rotation  assign_of_otherposition  annual leave  sick_leaves  \\\n",
       "141             2                        1             3            1   \n",
       "142             3                        0             3            3   \n",
       "143             7                        0             2            1   \n",
       "144             7                        4             4            0   \n",
       "\n",
       "     Last_achievement_%  Achievement_above_100%_during3quartal  \\\n",
       "141               23.77                                    0.0   \n",
       "142               70.29                                    0.0   \n",
       "143               63.95                                    0.0   \n",
       "144               78.54                                    0.0   \n",
       "\n",
       "     Best Performance  rotation  age_year_graduated  \n",
       "141                 0  1.666667                  19  \n",
       "142                 0  2.000000                  22  \n",
       "143                 0  5.333333                  31  \n",
       "144                 0  6.333333                  20  "
      ]
     },
     "execution_count": 11,
     "metadata": {},
     "output_type": "execute_result"
    }
   ],
   "source": [
    "#df_train.loc[(df_train['Education_level']=='level_1')]\n",
    "df_train.loc[(df_train['Education_level']=='level_2')].head()\n",
    "#kok urut indexnya wkwkwk lmao????????????????"
   ]
  },
  {
   "cell_type": "code",
   "execution_count": 12,
   "metadata": {
    "execution": {
     "iopub.execute_input": "2021-02-26T14:54:03.065730Z",
     "iopub.status.busy": "2021-02-26T14:54:03.064901Z",
     "iopub.status.idle": "2021-02-26T14:54:03.071037Z",
     "shell.execute_reply": "2021-02-26T14:54:03.070428Z"
    },
    "papermill": {
     "duration": 0.067085,
     "end_time": "2021-02-26T14:54:03.071206",
     "exception": false,
     "start_time": "2021-02-26T14:54:03.004121",
     "status": "completed"
    },
    "tags": []
   },
   "outputs": [],
   "source": [
    "#drop education level\n",
    "df_train = df_train.drop(['Education_level'], axis=1)\n",
    "df_test = df_test.drop(['Education_level'], axis=1)"
   ]
  },
  {
   "cell_type": "code",
   "execution_count": 13,
   "metadata": {
    "execution": {
     "iopub.execute_input": "2021-02-26T14:54:03.197805Z",
     "iopub.status.busy": "2021-02-26T14:54:03.192878Z",
     "iopub.status.idle": "2021-02-26T14:54:03.201228Z",
     "shell.execute_reply": "2021-02-26T14:54:03.201716Z"
    },
    "papermill": {
     "duration": 0.076542,
     "end_time": "2021-02-26T14:54:03.201930",
     "exception": false,
     "start_time": "2021-02-26T14:54:03.125388",
     "status": "completed"
    },
    "tags": []
   },
   "outputs": [],
   "source": [
    "numbers = df_train.age\n",
    "age_numbers = [2020 - number for number in numbers]\n",
    "df_train.age = age_numbers\n",
    "\n",
    "num = df_test.age\n",
    "age_num = [2020 - x for x in num]\n",
    "df_test.age = age_num"
   ]
  },
  {
   "cell_type": "code",
   "execution_count": 14,
   "metadata": {
    "execution": {
     "iopub.execute_input": "2021-02-26T14:54:03.329028Z",
     "iopub.status.busy": "2021-02-26T14:54:03.328357Z",
     "iopub.status.idle": "2021-02-26T14:54:03.331394Z",
     "shell.execute_reply": "2021-02-26T14:54:03.330855Z"
    },
    "papermill": {
     "duration": 0.075587,
     "end_time": "2021-02-26T14:54:03.331537",
     "exception": false,
     "start_time": "2021-02-26T14:54:03.255950",
     "status": "completed"
    },
    "tags": []
   },
   "outputs": [],
   "source": [
    "numbers1 = df_train.year_graduated\n",
    "age_numbers1 = [2020 - number for number in numbers1]\n",
    "df_train.year_graduated = age_numbers1\n",
    "\n",
    "num1 = df_test.year_graduated\n",
    "age_num1 = [2020 - x for x in num1]\n",
    "df_test.year_graduated = age_num1"
   ]
  },
  {
   "cell_type": "code",
   "execution_count": 15,
   "metadata": {
    "execution": {
     "iopub.execute_input": "2021-02-26T14:54:03.449110Z",
     "iopub.status.busy": "2021-02-26T14:54:03.448203Z",
     "iopub.status.idle": "2021-02-26T14:54:03.461340Z",
     "shell.execute_reply": "2021-02-26T14:54:03.460557Z"
    },
    "papermill": {
     "duration": 0.076027,
     "end_time": "2021-02-26T14:54:03.461509",
     "exception": false,
     "start_time": "2021-02-26T14:54:03.385482",
     "status": "completed"
    },
    "tags": []
   },
   "outputs": [],
   "source": [
    "#change GPA 4.1-41 Train\n",
    "column_name = 'GPA'\n",
    "\n",
    "mask1 = (df_train.GPA >= 4.1) & (df_train.GPA <= 41)\n",
    "df_train.loc[mask1, column_name] = df_train.GPA / 10\n",
    "\n",
    "#change GPA 41-410 Train\n",
    "\n",
    "mask2 = (df_train.GPA >= 41) & (df_train.GPA <= 410)\n",
    "df_train.loc[mask2, column_name] = df_train.GPA / 100\n",
    "\n",
    "#change GPA 4.1-41 Test\n",
    "\n",
    "mask3 = (df_test.GPA >= 4.1) & (df_test.GPA <= 41)\n",
    "df_test.loc[mask3, column_name] = df_test.GPA / 10\n",
    "\n",
    "#change GPA 41-410 Test\n",
    "\n",
    "mask4 = (df_test.GPA >= 41) & (df_test.GPA <= 410)\n",
    "df_test.loc[mask4, column_name] = df_test.GPA / 100"
   ]
  },
  {
   "cell_type": "code",
   "execution_count": 16,
   "metadata": {
    "execution": {
     "iopub.execute_input": "2021-02-26T14:54:03.579861Z",
     "iopub.status.busy": "2021-02-26T14:54:03.579058Z",
     "iopub.status.idle": "2021-02-26T14:54:03.581635Z",
     "shell.execute_reply": "2021-02-26T14:54:03.582261Z"
    },
    "papermill": {
     "duration": 0.066939,
     "end_time": "2021-02-26T14:54:03.582447",
     "exception": false,
     "start_time": "2021-02-26T14:54:03.515508",
     "status": "completed"
    },
    "tags": []
   },
   "outputs": [],
   "source": [
    "#df_train['Last_achievement_%'] = df_train['Last_achievement_%'] / 100\n",
    "#df_test['Last_achievement_%'] = df_test['Last_achievement_%'] / 100"
   ]
  },
  {
   "cell_type": "code",
   "execution_count": 17,
   "metadata": {
    "execution": {
     "iopub.execute_input": "2021-02-26T14:54:03.730319Z",
     "iopub.status.busy": "2021-02-26T14:54:03.729188Z",
     "iopub.status.idle": "2021-02-26T14:54:03.737636Z",
     "shell.execute_reply": "2021-02-26T14:54:03.738129Z"
    },
    "papermill": {
     "duration": 0.078774,
     "end_time": "2021-02-26T14:54:03.738316",
     "exception": false,
     "start_time": "2021-02-26T14:54:03.659542",
     "status": "completed"
    },
    "tags": []
   },
   "outputs": [],
   "source": [
    "df_train['quantile_current_branch'] = pd.qcut(df_train['job_duration_in_current_branch'],\n",
    "                              q=[0, .2, .4, .6, .8, 1],\n",
    "                              labels=False,\n",
    "                            duplicates='drop')\n",
    "df_test['quantile_current_branch'] = pd.qcut(df_test['job_duration_in_current_branch'],\n",
    "                              q=[0, .2, .4, .6, .8, 1],\n",
    "                              labels=False,\n",
    "                            duplicates='drop')"
   ]
  },
  {
   "cell_type": "code",
   "execution_count": 18,
   "metadata": {
    "execution": {
     "iopub.execute_input": "2021-02-26T14:54:03.870256Z",
     "iopub.status.busy": "2021-02-26T14:54:03.869543Z",
     "iopub.status.idle": "2021-02-26T14:54:03.872803Z",
     "shell.execute_reply": "2021-02-26T14:54:03.872147Z"
    },
    "papermill": {
     "duration": 0.080961,
     "end_time": "2021-02-26T14:54:03.872969",
     "exception": false,
     "start_time": "2021-02-26T14:54:03.792008",
     "status": "completed"
    },
    "tags": []
   },
   "outputs": [],
   "source": [
    "jblv1 = 'job_level'\n",
    "\n",
    "filt = df_train[jblv1] == 'JG03'\n",
    "df_train.loc[filt, jblv1] = 0\n",
    "\n",
    "filt2 = (df_train[jblv1] == 'JG04')\n",
    "df_train.loc[filt2, jblv1] = 1\n",
    "\n",
    "filt3 = (df_train[jblv1] == 'JG05')\n",
    "df_train.loc[filt3, jblv1] = 2\n",
    "\n",
    "#test\n",
    "\n",
    "j11 = 'job_level'\n",
    "\n",
    "filt1 = df_test[j11] == 'JG03'\n",
    "df_test.loc[filt1, j11] = 0\n",
    "\n",
    "filt22 = (df_test[j11] == 'JG04')\n",
    "df_test.loc[filt22, j11] = 1\n",
    "\n",
    "filt33 = (df_test[j11] == 'JG05')\n",
    "df_test.loc[filt33, j11] = 2\n",
    "\n",
    "filt44 = (df_test[j11] == 'JG06')\n",
    "df_test.loc[filt44, j11] = 2"
   ]
  },
  {
   "cell_type": "code",
   "execution_count": 19,
   "metadata": {
    "execution": {
     "iopub.execute_input": "2021-02-26T14:54:04.029604Z",
     "iopub.status.busy": "2021-02-26T14:54:04.028914Z",
     "iopub.status.idle": "2021-02-26T14:54:04.032762Z",
     "shell.execute_reply": "2021-02-26T14:54:04.032129Z"
    },
    "papermill": {
     "duration": 0.10616,
     "end_time": "2021-02-26T14:54:04.032925",
     "exception": false,
     "start_time": "2021-02-26T14:54:03.926765",
     "status": "completed"
    },
    "tags": []
   },
   "outputs": [],
   "source": [
    "perlv1 = 'person_level'\n",
    "\n",
    "filt = df_train[perlv1] == 'PG01'\n",
    "df_train.loc[filt, perlv1] = 0\n",
    "filt2 = (df_train[perlv1] == 'PG02')\n",
    "df_train.loc[filt2, perlv1] = 1\n",
    "filt3 = (df_train[perlv1] == 'PG03')\n",
    "df_train.loc[filt3, perlv1] = 2\n",
    "filt4 = (df_train[perlv1] == 'PG04')\n",
    "df_train.loc[filt4, perlv1] = 3\n",
    "filt5 = (df_train[perlv1] == 'PG05')\n",
    "df_train.loc[filt5, perlv1] = 4\n",
    "filt6 = (df_train[perlv1] == 'PG06')\n",
    "df_train.loc[filt6, perlv1] = 5\n",
    "filt7 = (df_train[perlv1] == 'PG07')\n",
    "df_train.loc[filt7, perlv1] = 6\n",
    "filt8 = (df_train[perlv1] == 'PG08')\n",
    "df_train.loc[filt8, perlv1] = 7\n",
    "\n",
    "#test\n",
    "filt = df_test[perlv1] == 'PG01'\n",
    "df_test.loc[filt, perlv1] = 0\n",
    "filt2 = (df_test[perlv1] == 'PG02')\n",
    "df_test.loc[filt2, perlv1] = 1\n",
    "filt3 = (df_test[perlv1] == 'PG03')\n",
    "df_test.loc[filt3, perlv1] = 2\n",
    "filt4 = (df_test[perlv1] == 'PG04')\n",
    "df_test.loc[filt4, perlv1] = 3\n",
    "filt5 = (df_test[perlv1] == 'PG05')\n",
    "df_test.loc[filt5, perlv1] = 4\n",
    "filt6 = (df_test[perlv1] == 'PG06')\n",
    "df_test.loc[filt6, perlv1] = 5\n",
    "filt7 = (df_test[perlv1] == 'PG07')\n",
    "df_test.loc[filt7, perlv1] = 6\n",
    "filt8 = (df_test[perlv1] == 'PG08')\n",
    "df_test.loc[filt8, perlv1] = 7"
   ]
  },
  {
   "cell_type": "code",
   "execution_count": 20,
   "metadata": {
    "execution": {
     "iopub.execute_input": "2021-02-26T14:54:04.150701Z",
     "iopub.status.busy": "2021-02-26T14:54:04.149981Z",
     "iopub.status.idle": "2021-02-26T14:54:04.164960Z",
     "shell.execute_reply": "2021-02-26T14:54:04.164216Z"
    },
    "papermill": {
     "duration": 0.078499,
     "end_time": "2021-02-26T14:54:04.165130",
     "exception": false,
     "start_time": "2021-02-26T14:54:04.086631",
     "status": "completed"
    },
    "tags": []
   },
   "outputs": [],
   "source": [
    "emptype1 = 'Employee_type'\n",
    "\n",
    "filt = df_train[emptype1] == 'RM_type_C'\n",
    "df_train.loc[filt, emptype1] = 0\n",
    "\n",
    "filt2 = (df_train[emptype1] == 'RM_type_B')\n",
    "df_train.loc[filt2, emptype1] = 1\n",
    "\n",
    "filt3 = (df_train[emptype1] == 'RM_type_A')\n",
    "df_train.loc[filt3, emptype1] = 2\n",
    "\n",
    "#test\n",
    "filt = df_test[emptype1] == 'RM_type_C'\n",
    "df_test.loc[filt, emptype1] = 0\n",
    "\n",
    "filt2 = (df_test[emptype1] == 'RM_type_B')\n",
    "df_test.loc[filt2, emptype1] = 1\n",
    "\n",
    "filt3 = (df_test[emptype1] == 'RM_type_A')\n",
    "df_test.loc[filt3, emptype1] = 2"
   ]
  },
  {
   "cell_type": "code",
   "execution_count": 21,
   "metadata": {
    "execution": {
     "iopub.execute_input": "2021-02-26T14:54:04.276281Z",
     "iopub.status.busy": "2021-02-26T14:54:04.275600Z",
     "iopub.status.idle": "2021-02-26T14:54:04.290606Z",
     "shell.execute_reply": "2021-02-26T14:54:04.291188Z"
    },
    "papermill": {
     "duration": 0.072163,
     "end_time": "2021-02-26T14:54:04.291378",
     "exception": false,
     "start_time": "2021-02-26T14:54:04.219215",
     "status": "completed"
    },
    "tags": []
   },
   "outputs": [],
   "source": [
    "mrtsts1 = 'marital_status_maried(Y/N)'\n",
    "\n",
    "filt = df_train[mrtsts1] == 'Y'\n",
    "df_train.loc[filt, mrtsts1] = 1\n",
    "\n",
    "filt2 = (df_train[mrtsts1] == 'N')\n",
    "df_train.loc[filt2, mrtsts1] = 0\n",
    "\n",
    "filt = df_test[mrtsts1] == 'Y'\n",
    "df_test.loc[filt, mrtsts1] = 1\n",
    "\n",
    "filt2 = (df_test[mrtsts1] == 'N')\n",
    "df_test.loc[filt2, mrtsts1] = 0\n"
   ]
  },
  {
   "cell_type": "code",
   "execution_count": 22,
   "metadata": {
    "execution": {
     "iopub.execute_input": "2021-02-26T14:54:04.406240Z",
     "iopub.status.busy": "2021-02-26T14:54:04.405331Z",
     "iopub.status.idle": "2021-02-26T14:54:04.408550Z",
     "shell.execute_reply": "2021-02-26T14:54:04.407974Z"
    },
    "papermill": {
     "duration": 0.063344,
     "end_time": "2021-02-26T14:54:04.408705",
     "exception": false,
     "start_time": "2021-02-26T14:54:04.345361",
     "status": "completed"
    },
    "tags": []
   },
   "outputs": [],
   "source": [
    "#df_features\n",
    "binary_var = ['gender','marital_status_maried(Y/N)']\n",
    "nominal = ['age','year_graduated',\n",
    "           'job_duration_in_current_job_level',\n",
    "           #'job_duration_in_current_person_level',\n",
    "           'job_duration_in_current_branch',           \n",
    "           'GPA',\n",
    "           'job_duration_from_training',\n",
    "           'branch_rotation',\n",
    "           'job_rotation',\n",
    "           'assign_of_otherposition',\n",
    "           'number_of_dependences',\n",
    "           'annual leave',\n",
    "           'sick_leaves',\n",
    "           'Last_achievement_%',\n",
    "           'Achievement_above_100%_during3quartal',\n",
    "           'rotation',\n",
    "           'age_year_graduated',\n",
    "          ]\n",
    "ordinal = ['job_level',\n",
    "           'person_level',\n",
    "           'Employee_type',           \n",
    "           #'Education_level',\n",
    "          ]\n",
    "cols = binary_var + nominal + ordinal"
   ]
  },
  {
   "cell_type": "code",
   "execution_count": 23,
   "metadata": {
    "execution": {
     "iopub.execute_input": "2021-02-26T14:54:04.523412Z",
     "iopub.status.busy": "2021-02-26T14:54:04.522747Z",
     "iopub.status.idle": "2021-02-26T14:54:04.530975Z",
     "shell.execute_reply": "2021-02-26T14:54:04.530435Z"
    },
    "papermill": {
     "duration": 0.067886,
     "end_time": "2021-02-26T14:54:04.531179",
     "exception": false,
     "start_time": "2021-02-26T14:54:04.463293",
     "status": "completed"
    },
    "tags": []
   },
   "outputs": [],
   "source": [
    "y = df_train['Best Performance'].values\n",
    "X = df_train[cols]\n",
    "Xt = df_test[cols]"
   ]
  },
  {
   "cell_type": "code",
   "execution_count": 24,
   "metadata": {
    "execution": {
     "iopub.execute_input": "2021-02-26T14:54:04.650287Z",
     "iopub.status.busy": "2021-02-26T14:54:04.649560Z",
     "iopub.status.idle": "2021-02-26T14:54:04.664931Z",
     "shell.execute_reply": "2021-02-26T14:54:04.664010Z"
    },
    "papermill": {
     "duration": 0.079818,
     "end_time": "2021-02-26T14:54:04.665142",
     "exception": false,
     "start_time": "2021-02-26T14:54:04.585324",
     "status": "completed"
    },
    "tags": []
   },
   "outputs": [
    {
     "name": "stdout",
     "output_type": "stream",
     "text": [
      "<class 'pandas.core.frame.DataFrame'>\n",
      "RangeIndex: 11153 entries, 0 to 11152\n",
      "Data columns (total 21 columns):\n",
      " #   Column                                 Non-Null Count  Dtype  \n",
      "---  ------                                 --------------  -----  \n",
      " 0   gender                                 11153 non-null  int64  \n",
      " 1   marital_status_maried(Y/N)             11153 non-null  object \n",
      " 2   age                                    11153 non-null  int64  \n",
      " 3   year_graduated                         11153 non-null  int64  \n",
      " 4   job_duration_in_current_job_level      11153 non-null  float64\n",
      " 5   job_duration_in_current_branch         11153 non-null  float64\n",
      " 6   GPA                                    11153 non-null  float64\n",
      " 7   job_duration_from_training             11153 non-null  int64  \n",
      " 8   branch_rotation                        11153 non-null  int64  \n",
      " 9   job_rotation                           11153 non-null  int64  \n",
      " 10  assign_of_otherposition                11153 non-null  int64  \n",
      " 11  number_of_dependences                  11153 non-null  int64  \n",
      " 12  annual leave                           11153 non-null  int64  \n",
      " 13  sick_leaves                            11153 non-null  int64  \n",
      " 14  Last_achievement_%                     11152 non-null  float64\n",
      " 15  Achievement_above_100%_during3quartal  11152 non-null  float64\n",
      " 16  rotation                               11153 non-null  float64\n",
      " 17  age_year_graduated                     11153 non-null  int64  \n",
      " 18  job_level                              11153 non-null  object \n",
      " 19  person_level                           11153 non-null  object \n",
      " 20  Employee_type                          11153 non-null  object \n",
      "dtypes: float64(6), int64(11), object(4)\n",
      "memory usage: 1.8+ MB\n"
     ]
    }
   ],
   "source": [
    "X.info()"
   ]
  },
  {
   "cell_type": "markdown",
   "metadata": {
    "papermill": {
     "duration": 0.053223,
     "end_time": "2021-02-26T14:54:04.773222",
     "exception": false,
     "start_time": "2021-02-26T14:54:04.719999",
     "status": "completed"
    },
    "tags": []
   },
   "source": [
    "# **Scaling**"
   ]
  },
  {
   "cell_type": "code",
   "execution_count": 25,
   "metadata": {
    "execution": {
     "iopub.execute_input": "2021-02-26T14:54:04.886571Z",
     "iopub.status.busy": "2021-02-26T14:54:04.885876Z",
     "iopub.status.idle": "2021-02-26T14:54:04.936939Z",
     "shell.execute_reply": "2021-02-26T14:54:04.935003Z"
    },
    "papermill": {
     "duration": 0.109878,
     "end_time": "2021-02-26T14:54:04.937110",
     "exception": false,
     "start_time": "2021-02-26T14:54:04.827232",
     "status": "completed"
    },
    "tags": []
   },
   "outputs": [
    {
     "name": "stderr",
     "output_type": "stream",
     "text": [
      "/opt/conda/lib/python3.7/site-packages/ipykernel_launcher.py:4: SettingWithCopyWarning: \n",
      "A value is trying to be set on a copy of a slice from a DataFrame.\n",
      "Try using .loc[row_indexer,col_indexer] = value instead\n",
      "\n",
      "See the caveats in the documentation: https://pandas.pydata.org/pandas-docs/stable/user_guide/indexing.html#returning-a-view-versus-a-copy\n",
      "  after removing the cwd from sys.path.\n",
      "/opt/conda/lib/python3.7/site-packages/pandas/core/indexing.py:1737: SettingWithCopyWarning: \n",
      "A value is trying to be set on a copy of a slice from a DataFrame.\n",
      "Try using .loc[row_indexer,col_indexer] = value instead\n",
      "\n",
      "See the caveats in the documentation: https://pandas.pydata.org/pandas-docs/stable/user_guide/indexing.html#returning-a-view-versus-a-copy\n",
      "  self._setitem_single_column(loc, value[:, i].tolist(), pi)\n",
      "/opt/conda/lib/python3.7/site-packages/ipykernel_launcher.py:5: SettingWithCopyWarning: \n",
      "A value is trying to be set on a copy of a slice from a DataFrame.\n",
      "Try using .loc[row_indexer,col_indexer] = value instead\n",
      "\n",
      "See the caveats in the documentation: https://pandas.pydata.org/pandas-docs/stable/user_guide/indexing.html#returning-a-view-versus-a-copy\n",
      "  \"\"\"\n",
      "/opt/conda/lib/python3.7/site-packages/pandas/core/indexing.py:1737: SettingWithCopyWarning: \n",
      "A value is trying to be set on a copy of a slice from a DataFrame.\n",
      "Try using .loc[row_indexer,col_indexer] = value instead\n",
      "\n",
      "See the caveats in the documentation: https://pandas.pydata.org/pandas-docs/stable/user_guide/indexing.html#returning-a-view-versus-a-copy\n",
      "  self._setitem_single_column(loc, value[:, i].tolist(), pi)\n"
     ]
    }
   ],
   "source": [
    "from sklearn.preprocessing import MinMaxScaler\n",
    "\n",
    "# Min-max normalization\n",
    "X[ordinal] = MinMaxScaler().fit_transform(X[ordinal])\n",
    "Xt[ordinal] = MinMaxScaler().fit_transform(Xt[ordinal])"
   ]
  },
  {
   "cell_type": "code",
   "execution_count": 26,
   "metadata": {
    "execution": {
     "iopub.execute_input": "2021-02-26T14:54:05.053473Z",
     "iopub.status.busy": "2021-02-26T14:54:05.052273Z",
     "iopub.status.idle": "2021-02-26T14:54:05.068419Z",
     "shell.execute_reply": "2021-02-26T14:54:05.067682Z"
    },
    "papermill": {
     "duration": 0.075945,
     "end_time": "2021-02-26T14:54:05.068587",
     "exception": false,
     "start_time": "2021-02-26T14:54:04.992642",
     "status": "completed"
    },
    "tags": []
   },
   "outputs": [],
   "source": [
    "X = X.fillna(-999)\n",
    "Xt = Xt.fillna(-999)\n",
    "\n",
    "#X = X.apply(lambda x: x.fillna(x.mean()),axis=0)\n",
    "#Xt = Xt.apply(lambda x: x.fillna(x.mean()),axis=0)"
   ]
  },
  {
   "cell_type": "markdown",
   "metadata": {
    "papermill": {
     "duration": 0.055251,
     "end_time": "2021-02-26T14:54:05.179369",
     "exception": false,
     "start_time": "2021-02-26T14:54:05.124118",
     "status": "completed"
    },
    "tags": []
   },
   "source": [
    "# **LABELING**"
   ]
  },
  {
   "cell_type": "code",
   "execution_count": 27,
   "metadata": {
    "execution": {
     "iopub.execute_input": "2021-02-26T14:54:05.301571Z",
     "iopub.status.busy": "2021-02-26T14:54:05.300433Z",
     "iopub.status.idle": "2021-02-26T14:54:05.445435Z",
     "shell.execute_reply": "2021-02-26T14:54:05.444868Z"
    },
    "papermill": {
     "duration": 0.211563,
     "end_time": "2021-02-26T14:54:05.445602",
     "exception": false,
     "start_time": "2021-02-26T14:54:05.234039",
     "status": "completed"
    },
    "tags": []
   },
   "outputs": [],
   "source": [
    "from sklearn.preprocessing import LabelEncoder\n",
    "for col in list(X):\n",
    "    if X[col].dtype=='O':\n",
    "        print(col)\n",
    "        X[col] = X[col].fillna('unseen_before_label')\n",
    "        Xt[col]  = Xt[col].fillna('unseen_before_label')\n",
    "        \n",
    "        X[col] = X[col].astype(str)\n",
    "        Xt[col] = Xt[col].astype(str)\n",
    "        \n",
    "        le = LabelEncoder()\n",
    "        le.fit(list(X[col])+list(Xt[col]))\n",
    "        X[col] = le.transform(X[col])\n",
    "        Xt[col]  = le.transform(Xt[col])\n",
    "    \n",
    "    elif col in nominal:\n",
    "        X[col] = X[col].astype(float).fillna(-999)\n",
    "        Xt[col]  = Xt[col].astype(float).fillna(-999)\n",
    "        \n",
    "        le = LabelEncoder()\n",
    "        le.fit(list(X[col])+list(Xt[col]))\n",
    "        X[col] = le.transform(X[col])\n",
    "        Xt[col]  = le.transform(Xt[col])"
   ]
  },
  {
   "cell_type": "code",
   "execution_count": 28,
   "metadata": {
    "execution": {
     "iopub.execute_input": "2021-02-26T14:54:05.582185Z",
     "iopub.status.busy": "2021-02-26T14:54:05.581492Z",
     "iopub.status.idle": "2021-02-26T14:54:05.585675Z",
     "shell.execute_reply": "2021-02-26T14:54:05.585163Z"
    },
    "papermill": {
     "duration": 0.085259,
     "end_time": "2021-02-26T14:54:05.585815",
     "exception": false,
     "start_time": "2021-02-26T14:54:05.500556",
     "status": "completed"
    },
    "tags": []
   },
   "outputs": [
    {
     "data": {
      "text/html": [
       "<div>\n",
       "<style scoped>\n",
       "    .dataframe tbody tr th:only-of-type {\n",
       "        vertical-align: middle;\n",
       "    }\n",
       "\n",
       "    .dataframe tbody tr th {\n",
       "        vertical-align: top;\n",
       "    }\n",
       "\n",
       "    .dataframe thead th {\n",
       "        text-align: right;\n",
       "    }\n",
       "</style>\n",
       "<table border=\"1\" class=\"dataframe\">\n",
       "  <thead>\n",
       "    <tr style=\"text-align: right;\">\n",
       "      <th></th>\n",
       "      <th>gender</th>\n",
       "      <th>marital_status_maried(Y/N)</th>\n",
       "      <th>age</th>\n",
       "      <th>year_graduated</th>\n",
       "      <th>job_duration_in_current_job_level</th>\n",
       "      <th>job_duration_in_current_branch</th>\n",
       "      <th>GPA</th>\n",
       "      <th>job_duration_from_training</th>\n",
       "      <th>branch_rotation</th>\n",
       "      <th>job_rotation</th>\n",
       "      <th>assign_of_otherposition</th>\n",
       "      <th>number_of_dependences</th>\n",
       "      <th>annual leave</th>\n",
       "      <th>sick_leaves</th>\n",
       "      <th>Last_achievement_%</th>\n",
       "      <th>Achievement_above_100%_during3quartal</th>\n",
       "      <th>rotation</th>\n",
       "      <th>age_year_graduated</th>\n",
       "      <th>job_level</th>\n",
       "      <th>person_level</th>\n",
       "      <th>Employee_type</th>\n",
       "    </tr>\n",
       "  </thead>\n",
       "  <tbody>\n",
       "    <tr>\n",
       "      <th>0</th>\n",
       "      <td>2</td>\n",
       "      <td>1</td>\n",
       "      <td>12</td>\n",
       "      <td>9</td>\n",
       "      <td>22</td>\n",
       "      <td>36</td>\n",
       "      <td>104</td>\n",
       "      <td>2</td>\n",
       "      <td>1</td>\n",
       "      <td>2</td>\n",
       "      <td>2</td>\n",
       "      <td>1</td>\n",
       "      <td>3</td>\n",
       "      <td>0</td>\n",
       "      <td>1185</td>\n",
       "      <td>1</td>\n",
       "      <td>5</td>\n",
       "      <td>9</td>\n",
       "      <td>0.5</td>\n",
       "      <td>0.285714</td>\n",
       "      <td>1.0</td>\n",
       "    </tr>\n",
       "    <tr>\n",
       "      <th>1</th>\n",
       "      <td>2</td>\n",
       "      <td>1</td>\n",
       "      <td>8</td>\n",
       "      <td>13</td>\n",
       "      <td>20</td>\n",
       "      <td>13</td>\n",
       "      <td>24</td>\n",
       "      <td>2</td>\n",
       "      <td>3</td>\n",
       "      <td>2</td>\n",
       "      <td>0</td>\n",
       "      <td>0</td>\n",
       "      <td>0</td>\n",
       "      <td>1</td>\n",
       "      <td>1298</td>\n",
       "      <td>1</td>\n",
       "      <td>5</td>\n",
       "      <td>1</td>\n",
       "      <td>0.5</td>\n",
       "      <td>0.285714</td>\n",
       "      <td>1.0</td>\n",
       "    </tr>\n",
       "    <tr>\n",
       "      <th>2</th>\n",
       "      <td>1</td>\n",
       "      <td>1</td>\n",
       "      <td>27</td>\n",
       "      <td>31</td>\n",
       "      <td>79</td>\n",
       "      <td>38</td>\n",
       "      <td>0</td>\n",
       "      <td>24</td>\n",
       "      <td>9</td>\n",
       "      <td>8</td>\n",
       "      <td>6</td>\n",
       "      <td>1</td>\n",
       "      <td>2</td>\n",
       "      <td>1</td>\n",
       "      <td>747</td>\n",
       "      <td>1</td>\n",
       "      <td>23</td>\n",
       "      <td>2</td>\n",
       "      <td>1.0</td>\n",
       "      <td>0.714286</td>\n",
       "      <td>0.0</td>\n",
       "    </tr>\n",
       "    <tr>\n",
       "      <th>3</th>\n",
       "      <td>2</td>\n",
       "      <td>1</td>\n",
       "      <td>30</td>\n",
       "      <td>33</td>\n",
       "      <td>96</td>\n",
       "      <td>23</td>\n",
       "      <td>0</td>\n",
       "      <td>25</td>\n",
       "      <td>10</td>\n",
       "      <td>5</td>\n",
       "      <td>0</td>\n",
       "      <td>2</td>\n",
       "      <td>4</td>\n",
       "      <td>10</td>\n",
       "      <td>1275</td>\n",
       "      <td>1</td>\n",
       "      <td>15</td>\n",
       "      <td>3</td>\n",
       "      <td>1.0</td>\n",
       "      <td>0.714286</td>\n",
       "      <td>1.0</td>\n",
       "    </tr>\n",
       "    <tr>\n",
       "      <th>4</th>\n",
       "      <td>2</td>\n",
       "      <td>1</td>\n",
       "      <td>32</td>\n",
       "      <td>35</td>\n",
       "      <td>96</td>\n",
       "      <td>6</td>\n",
       "      <td>23</td>\n",
       "      <td>26</td>\n",
       "      <td>8</td>\n",
       "      <td>7</td>\n",
       "      <td>2</td>\n",
       "      <td>3</td>\n",
       "      <td>3</td>\n",
       "      <td>0</td>\n",
       "      <td>1254</td>\n",
       "      <td>1</td>\n",
       "      <td>17</td>\n",
       "      <td>3</td>\n",
       "      <td>1.0</td>\n",
       "      <td>0.714286</td>\n",
       "      <td>1.0</td>\n",
       "    </tr>\n",
       "    <tr>\n",
       "      <th>...</th>\n",
       "      <td>...</td>\n",
       "      <td>...</td>\n",
       "      <td>...</td>\n",
       "      <td>...</td>\n",
       "      <td>...</td>\n",
       "      <td>...</td>\n",
       "      <td>...</td>\n",
       "      <td>...</td>\n",
       "      <td>...</td>\n",
       "      <td>...</td>\n",
       "      <td>...</td>\n",
       "      <td>...</td>\n",
       "      <td>...</td>\n",
       "      <td>...</td>\n",
       "      <td>...</td>\n",
       "      <td>...</td>\n",
       "      <td>...</td>\n",
       "      <td>...</td>\n",
       "      <td>...</td>\n",
       "      <td>...</td>\n",
       "      <td>...</td>\n",
       "    </tr>\n",
       "    <tr>\n",
       "      <th>11148</th>\n",
       "      <td>2</td>\n",
       "      <td>1</td>\n",
       "      <td>11</td>\n",
       "      <td>4</td>\n",
       "      <td>19</td>\n",
       "      <td>18</td>\n",
       "      <td>155</td>\n",
       "      <td>2</td>\n",
       "      <td>2</td>\n",
       "      <td>2</td>\n",
       "      <td>0</td>\n",
       "      <td>1</td>\n",
       "      <td>4</td>\n",
       "      <td>1</td>\n",
       "      <td>1574</td>\n",
       "      <td>1</td>\n",
       "      <td>4</td>\n",
       "      <td>13</td>\n",
       "      <td>0.5</td>\n",
       "      <td>0.285714</td>\n",
       "      <td>1.0</td>\n",
       "    </tr>\n",
       "    <tr>\n",
       "      <th>11149</th>\n",
       "      <td>1</td>\n",
       "      <td>1</td>\n",
       "      <td>9</td>\n",
       "      <td>5</td>\n",
       "      <td>23</td>\n",
       "      <td>39</td>\n",
       "      <td>118</td>\n",
       "      <td>1</td>\n",
       "      <td>0</td>\n",
       "      <td>1</td>\n",
       "      <td>0</td>\n",
       "      <td>2</td>\n",
       "      <td>6</td>\n",
       "      <td>0</td>\n",
       "      <td>4283</td>\n",
       "      <td>1</td>\n",
       "      <td>1</td>\n",
       "      <td>10</td>\n",
       "      <td>0.5</td>\n",
       "      <td>0.285714</td>\n",
       "      <td>0.5</td>\n",
       "    </tr>\n",
       "    <tr>\n",
       "      <th>11150</th>\n",
       "      <td>2</td>\n",
       "      <td>1</td>\n",
       "      <td>6</td>\n",
       "      <td>3</td>\n",
       "      <td>19</td>\n",
       "      <td>23</td>\n",
       "      <td>170</td>\n",
       "      <td>0</td>\n",
       "      <td>0</td>\n",
       "      <td>1</td>\n",
       "      <td>0</td>\n",
       "      <td>0</td>\n",
       "      <td>4</td>\n",
       "      <td>0</td>\n",
       "      <td>4142</td>\n",
       "      <td>1</td>\n",
       "      <td>1</td>\n",
       "      <td>9</td>\n",
       "      <td>0.5</td>\n",
       "      <td>0.285714</td>\n",
       "      <td>0.5</td>\n",
       "    </tr>\n",
       "    <tr>\n",
       "      <th>11151</th>\n",
       "      <td>1</td>\n",
       "      <td>1</td>\n",
       "      <td>10</td>\n",
       "      <td>8</td>\n",
       "      <td>15</td>\n",
       "      <td>0</td>\n",
       "      <td>175</td>\n",
       "      <td>3</td>\n",
       "      <td>4</td>\n",
       "      <td>3</td>\n",
       "      <td>0</td>\n",
       "      <td>1</td>\n",
       "      <td>4</td>\n",
       "      <td>1</td>\n",
       "      <td>4819</td>\n",
       "      <td>2</td>\n",
       "      <td>7</td>\n",
       "      <td>8</td>\n",
       "      <td>0.5</td>\n",
       "      <td>0.285714</td>\n",
       "      <td>1.0</td>\n",
       "    </tr>\n",
       "    <tr>\n",
       "      <th>11152</th>\n",
       "      <td>2</td>\n",
       "      <td>1</td>\n",
       "      <td>17</td>\n",
       "      <td>11</td>\n",
       "      <td>96</td>\n",
       "      <td>26</td>\n",
       "      <td>133</td>\n",
       "      <td>10</td>\n",
       "      <td>4</td>\n",
       "      <td>6</td>\n",
       "      <td>0</td>\n",
       "      <td>2</td>\n",
       "      <td>2</td>\n",
       "      <td>0</td>\n",
       "      <td>4291</td>\n",
       "      <td>2</td>\n",
       "      <td>10</td>\n",
       "      <td>12</td>\n",
       "      <td>0.5</td>\n",
       "      <td>0.428571</td>\n",
       "      <td>0.5</td>\n",
       "    </tr>\n",
       "  </tbody>\n",
       "</table>\n",
       "<p>11153 rows × 21 columns</p>\n",
       "</div>"
      ],
      "text/plain": [
       "       gender  marital_status_maried(Y/N)  age  year_graduated  \\\n",
       "0           2                           1   12               9   \n",
       "1           2                           1    8              13   \n",
       "2           1                           1   27              31   \n",
       "3           2                           1   30              33   \n",
       "4           2                           1   32              35   \n",
       "...       ...                         ...  ...             ...   \n",
       "11148       2                           1   11               4   \n",
       "11149       1                           1    9               5   \n",
       "11150       2                           1    6               3   \n",
       "11151       1                           1   10               8   \n",
       "11152       2                           1   17              11   \n",
       "\n",
       "       job_duration_in_current_job_level  job_duration_in_current_branch  GPA  \\\n",
       "0                                     22                              36  104   \n",
       "1                                     20                              13   24   \n",
       "2                                     79                              38    0   \n",
       "3                                     96                              23    0   \n",
       "4                                     96                               6   23   \n",
       "...                                  ...                             ...  ...   \n",
       "11148                                 19                              18  155   \n",
       "11149                                 23                              39  118   \n",
       "11150                                 19                              23  170   \n",
       "11151                                 15                               0  175   \n",
       "11152                                 96                              26  133   \n",
       "\n",
       "       job_duration_from_training  branch_rotation  job_rotation  \\\n",
       "0                               2                1             2   \n",
       "1                               2                3             2   \n",
       "2                              24                9             8   \n",
       "3                              25               10             5   \n",
       "4                              26                8             7   \n",
       "...                           ...              ...           ...   \n",
       "11148                           2                2             2   \n",
       "11149                           1                0             1   \n",
       "11150                           0                0             1   \n",
       "11151                           3                4             3   \n",
       "11152                          10                4             6   \n",
       "\n",
       "       assign_of_otherposition  number_of_dependences  annual leave  \\\n",
       "0                            2                      1             3   \n",
       "1                            0                      0             0   \n",
       "2                            6                      1             2   \n",
       "3                            0                      2             4   \n",
       "4                            2                      3             3   \n",
       "...                        ...                    ...           ...   \n",
       "11148                        0                      1             4   \n",
       "11149                        0                      2             6   \n",
       "11150                        0                      0             4   \n",
       "11151                        0                      1             4   \n",
       "11152                        0                      2             2   \n",
       "\n",
       "       sick_leaves  Last_achievement_%  Achievement_above_100%_during3quartal  \\\n",
       "0                0                1185                                      1   \n",
       "1                1                1298                                      1   \n",
       "2                1                 747                                      1   \n",
       "3               10                1275                                      1   \n",
       "4                0                1254                                      1   \n",
       "...            ...                 ...                                    ...   \n",
       "11148            1                1574                                      1   \n",
       "11149            0                4283                                      1   \n",
       "11150            0                4142                                      1   \n",
       "11151            1                4819                                      2   \n",
       "11152            0                4291                                      2   \n",
       "\n",
       "       rotation  age_year_graduated  job_level  person_level  Employee_type  \n",
       "0             5                   9        0.5      0.285714            1.0  \n",
       "1             5                   1        0.5      0.285714            1.0  \n",
       "2            23                   2        1.0      0.714286            0.0  \n",
       "3            15                   3        1.0      0.714286            1.0  \n",
       "4            17                   3        1.0      0.714286            1.0  \n",
       "...         ...                 ...        ...           ...            ...  \n",
       "11148         4                  13        0.5      0.285714            1.0  \n",
       "11149         1                  10        0.5      0.285714            0.5  \n",
       "11150         1                   9        0.5      0.285714            0.5  \n",
       "11151         7                   8        0.5      0.285714            1.0  \n",
       "11152        10                  12        0.5      0.428571            0.5  \n",
       "\n",
       "[11153 rows x 21 columns]"
      ]
     },
     "execution_count": 28,
     "metadata": {},
     "output_type": "execute_result"
    }
   ],
   "source": [
    "X"
   ]
  },
  {
   "cell_type": "markdown",
   "metadata": {
    "execution": {
     "iopub.execute_input": "2021-02-20T13:27:51.519797Z",
     "iopub.status.busy": "2021-02-20T13:27:51.519139Z",
     "iopub.status.idle": "2021-02-20T13:27:51.643818Z",
     "shell.execute_reply": "2021-02-20T13:27:51.643273Z"
    },
    "papermill": {
     "duration": 0.055376,
     "end_time": "2021-02-26T14:54:05.696926",
     "exception": false,
     "start_time": "2021-02-26T14:54:05.641550",
     "status": "completed"
    },
    "tags": []
   },
   "source": [
    "# Transforming all the labels of all variables\n",
    "from sklearn.preprocessing import LabelEncoder\n",
    "\n",
    "label_encoders = [LabelEncoder() for _ in range(X.shape[1])]\n",
    "\n",
    "for col, column in enumerate(X.columns):\n",
    "    unique_values = pd.Series(X[column].append(Xt[column]).unique())\n",
    "    unique_values = unique_values[unique_values.notnull()]\n",
    "    label_encoders[col].fit(unique_values)\n",
    "    X.loc[X[column].notnull(), column] = label_encoders[col].transform(X.loc[X[column].notnull(), column])\n",
    "    Xt.loc[Xt[column].notnull(), column] = label_encoders[col].transform(Xt.loc[Xt[column].notnull(), column])"
   ]
  },
  {
   "cell_type": "markdown",
   "metadata": {
    "execution": {
     "iopub.execute_input": "2021-02-20T13:27:51.953348Z",
     "iopub.status.busy": "2021-02-20T13:27:51.951299Z",
     "iopub.status.idle": "2021-02-20T13:27:52.253502Z",
     "shell.execute_reply": "2021-02-20T13:27:52.252848Z"
    },
    "papermill": {
     "duration": 0.055282,
     "end_time": "2021-02-26T14:54:05.807663",
     "exception": false,
     "start_time": "2021-02-26T14:54:05.752381",
     "status": "completed"
    },
    "tags": []
   },
   "source": [
    "def frequency_encoding(column, df, df_test=None):\n",
    "    frequencies = df[column].value_counts().reset_index()\n",
    "    df_values = df[[column]].merge(frequencies, how='left', \n",
    "                                   left_on=column, right_on='index').iloc[:,-1].values\n",
    "    if df_test is not None:\n",
    "        df_test_values = df_test[[column]].merge(frequencies, how='left', \n",
    "                                                 left_on=column, right_on='index').fillna(1).iloc[:,-1].values\n",
    "    else:\n",
    "        df_test_values = None\n",
    "    return df_values, df_test_values\n",
    "\n",
    "for column in X.columns:\n",
    "    train_values, test_values = frequency_encoding(column, X, Xt)\n",
    "    X[column+'_freq'] = train_values\n",
    "    Xt[column+'_freq'] = test_values"
   ]
  },
  {
   "cell_type": "markdown",
   "metadata": {
    "execution": {
     "iopub.execute_input": "2021-02-20T13:27:52.400592Z",
     "iopub.status.busy": "2021-02-20T13:27:52.399799Z",
     "iopub.status.idle": "2021-02-20T13:27:55.129275Z",
     "shell.execute_reply": "2021-02-20T13:27:55.128658Z"
    },
    "papermill": {
     "duration": 0.055287,
     "end_time": "2021-02-26T14:54:05.918388",
     "exception": false,
     "start_time": "2021-02-26T14:54:05.863101",
     "status": "completed"
    },
    "tags": []
   },
   "source": [
    "import category_encoders as cat_encode\n",
    "\n",
    "\n",
    "enc_x = np.zeros(X[cols].shape)\n",
    "\n",
    "for tr_idx, oof_idx in StratifiedKFold(n_splits=5, random_state=2021, shuffle=True).split(X, y):\n",
    "    encoder = cat_encode.TargetEncoder(cols=cols, smoothing=1)\n",
    "    \n",
    "    encoder.fit(X[cols].iloc[tr_idx], y[tr_idx])\n",
    "    enc_x[oof_idx, :] = encoder.transform(X[cols].iloc[oof_idx], y[oof_idx])\n",
    "    \n",
    "encoder.fit(X[cols], y)\n",
    "enc_xt = encoder.transform(Xt[cols]).values\n",
    "\n",
    "for idx, new_var in enumerate(cols):\n",
    "    new_var = new_var + '_enc'\n",
    "    X[new_var] = enc_x[:,idx]\n",
    "    Xt[new_var] = enc_xt[:, idx]"
   ]
  },
  {
   "cell_type": "code",
   "execution_count": 29,
   "metadata": {
    "execution": {
     "iopub.execute_input": "2021-02-26T14:54:06.034511Z",
     "iopub.status.busy": "2021-02-26T14:54:06.033891Z",
     "iopub.status.idle": "2021-02-26T14:54:06.037452Z",
     "shell.execute_reply": "2021-02-26T14:54:06.038016Z"
    },
    "papermill": {
     "duration": 0.062778,
     "end_time": "2021-02-26T14:54:06.038187",
     "exception": false,
     "start_time": "2021-02-26T14:54:05.975409",
     "status": "completed"
    },
    "tags": []
   },
   "outputs": [],
   "source": [
    "feature_name = list(X.columns)\n",
    "# no of maximum features we need to select\n",
    "num_feats=20"
   ]
  },
  {
   "cell_type": "markdown",
   "metadata": {
    "papermill": {
     "duration": 0.055716,
     "end_time": "2021-02-26T14:54:06.150020",
     "exception": false,
     "start_time": "2021-02-26T14:54:06.094304",
     "status": "completed"
    },
    "tags": []
   },
   "source": [
    "# Set some Parameters"
   ]
  },
  {
   "cell_type": "markdown",
   "metadata": {
    "papermill": {
     "duration": 0.055392,
     "end_time": "2021-02-26T14:54:06.261283",
     "exception": false,
     "start_time": "2021-02-26T14:54:06.205891",
     "status": "completed"
    },
    "tags": []
   },
   "source": [
    "# 1. Pearson correlation"
   ]
  },
  {
   "cell_type": "markdown",
   "metadata": {
    "papermill": {
     "duration": 0.055484,
     "end_time": "2021-02-26T14:54:06.373643",
     "exception": false,
     "start_time": "2021-02-26T14:54:06.318159",
     "status": "completed"
    },
    "tags": []
   },
   "source": [
    "This is a filter-based method. \n",
    "We check the absolute value of the Pearson's correlation between the target and numerical features in our dataset. We keep the top n features based on this criterion."
   ]
  },
  {
   "cell_type": "code",
   "execution_count": 30,
   "metadata": {
    "execution": {
     "iopub.execute_input": "2021-02-26T14:54:06.489555Z",
     "iopub.status.busy": "2021-02-26T14:54:06.488790Z",
     "iopub.status.idle": "2021-02-26T14:54:06.509225Z",
     "shell.execute_reply": "2021-02-26T14:54:06.509693Z"
    },
    "papermill": {
     "duration": 0.079894,
     "end_time": "2021-02-26T14:54:06.509893",
     "exception": false,
     "start_time": "2021-02-26T14:54:06.429999",
     "status": "completed"
    },
    "tags": []
   },
   "outputs": [
    {
     "name": "stdout",
     "output_type": "stream",
     "text": [
      "20 selected features\n"
     ]
    }
   ],
   "source": [
    "def cor_selector(X, y,num_feats):\n",
    "    cor_list = []\n",
    "    feature_name = X.columns.tolist()\n",
    "    # calculate the correlation with y for each feature\n",
    "    for i in X.columns.tolist():\n",
    "        cor = np.corrcoef(X[i], y)[0, 1]\n",
    "        cor_list.append(cor)\n",
    "    # replace NaN with 0\n",
    "    cor_list = [0 if np.isnan(i) else i for i in cor_list]\n",
    "    # feature name\n",
    "    cor_feature = X.iloc[:,np.argsort(np.abs(cor_list))[-num_feats:]].columns.tolist()\n",
    "    # feature selection? 0 for not select, 1 for select\n",
    "    cor_support = [True if i in cor_feature else False for i in feature_name]\n",
    "    return cor_support, cor_feature\n",
    "cor_support, cor_feature = cor_selector(X, y,num_feats)\n",
    "print(str(len(cor_feature)), 'selected features')"
   ]
  },
  {
   "cell_type": "markdown",
   "metadata": {
    "execution": {
     "iopub.execute_input": "2021-02-06T11:42:45.615736Z",
     "iopub.status.busy": "2021-02-06T11:42:45.614705Z",
     "iopub.status.idle": "2021-02-06T11:42:45.619492Z",
     "shell.execute_reply": "2021-02-06T11:42:45.618928Z"
    },
    "papermill": {
     "duration": 0.056073,
     "end_time": "2021-02-26T14:54:06.622127",
     "exception": false,
     "start_time": "2021-02-26T14:54:06.566054",
     "status": "completed"
    },
    "tags": []
   },
   "source": [
    "cor_feature"
   ]
  },
  {
   "cell_type": "markdown",
   "metadata": {
    "papermill": {
     "duration": 0.055916,
     "end_time": "2021-02-26T14:54:06.733807",
     "exception": false,
     "start_time": "2021-02-26T14:54:06.677891",
     "status": "completed"
    },
    "tags": []
   },
   "source": [
    "# 2. Chi-Square Features"
   ]
  },
  {
   "cell_type": "markdown",
   "metadata": {
    "papermill": {
     "duration": 0.055427,
     "end_time": "2021-02-26T14:54:06.845865",
     "exception": false,
     "start_time": "2021-02-26T14:54:06.790438",
     "status": "completed"
    },
    "tags": []
   },
   "source": [
    "This is another filter-based method. \n",
    "In this method, we calculate the chi-square metric between the target and the numerical variable and only select the variable with the maximum chi-squared values."
   ]
  },
  {
   "cell_type": "code",
   "execution_count": 31,
   "metadata": {
    "execution": {
     "iopub.execute_input": "2021-02-26T14:54:06.964584Z",
     "iopub.status.busy": "2021-02-26T14:54:06.963866Z",
     "iopub.status.idle": "2021-02-26T14:54:07.161238Z",
     "shell.execute_reply": "2021-02-26T14:54:07.160666Z"
    },
    "papermill": {
     "duration": 0.259784,
     "end_time": "2021-02-26T14:54:07.161420",
     "exception": false,
     "start_time": "2021-02-26T14:54:06.901636",
     "status": "completed"
    },
    "tags": []
   },
   "outputs": [
    {
     "name": "stdout",
     "output_type": "stream",
     "text": [
      "20 selected features\n"
     ]
    }
   ],
   "source": [
    "from sklearn.feature_selection import SelectKBest\n",
    "from sklearn.feature_selection import chi2\n",
    "from sklearn.preprocessing import MinMaxScaler\n",
    "X_norm = MinMaxScaler().fit_transform(X)\n",
    "chi_selector = SelectKBest(chi2, k=num_feats)\n",
    "chi_selector.fit(X_norm, y)\n",
    "chi_support = chi_selector.get_support()\n",
    "chi_feature = X.loc[:,chi_support].columns.tolist()\n",
    "print(str(len(chi_feature)), 'selected features')"
   ]
  },
  {
   "cell_type": "markdown",
   "metadata": {
    "execution": {
     "iopub.execute_input": "2021-02-06T11:42:46.241466Z",
     "iopub.status.busy": "2021-02-06T11:42:46.240502Z",
     "iopub.status.idle": "2021-02-06T11:42:46.244284Z",
     "shell.execute_reply": "2021-02-06T11:42:46.244865Z"
    },
    "papermill": {
     "duration": 0.056329,
     "end_time": "2021-02-26T14:54:07.274443",
     "exception": false,
     "start_time": "2021-02-26T14:54:07.218114",
     "status": "completed"
    },
    "tags": []
   },
   "source": [
    "chi_feature"
   ]
  },
  {
   "cell_type": "markdown",
   "metadata": {
    "papermill": {
     "duration": 0.056179,
     "end_time": "2021-02-26T14:54:07.388269",
     "exception": false,
     "start_time": "2021-02-26T14:54:07.332090",
     "status": "completed"
    },
    "tags": []
   },
   "source": [
    "# 3. Recursive Feature Elimination"
   ]
  },
  {
   "cell_type": "code",
   "execution_count": 32,
   "metadata": {
    "execution": {
     "iopub.execute_input": "2021-02-26T14:54:07.507129Z",
     "iopub.status.busy": "2021-02-26T14:54:07.506326Z",
     "iopub.status.idle": "2021-02-26T14:54:07.808108Z",
     "shell.execute_reply": "2021-02-26T14:54:07.808611Z"
    },
    "papermill": {
     "duration": 0.364169,
     "end_time": "2021-02-26T14:54:07.808803",
     "exception": false,
     "start_time": "2021-02-26T14:54:07.444634",
     "status": "completed"
    },
    "tags": []
   },
   "outputs": [
    {
     "name": "stdout",
     "output_type": "stream",
     "text": [
      "Fitting estimator with 21 features.\n"
     ]
    },
    {
     "data": {
      "text/plain": [
       "RFE(estimator=LogisticRegression(), n_features_to_select=20, step=10, verbose=5)"
      ]
     },
     "execution_count": 32,
     "metadata": {},
     "output_type": "execute_result"
    }
   ],
   "source": [
    "from sklearn.feature_selection import RFE\n",
    "from sklearn.linear_model import LogisticRegression\n",
    "rfe_selector = RFE(estimator=LogisticRegression(), n_features_to_select=num_feats, step=10, verbose=5)\n",
    "rfe_selector.fit(X_norm, y)"
   ]
  },
  {
   "cell_type": "code",
   "execution_count": 33,
   "metadata": {
    "execution": {
     "iopub.execute_input": "2021-02-26T14:54:07.931270Z",
     "iopub.status.busy": "2021-02-26T14:54:07.930524Z",
     "iopub.status.idle": "2021-02-26T14:54:07.934049Z",
     "shell.execute_reply": "2021-02-26T14:54:07.933388Z"
    },
    "papermill": {
     "duration": 0.067682,
     "end_time": "2021-02-26T14:54:07.934197",
     "exception": false,
     "start_time": "2021-02-26T14:54:07.866515",
     "status": "completed"
    },
    "tags": []
   },
   "outputs": [
    {
     "name": "stdout",
     "output_type": "stream",
     "text": [
      "20 selected features\n"
     ]
    }
   ],
   "source": [
    "rfe_support = rfe_selector.get_support()\n",
    "rfe_feature = X.loc[:,rfe_support].columns.tolist()\n",
    "print(str(len(rfe_feature)), 'selected features')"
   ]
  },
  {
   "cell_type": "markdown",
   "metadata": {
    "execution": {
     "iopub.execute_input": "2021-02-06T11:42:47.615784Z",
     "iopub.status.busy": "2021-02-06T11:42:47.614909Z",
     "iopub.status.idle": "2021-02-06T11:42:47.620415Z",
     "shell.execute_reply": "2021-02-06T11:42:47.619692Z"
    },
    "papermill": {
     "duration": 0.056966,
     "end_time": "2021-02-26T14:54:08.049597",
     "exception": false,
     "start_time": "2021-02-26T14:54:07.992631",
     "status": "completed"
    },
    "tags": []
   },
   "source": [
    "rfe_feature"
   ]
  },
  {
   "cell_type": "markdown",
   "metadata": {
    "papermill": {
     "duration": 0.057,
     "end_time": "2021-02-26T14:54:08.164052",
     "exception": false,
     "start_time": "2021-02-26T14:54:08.107052",
     "status": "completed"
    },
    "tags": []
   },
   "source": [
    "# 4. Lasso: SelectFromModel"
   ]
  },
  {
   "cell_type": "code",
   "execution_count": 34,
   "metadata": {
    "execution": {
     "iopub.execute_input": "2021-02-26T14:54:08.284451Z",
     "iopub.status.busy": "2021-02-26T14:54:08.283698Z",
     "iopub.status.idle": "2021-02-26T14:54:08.447894Z",
     "shell.execute_reply": "2021-02-26T14:54:08.447221Z"
    },
    "papermill": {
     "duration": 0.226839,
     "end_time": "2021-02-26T14:54:08.448044",
     "exception": false,
     "start_time": "2021-02-26T14:54:08.221205",
     "status": "completed"
    },
    "tags": []
   },
   "outputs": [
    {
     "data": {
      "text/plain": [
       "SelectFromModel(estimator=LogisticRegression(), max_features=20)"
      ]
     },
     "execution_count": 34,
     "metadata": {},
     "output_type": "execute_result"
    }
   ],
   "source": [
    "from sklearn.feature_selection import SelectFromModel\n",
    "from sklearn.linear_model import LogisticRegression\n",
    "\n",
    "embeded_lr_selector = SelectFromModel(LogisticRegression(penalty=\"l2\"), max_features=num_feats)\n",
    "embeded_lr_selector.fit(X_norm, y)"
   ]
  },
  {
   "cell_type": "code",
   "execution_count": 35,
   "metadata": {
    "execution": {
     "iopub.execute_input": "2021-02-26T14:54:08.572047Z",
     "iopub.status.busy": "2021-02-26T14:54:08.570962Z",
     "iopub.status.idle": "2021-02-26T14:54:08.574501Z",
     "shell.execute_reply": "2021-02-26T14:54:08.574994Z"
    },
    "papermill": {
     "duration": 0.068779,
     "end_time": "2021-02-26T14:54:08.575170",
     "exception": false,
     "start_time": "2021-02-26T14:54:08.506391",
     "status": "completed"
    },
    "tags": []
   },
   "outputs": [
    {
     "name": "stdout",
     "output_type": "stream",
     "text": [
      "7 selected features\n"
     ]
    }
   ],
   "source": [
    "embeded_lr_support = embeded_lr_selector.get_support()\n",
    "embeded_lr_feature = X.loc[:,embeded_lr_support].columns.tolist()\n",
    "print(str(len(embeded_lr_feature)), 'selected features')"
   ]
  },
  {
   "cell_type": "markdown",
   "metadata": {
    "execution": {
     "iopub.execute_input": "2021-02-06T11:42:48.446584Z",
     "iopub.status.busy": "2021-02-06T11:42:48.445859Z",
     "iopub.status.idle": "2021-02-06T11:42:48.450025Z",
     "shell.execute_reply": "2021-02-06T11:42:48.449298Z"
    },
    "papermill": {
     "duration": 0.057739,
     "end_time": "2021-02-26T14:54:08.690994",
     "exception": false,
     "start_time": "2021-02-26T14:54:08.633255",
     "status": "completed"
    },
    "tags": []
   },
   "source": [
    "embeded_lr_feature"
   ]
  },
  {
   "cell_type": "markdown",
   "metadata": {
    "papermill": {
     "duration": 0.057849,
     "end_time": "2021-02-26T14:54:08.806644",
     "exception": false,
     "start_time": "2021-02-26T14:54:08.748795",
     "status": "completed"
    },
    "tags": []
   },
   "source": [
    "# 5. Tree-based: SelectFromModel"
   ]
  },
  {
   "cell_type": "code",
   "execution_count": 36,
   "metadata": {
    "execution": {
     "iopub.execute_input": "2021-02-26T14:54:08.928089Z",
     "iopub.status.busy": "2021-02-26T14:54:08.927419Z",
     "iopub.status.idle": "2021-02-26T14:54:10.849812Z",
     "shell.execute_reply": "2021-02-26T14:54:10.849272Z"
    },
    "papermill": {
     "duration": 1.98503,
     "end_time": "2021-02-26T14:54:10.849983",
     "exception": false,
     "start_time": "2021-02-26T14:54:08.864953",
     "status": "completed"
    },
    "tags": []
   },
   "outputs": [
    {
     "data": {
      "text/plain": [
       "SelectFromModel(estimator=RandomForestClassifier(), max_features=20)"
      ]
     },
     "execution_count": 36,
     "metadata": {},
     "output_type": "execute_result"
    }
   ],
   "source": [
    "from sklearn.feature_selection import SelectFromModel\n",
    "from sklearn.ensemble import RandomForestClassifier\n",
    "\n",
    "embeded_rf_selector = SelectFromModel(RandomForestClassifier(n_estimators=100), max_features=num_feats)\n",
    "embeded_rf_selector.fit(X, y)"
   ]
  },
  {
   "cell_type": "code",
   "execution_count": 37,
   "metadata": {
    "execution": {
     "iopub.execute_input": "2021-02-26T14:54:10.973633Z",
     "iopub.status.busy": "2021-02-26T14:54:10.972934Z",
     "iopub.status.idle": "2021-02-26T14:54:11.009472Z",
     "shell.execute_reply": "2021-02-26T14:54:11.008674Z"
    },
    "papermill": {
     "duration": 0.101223,
     "end_time": "2021-02-26T14:54:11.009679",
     "exception": false,
     "start_time": "2021-02-26T14:54:10.908456",
     "status": "completed"
    },
    "tags": []
   },
   "outputs": [
    {
     "name": "stdout",
     "output_type": "stream",
     "text": [
      "9 selected features\n"
     ]
    }
   ],
   "source": [
    "embeded_rf_support = embeded_rf_selector.get_support()\n",
    "embeded_rf_feature = X.loc[:,embeded_rf_support].columns.tolist()\n",
    "print(str(len(embeded_rf_feature)), 'selected features')"
   ]
  },
  {
   "cell_type": "markdown",
   "metadata": {
    "execution": {
     "iopub.execute_input": "2021-02-06T11:42:52.512197Z",
     "iopub.status.busy": "2021-02-06T11:42:52.511303Z",
     "iopub.status.idle": "2021-02-06T11:42:52.516479Z",
     "shell.execute_reply": "2021-02-06T11:42:52.51579Z"
    },
    "papermill": {
     "duration": 0.058789,
     "end_time": "2021-02-26T14:54:11.128295",
     "exception": false,
     "start_time": "2021-02-26T14:54:11.069506",
     "status": "completed"
    },
    "tags": []
   },
   "source": [
    "embeded_rf_feature"
   ]
  },
  {
   "cell_type": "code",
   "execution_count": 38,
   "metadata": {
    "execution": {
     "iopub.execute_input": "2021-02-26T14:54:11.255232Z",
     "iopub.status.busy": "2021-02-26T14:54:11.254520Z",
     "iopub.status.idle": "2021-02-26T14:54:25.689420Z",
     "shell.execute_reply": "2021-02-26T14:54:25.690230Z"
    },
    "papermill": {
     "duration": 14.50269,
     "end_time": "2021-02-26T14:54:25.690537",
     "exception": false,
     "start_time": "2021-02-26T14:54:11.187847",
     "status": "completed"
    },
    "tags": []
   },
   "outputs": [
    {
     "data": {
      "text/html": [
       "<style type='text/css'>\n",
       ".datatable table.frame { margin-bottom: 0; }\n",
       ".datatable table.frame thead { border-bottom: none; }\n",
       ".datatable table.frame tr.coltypes td {  color: #FFFFFF;  line-height: 6px;  padding: 0 0.5em;}\n",
       ".datatable .bool    { background: #DDDD99; }\n",
       ".datatable .object  { background: #565656; }\n",
       ".datatable .int     { background: #5D9E5D; }\n",
       ".datatable .float   { background: #4040CC; }\n",
       ".datatable .str     { background: #CC4040; }\n",
       ".datatable .row_index {  background: var(--jp-border-color3);  border-right: 1px solid var(--jp-border-color0);  color: var(--jp-ui-font-color3);  font-size: 9px;}\n",
       ".datatable .frame tr.coltypes .row_index {  background: var(--jp-border-color0);}\n",
       ".datatable th:nth-child(2) { padding-left: 12px; }\n",
       ".datatable .hellipsis {  color: var(--jp-cell-editor-border-color);}\n",
       ".datatable .vellipsis {  background: var(--jp-layout-color0);  color: var(--jp-cell-editor-border-color);}\n",
       ".datatable .na {  color: var(--jp-cell-editor-border-color);  font-size: 80%;}\n",
       ".datatable .footer { font-size: 9px; }\n",
       ".datatable .frame_dimensions {  background: var(--jp-border-color3);  border-top: 1px solid var(--jp-border-color0);  color: var(--jp-ui-font-color3);  display: inline-block;  opacity: 0.6;  padding: 1px 10px 1px 5px;}\n",
       "</style>\n"
      ],
      "text/plain": [
       "<IPython.core.display.HTML object>"
      ]
     },
     "metadata": {},
     "output_type": "display_data"
    },
    {
     "data": {
      "text/plain": [
       "SelectFromModel(estimator=LGBMClassifier(cat_smooth=1.0, colsample_bytree=0.75,\n",
       "                                         learning_rate=0.01,\n",
       "                                         min_data_per_group=5,\n",
       "                                         n_estimators=2000, num_leaves=170,\n",
       "                                         random_state=33, reg_alpha=1.3,\n",
       "                                         reg_lambda=0.1,\n",
       "                                         subsample_for_bin=2000),\n",
       "                max_features=20)"
      ]
     },
     "execution_count": 38,
     "metadata": {},
     "output_type": "execute_result"
    }
   ],
   "source": [
    "from sklearn.feature_selection import SelectFromModel\n",
    "from lightgbm import LGBMClassifier\n",
    "\n",
    "model= LGBMClassifier(random_state=33,\n",
    "                      #early_stopping_rounds = 250,\n",
    "                      n_estimators=2000,min_data_per_group=5, # reduce overfitting when using categorical_features\n",
    "                      boosting_type='gbdt', num_leaves=170, max_depth=- 1, learning_rate=0.01, subsample_for_bin=2000, \n",
    "                      min_split_gain=0.0, min_child_weight=0.001, min_child_samples=20, subsample=1.0, subsample_freq=0, \n",
    "                      colsample_bytree=.75, reg_alpha=1.3, reg_lambda=0.1,  n_jobs=- 1,cat_smooth=1.0, \n",
    "                      silent=True, importance_type='split')\n",
    "\n",
    "embeded_lgb_selector = SelectFromModel(model, max_features=num_feats)\n",
    "embeded_lgb_selector.fit(X, y)"
   ]
  },
  {
   "cell_type": "code",
   "execution_count": 39,
   "metadata": {
    "execution": {
     "iopub.execute_input": "2021-02-26T14:54:25.844566Z",
     "iopub.status.busy": "2021-02-26T14:54:25.843807Z",
     "iopub.status.idle": "2021-02-26T14:54:25.854106Z",
     "shell.execute_reply": "2021-02-26T14:54:25.854851Z"
    },
    "papermill": {
     "duration": 0.076229,
     "end_time": "2021-02-26T14:54:25.855119",
     "exception": false,
     "start_time": "2021-02-26T14:54:25.778890",
     "status": "completed"
    },
    "tags": []
   },
   "outputs": [
    {
     "name": "stdout",
     "output_type": "stream",
     "text": [
      "9 selected features\n"
     ]
    }
   ],
   "source": [
    "embeded_lgb_support = embeded_lgb_selector.get_support()\n",
    "embeded_lgb_feature = X.loc[:,embeded_lgb_support].columns.tolist()\n",
    "print(str(len(embeded_lgb_feature)), 'selected features')"
   ]
  },
  {
   "cell_type": "markdown",
   "metadata": {
    "execution": {
     "iopub.execute_input": "2021-02-06T11:43:31.924984Z",
     "iopub.status.busy": "2021-02-06T11:43:31.92424Z",
     "iopub.status.idle": "2021-02-06T11:43:31.929741Z",
     "shell.execute_reply": "2021-02-06T11:43:31.929036Z"
    },
    "papermill": {
     "duration": 0.060514,
     "end_time": "2021-02-26T14:54:25.977607",
     "exception": false,
     "start_time": "2021-02-26T14:54:25.917093",
     "status": "completed"
    },
    "tags": []
   },
   "source": [
    "embeded_lgb_feature"
   ]
  },
  {
   "cell_type": "code",
   "execution_count": 40,
   "metadata": {
    "execution": {
     "iopub.execute_input": "2021-02-26T14:54:26.101565Z",
     "iopub.status.busy": "2021-02-26T14:54:26.100781Z",
     "iopub.status.idle": "2021-02-26T14:54:48.298492Z",
     "shell.execute_reply": "2021-02-26T14:54:48.297330Z"
    },
    "papermill": {
     "duration": 22.261077,
     "end_time": "2021-02-26T14:54:48.298661",
     "exception": false,
     "start_time": "2021-02-26T14:54:26.037584",
     "status": "completed"
    },
    "tags": []
   },
   "outputs": [
    {
     "name": "stderr",
     "output_type": "stream",
     "text": [
      "/opt/conda/lib/python3.7/site-packages/xgboost/sklearn.py:888: UserWarning: The use of label encoder in XGBClassifier is deprecated and will be removed in a future release. To remove this warning, do the following: 1) Pass option use_label_encoder=False when constructing XGBClassifier object; and 2) Encode your labels (y) as integers starting with 0, i.e. 0, 1, 2, ..., [num_class - 1].\n",
      "  warnings.warn(label_encoder_deprecation_msg, UserWarning)\n"
     ]
    },
    {
     "name": "stdout",
     "output_type": "stream",
     "text": [
      "[14:54:26] WARNING: ../src/learner.cc:1061: Starting in XGBoost 1.3.0, the default evaluation metric used with the objective 'binary:logistic' was changed from 'error' to 'logloss'. Explicitly set eval_metric if you'd like to restore the old behavior.\n"
     ]
    },
    {
     "data": {
      "text/plain": [
       "SelectFromModel(estimator=XGBClassifier(base_score=None, booster=None,\n",
       "                                        colsample_bylevel=None,\n",
       "                                        colsample_bynode=None,\n",
       "                                        colsample_bytree=0.4, gamma=None,\n",
       "                                        gpu_id=None, importance_type='gain',\n",
       "                                        interaction_constraints=None,\n",
       "                                        learning_rate=0.02, max_delta_step=None,\n",
       "                                        max_depth=12, min_child_weight=None,\n",
       "                                        missing=-1, monotone_constraints=None,\n",
       "                                        n_estimators=2000, n_jobs=None,\n",
       "                                        num_parallel_tree=None,\n",
       "                                        random_state=None, reg_alpha=None,\n",
       "                                        reg_lambda=None, scale_pos_weight=None,\n",
       "                                        subsample=0.8, tree_method=None,\n",
       "                                        validate_parameters=None,\n",
       "                                        verbosity=None),\n",
       "                max_features=20)"
      ]
     },
     "execution_count": 40,
     "metadata": {},
     "output_type": "execute_result"
    }
   ],
   "source": [
    "from sklearn.feature_selection import SelectFromModel\n",
    "import xgboost as xgb\n",
    "\n",
    "xgb_model= xgb.XGBClassifier(n_estimators=2000,\n",
    "                         max_depth=12, \n",
    "                         learning_rate=0.02, \n",
    "                         subsample=0.8,\n",
    "                         colsample_bytree=0.4, \n",
    "                         missing=-1,)\n",
    "\n",
    "embeded_xgb_selector = SelectFromModel(xgb_model, max_features=num_feats)\n",
    "embeded_xgb_selector.fit(X, y)"
   ]
  },
  {
   "cell_type": "code",
   "execution_count": 41,
   "metadata": {
    "execution": {
     "iopub.execute_input": "2021-02-26T14:54:48.427785Z",
     "iopub.status.busy": "2021-02-26T14:54:48.427134Z",
     "iopub.status.idle": "2021-02-26T14:54:48.434555Z",
     "shell.execute_reply": "2021-02-26T14:54:48.435091Z"
    },
    "papermill": {
     "duration": 0.074234,
     "end_time": "2021-02-26T14:54:48.435273",
     "exception": false,
     "start_time": "2021-02-26T14:54:48.361039",
     "status": "completed"
    },
    "tags": []
   },
   "outputs": [
    {
     "name": "stdout",
     "output_type": "stream",
     "text": [
      "9 selected features\n"
     ]
    }
   ],
   "source": [
    "embeded_xgb_support = embeded_lgb_selector.get_support()\n",
    "embeded_xgb_feature = X.loc[:,embeded_xgb_support].columns.tolist()\n",
    "print(str(len(embeded_xgb_feature)), 'selected features')"
   ]
  },
  {
   "cell_type": "markdown",
   "metadata": {
    "papermill": {
     "duration": 0.060997,
     "end_time": "2021-02-26T14:54:48.557513",
     "exception": false,
     "start_time": "2021-02-26T14:54:48.496516",
     "status": "completed"
    },
    "tags": []
   },
   "source": [
    "# TOTAL"
   ]
  },
  {
   "cell_type": "code",
   "execution_count": 42,
   "metadata": {
    "execution": {
     "iopub.execute_input": "2021-02-26T14:54:48.693345Z",
     "iopub.status.busy": "2021-02-26T14:54:48.692527Z",
     "iopub.status.idle": "2021-02-26T14:54:48.718961Z",
     "shell.execute_reply": "2021-02-26T14:54:48.718284Z"
    },
    "papermill": {
     "duration": 0.100483,
     "end_time": "2021-02-26T14:54:48.719120",
     "exception": false,
     "start_time": "2021-02-26T14:54:48.618637",
     "status": "completed"
    },
    "tags": []
   },
   "outputs": [
    {
     "data": {
      "text/html": [
       "<div>\n",
       "<style scoped>\n",
       "    .dataframe tbody tr th:only-of-type {\n",
       "        vertical-align: middle;\n",
       "    }\n",
       "\n",
       "    .dataframe tbody tr th {\n",
       "        vertical-align: top;\n",
       "    }\n",
       "\n",
       "    .dataframe thead th {\n",
       "        text-align: right;\n",
       "    }\n",
       "</style>\n",
       "<table border=\"1\" class=\"dataframe\">\n",
       "  <thead>\n",
       "    <tr style=\"text-align: right;\">\n",
       "      <th></th>\n",
       "      <th>Feature</th>\n",
       "      <th>Pearson</th>\n",
       "      <th>Chi-2</th>\n",
       "      <th>RFE</th>\n",
       "      <th>Logistics</th>\n",
       "      <th>Random Forest</th>\n",
       "      <th>LightGBM</th>\n",
       "      <th>XGBoost</th>\n",
       "      <th>Total</th>\n",
       "    </tr>\n",
       "  </thead>\n",
       "  <tbody>\n",
       "    <tr>\n",
       "      <th>1</th>\n",
       "      <td>age_year_graduated</td>\n",
       "      <td>True</td>\n",
       "      <td>True</td>\n",
       "      <td>True</td>\n",
       "      <td>True</td>\n",
       "      <td>True</td>\n",
       "      <td>True</td>\n",
       "      <td>True</td>\n",
       "      <td>7</td>\n",
       "    </tr>\n",
       "    <tr>\n",
       "      <th>2</th>\n",
       "      <td>age</td>\n",
       "      <td>True</td>\n",
       "      <td>True</td>\n",
       "      <td>True</td>\n",
       "      <td>True</td>\n",
       "      <td>True</td>\n",
       "      <td>True</td>\n",
       "      <td>True</td>\n",
       "      <td>7</td>\n",
       "    </tr>\n",
       "    <tr>\n",
       "      <th>3</th>\n",
       "      <td>year_graduated</td>\n",
       "      <td>True</td>\n",
       "      <td>True</td>\n",
       "      <td>True</td>\n",
       "      <td>False</td>\n",
       "      <td>True</td>\n",
       "      <td>True</td>\n",
       "      <td>True</td>\n",
       "      <td>6</td>\n",
       "    </tr>\n",
       "    <tr>\n",
       "      <th>4</th>\n",
       "      <td>job_duration_in_current_job_level</td>\n",
       "      <td>True</td>\n",
       "      <td>True</td>\n",
       "      <td>True</td>\n",
       "      <td>False</td>\n",
       "      <td>True</td>\n",
       "      <td>True</td>\n",
       "      <td>True</td>\n",
       "      <td>6</td>\n",
       "    </tr>\n",
       "    <tr>\n",
       "      <th>5</th>\n",
       "      <td>job_duration_in_current_branch</td>\n",
       "      <td>True</td>\n",
       "      <td>True</td>\n",
       "      <td>True</td>\n",
       "      <td>False</td>\n",
       "      <td>True</td>\n",
       "      <td>True</td>\n",
       "      <td>True</td>\n",
       "      <td>6</td>\n",
       "    </tr>\n",
       "    <tr>\n",
       "      <th>6</th>\n",
       "      <td>annual leave</td>\n",
       "      <td>True</td>\n",
       "      <td>True</td>\n",
       "      <td>True</td>\n",
       "      <td>False</td>\n",
       "      <td>True</td>\n",
       "      <td>True</td>\n",
       "      <td>True</td>\n",
       "      <td>6</td>\n",
       "    </tr>\n",
       "    <tr>\n",
       "      <th>7</th>\n",
       "      <td>Last_achievement_%</td>\n",
       "      <td>True</td>\n",
       "      <td>True</td>\n",
       "      <td>True</td>\n",
       "      <td>False</td>\n",
       "      <td>True</td>\n",
       "      <td>True</td>\n",
       "      <td>True</td>\n",
       "      <td>6</td>\n",
       "    </tr>\n",
       "    <tr>\n",
       "      <th>8</th>\n",
       "      <td>GPA</td>\n",
       "      <td>True</td>\n",
       "      <td>True</td>\n",
       "      <td>True</td>\n",
       "      <td>False</td>\n",
       "      <td>True</td>\n",
       "      <td>True</td>\n",
       "      <td>True</td>\n",
       "      <td>6</td>\n",
       "    </tr>\n",
       "    <tr>\n",
       "      <th>9</th>\n",
       "      <td>rotation</td>\n",
       "      <td>True</td>\n",
       "      <td>True</td>\n",
       "      <td>False</td>\n",
       "      <td>False</td>\n",
       "      <td>True</td>\n",
       "      <td>True</td>\n",
       "      <td>True</td>\n",
       "      <td>5</td>\n",
       "    </tr>\n",
       "    <tr>\n",
       "      <th>10</th>\n",
       "      <td>sick_leaves</td>\n",
       "      <td>True</td>\n",
       "      <td>True</td>\n",
       "      <td>True</td>\n",
       "      <td>True</td>\n",
       "      <td>False</td>\n",
       "      <td>False</td>\n",
       "      <td>False</td>\n",
       "      <td>4</td>\n",
       "    </tr>\n",
       "    <tr>\n",
       "      <th>11</th>\n",
       "      <td>person_level</td>\n",
       "      <td>True</td>\n",
       "      <td>True</td>\n",
       "      <td>True</td>\n",
       "      <td>True</td>\n",
       "      <td>False</td>\n",
       "      <td>False</td>\n",
       "      <td>False</td>\n",
       "      <td>4</td>\n",
       "    </tr>\n",
       "    <tr>\n",
       "      <th>12</th>\n",
       "      <td>number_of_dependences</td>\n",
       "      <td>True</td>\n",
       "      <td>True</td>\n",
       "      <td>True</td>\n",
       "      <td>True</td>\n",
       "      <td>False</td>\n",
       "      <td>False</td>\n",
       "      <td>False</td>\n",
       "      <td>4</td>\n",
       "    </tr>\n",
       "    <tr>\n",
       "      <th>13</th>\n",
       "      <td>job_duration_from_training</td>\n",
       "      <td>True</td>\n",
       "      <td>True</td>\n",
       "      <td>True</td>\n",
       "      <td>True</td>\n",
       "      <td>False</td>\n",
       "      <td>False</td>\n",
       "      <td>False</td>\n",
       "      <td>4</td>\n",
       "    </tr>\n",
       "    <tr>\n",
       "      <th>14</th>\n",
       "      <td>branch_rotation</td>\n",
       "      <td>True</td>\n",
       "      <td>True</td>\n",
       "      <td>True</td>\n",
       "      <td>True</td>\n",
       "      <td>False</td>\n",
       "      <td>False</td>\n",
       "      <td>False</td>\n",
       "      <td>4</td>\n",
       "    </tr>\n",
       "    <tr>\n",
       "      <th>15</th>\n",
       "      <td>marital_status_maried(Y/N)</td>\n",
       "      <td>True</td>\n",
       "      <td>True</td>\n",
       "      <td>True</td>\n",
       "      <td>False</td>\n",
       "      <td>False</td>\n",
       "      <td>False</td>\n",
       "      <td>False</td>\n",
       "      <td>3</td>\n",
       "    </tr>\n",
       "    <tr>\n",
       "      <th>16</th>\n",
       "      <td>job_rotation</td>\n",
       "      <td>True</td>\n",
       "      <td>True</td>\n",
       "      <td>True</td>\n",
       "      <td>False</td>\n",
       "      <td>False</td>\n",
       "      <td>False</td>\n",
       "      <td>False</td>\n",
       "      <td>3</td>\n",
       "    </tr>\n",
       "    <tr>\n",
       "      <th>17</th>\n",
       "      <td>gender</td>\n",
       "      <td>True</td>\n",
       "      <td>True</td>\n",
       "      <td>True</td>\n",
       "      <td>False</td>\n",
       "      <td>False</td>\n",
       "      <td>False</td>\n",
       "      <td>False</td>\n",
       "      <td>3</td>\n",
       "    </tr>\n",
       "    <tr>\n",
       "      <th>18</th>\n",
       "      <td>assign_of_otherposition</td>\n",
       "      <td>True</td>\n",
       "      <td>True</td>\n",
       "      <td>True</td>\n",
       "      <td>False</td>\n",
       "      <td>False</td>\n",
       "      <td>False</td>\n",
       "      <td>False</td>\n",
       "      <td>3</td>\n",
       "    </tr>\n",
       "    <tr>\n",
       "      <th>19</th>\n",
       "      <td>Employee_type</td>\n",
       "      <td>True</td>\n",
       "      <td>True</td>\n",
       "      <td>True</td>\n",
       "      <td>False</td>\n",
       "      <td>False</td>\n",
       "      <td>False</td>\n",
       "      <td>False</td>\n",
       "      <td>3</td>\n",
       "    </tr>\n",
       "    <tr>\n",
       "      <th>20</th>\n",
       "      <td>Achievement_above_100%_during3quartal</td>\n",
       "      <td>True</td>\n",
       "      <td>True</td>\n",
       "      <td>True</td>\n",
       "      <td>False</td>\n",
       "      <td>False</td>\n",
       "      <td>False</td>\n",
       "      <td>False</td>\n",
       "      <td>3</td>\n",
       "    </tr>\n",
       "    <tr>\n",
       "      <th>21</th>\n",
       "      <td>job_level</td>\n",
       "      <td>False</td>\n",
       "      <td>False</td>\n",
       "      <td>True</td>\n",
       "      <td>False</td>\n",
       "      <td>False</td>\n",
       "      <td>False</td>\n",
       "      <td>False</td>\n",
       "      <td>1</td>\n",
       "    </tr>\n",
       "  </tbody>\n",
       "</table>\n",
       "</div>"
      ],
      "text/plain": [
       "                                  Feature  Pearson  Chi-2    RFE  Logistics  \\\n",
       "1                      age_year_graduated     True   True   True       True   \n",
       "2                                     age     True   True   True       True   \n",
       "3                          year_graduated     True   True   True      False   \n",
       "4       job_duration_in_current_job_level     True   True   True      False   \n",
       "5          job_duration_in_current_branch     True   True   True      False   \n",
       "6                            annual leave     True   True   True      False   \n",
       "7                      Last_achievement_%     True   True   True      False   \n",
       "8                                     GPA     True   True   True      False   \n",
       "9                                rotation     True   True  False      False   \n",
       "10                            sick_leaves     True   True   True       True   \n",
       "11                           person_level     True   True   True       True   \n",
       "12                  number_of_dependences     True   True   True       True   \n",
       "13             job_duration_from_training     True   True   True       True   \n",
       "14                        branch_rotation     True   True   True       True   \n",
       "15             marital_status_maried(Y/N)     True   True   True      False   \n",
       "16                           job_rotation     True   True   True      False   \n",
       "17                                 gender     True   True   True      False   \n",
       "18                assign_of_otherposition     True   True   True      False   \n",
       "19                          Employee_type     True   True   True      False   \n",
       "20  Achievement_above_100%_during3quartal     True   True   True      False   \n",
       "21                              job_level    False  False   True      False   \n",
       "\n",
       "    Random Forest  LightGBM  XGBoost  Total  \n",
       "1            True      True     True      7  \n",
       "2            True      True     True      7  \n",
       "3            True      True     True      6  \n",
       "4            True      True     True      6  \n",
       "5            True      True     True      6  \n",
       "6            True      True     True      6  \n",
       "7            True      True     True      6  \n",
       "8            True      True     True      6  \n",
       "9            True      True     True      5  \n",
       "10          False     False    False      4  \n",
       "11          False     False    False      4  \n",
       "12          False     False    False      4  \n",
       "13          False     False    False      4  \n",
       "14          False     False    False      4  \n",
       "15          False     False    False      3  \n",
       "16          False     False    False      3  \n",
       "17          False     False    False      3  \n",
       "18          False     False    False      3  \n",
       "19          False     False    False      3  \n",
       "20          False     False    False      3  \n",
       "21          False     False    False      1  "
      ]
     },
     "execution_count": 42,
     "metadata": {},
     "output_type": "execute_result"
    }
   ],
   "source": [
    "\n",
    "pd.set_option('display.max_rows', None)\n",
    "# put all selection together\n",
    "feature_selection_df = pd.DataFrame({'Feature':feature_name, \n",
    "                                     'Pearson':cor_support, \n",
    "                                     'Chi-2':chi_support, \n",
    "                                     'RFE':rfe_support, \n",
    "                                     'Logistics':embeded_lr_support,\n",
    "                                     'Random Forest':embeded_rf_support, \n",
    "                                     'LightGBM':embeded_lgb_support,\n",
    "                                     'XGBoost' :embeded_xgb_support\n",
    "                                    })\n",
    "# count the selected times for each feature\n",
    "feature_selection_df['Total'] = np.sum(feature_selection_df, axis=1)\n",
    "# display the top 100\n",
    "feature_selection_df = feature_selection_df.sort_values(['Total','Feature'] , ascending=False)\n",
    "feature_selection_df.index = range(1, len(feature_selection_df)+1)\n",
    "feature_selection_df"
   ]
  },
  {
   "cell_type": "code",
   "execution_count": 43,
   "metadata": {
    "execution": {
     "iopub.execute_input": "2021-02-26T14:54:48.852224Z",
     "iopub.status.busy": "2021-02-26T14:54:48.851519Z",
     "iopub.status.idle": "2021-02-26T14:54:48.853898Z",
     "shell.execute_reply": "2021-02-26T14:54:48.854373Z"
    },
    "papermill": {
     "duration": 0.072684,
     "end_time": "2021-02-26T14:54:48.854608",
     "exception": false,
     "start_time": "2021-02-26T14:54:48.781924",
     "status": "completed"
    },
    "tags": []
   },
   "outputs": [],
   "source": [
    "feature_selected = feature_selection_df.loc[(feature_selection_df.Total >= 3)]\n",
    "features = feature_selected.Feature.tolist()"
   ]
  },
  {
   "cell_type": "code",
   "execution_count": 44,
   "metadata": {
    "execution": {
     "iopub.execute_input": "2021-02-26T14:54:48.985331Z",
     "iopub.status.busy": "2021-02-26T14:54:48.984539Z",
     "iopub.status.idle": "2021-02-26T14:54:49.009869Z",
     "shell.execute_reply": "2021-02-26T14:54:49.010403Z"
    },
    "papermill": {
     "duration": 0.092375,
     "end_time": "2021-02-26T14:54:49.010583",
     "exception": false,
     "start_time": "2021-02-26T14:54:48.918208",
     "status": "completed"
    },
    "tags": []
   },
   "outputs": [],
   "source": [
    "X = X.astype(np.float32)\n",
    "Xt = Xt.astype(np.float32)\n",
    "\n",
    "# Defining categorical variables\n",
    "cat_features = features\n",
    "#cat_features = cols\n",
    "# Setting categorical variables to int64\n",
    "X[cat_features] = X[cat_features].astype(np.int64)\n",
    "Xt[cat_features] = Xt[cat_features].astype(np.int64)"
   ]
  },
  {
   "cell_type": "code",
   "execution_count": 45,
   "metadata": {
    "execution": {
     "iopub.execute_input": "2021-02-26T14:54:49.137921Z",
     "iopub.status.busy": "2021-02-26T14:54:49.137241Z",
     "iopub.status.idle": "2021-02-26T14:54:49.157204Z",
     "shell.execute_reply": "2021-02-26T14:54:49.156634Z"
    },
    "papermill": {
     "duration": 0.084869,
     "end_time": "2021-02-26T14:54:49.157363",
     "exception": false,
     "start_time": "2021-02-26T14:54:49.072494",
     "status": "completed"
    },
    "tags": []
   },
   "outputs": [
    {
     "name": "stdout",
     "output_type": "stream",
     "text": [
      "<class 'pandas.core.frame.DataFrame'>\n",
      "RangeIndex: 11153 entries, 0 to 11152\n",
      "Data columns (total 21 columns):\n",
      " #   Column                                 Non-Null Count  Dtype  \n",
      "---  ------                                 --------------  -----  \n",
      " 0   gender                                 11153 non-null  int64  \n",
      " 1   marital_status_maried(Y/N)             11153 non-null  int64  \n",
      " 2   age                                    11153 non-null  int64  \n",
      " 3   year_graduated                         11153 non-null  int64  \n",
      " 4   job_duration_in_current_job_level      11153 non-null  int64  \n",
      " 5   job_duration_in_current_branch         11153 non-null  int64  \n",
      " 6   GPA                                    11153 non-null  int64  \n",
      " 7   job_duration_from_training             11153 non-null  int64  \n",
      " 8   branch_rotation                        11153 non-null  int64  \n",
      " 9   job_rotation                           11153 non-null  int64  \n",
      " 10  assign_of_otherposition                11153 non-null  int64  \n",
      " 11  number_of_dependences                  11153 non-null  int64  \n",
      " 12  annual leave                           11153 non-null  int64  \n",
      " 13  sick_leaves                            11153 non-null  int64  \n",
      " 14  Last_achievement_%                     11153 non-null  int64  \n",
      " 15  Achievement_above_100%_during3quartal  11153 non-null  int64  \n",
      " 16  rotation                               11153 non-null  int64  \n",
      " 17  age_year_graduated                     11153 non-null  int64  \n",
      " 18  job_level                              11153 non-null  float32\n",
      " 19  person_level                           11153 non-null  int64  \n",
      " 20  Employee_type                          11153 non-null  int64  \n",
      "dtypes: float32(1), int64(20)\n",
      "memory usage: 1.7 MB\n"
     ]
    }
   ],
   "source": [
    "X.info()"
   ]
  },
  {
   "cell_type": "code",
   "execution_count": 46,
   "metadata": {
    "execution": {
     "iopub.execute_input": "2021-02-26T14:54:49.287862Z",
     "iopub.status.busy": "2021-02-26T14:54:49.286939Z",
     "iopub.status.idle": "2021-02-26T14:54:49.290256Z",
     "shell.execute_reply": "2021-02-26T14:54:49.289607Z"
    },
    "papermill": {
     "duration": 0.070303,
     "end_time": "2021-02-26T14:54:49.290417",
     "exception": false,
     "start_time": "2021-02-26T14:54:49.220114",
     "status": "completed"
    },
    "tags": []
   },
   "outputs": [],
   "source": [
    "#from imblearn.over_sampling import SMOTE\n",
    "\n",
    "#smote = SMOTE(random_state = 42)\n",
    "#X, y = smote.fit_resample(X,y)\n",
    "\n",
    "\n",
    "#sns.countplot(y)"
   ]
  },
  {
   "cell_type": "code",
   "execution_count": 47,
   "metadata": {
    "execution": {
     "iopub.execute_input": "2021-02-26T14:54:49.514424Z",
     "iopub.status.busy": "2021-02-26T14:54:49.513588Z",
     "iopub.status.idle": "2021-02-26T14:54:49.516944Z",
     "shell.execute_reply": "2021-02-26T14:54:49.516395Z"
    },
    "papermill": {
     "duration": 0.16224,
     "end_time": "2021-02-26T14:54:49.517095",
     "exception": false,
     "start_time": "2021-02-26T14:54:49.354855",
     "status": "completed"
    },
    "tags": []
   },
   "outputs": [],
   "source": [
    "import gc\n",
    "_ = gc.collect()"
   ]
  },
  {
   "cell_type": "code",
   "execution_count": 48,
   "metadata": {
    "execution": {
     "iopub.execute_input": "2021-02-26T14:54:49.649718Z",
     "iopub.status.busy": "2021-02-26T14:54:49.649006Z",
     "iopub.status.idle": "2021-02-26T14:54:49.652909Z",
     "shell.execute_reply": "2021-02-26T14:54:49.653350Z"
    },
    "papermill": {
     "duration": 0.074002,
     "end_time": "2021-02-26T14:54:49.653526",
     "exception": false,
     "start_time": "2021-02-26T14:54:49.579524",
     "status": "completed"
    },
    "tags": []
   },
   "outputs": [
    {
     "data": {
      "text/plain": [
       "'\\n\\nparam_cb = {\\'bagging_temperature\\': 0.8,\\n               \\'depth\\': 5,\\n               \\'iterations\\': 1000,\\n               \\'l2_leaf_reg\\': 30,\\n               \\'learning_rate\\': 0.02,\\n               \\'random_strength\\': 0.8,\\n            \\'bootstrap_type\\' : \\'Bayesian\\',\\n            \\'objective\\':\\'CrossEntropy\\',\\n           }\\n\\nparam_cb = {\\n        \\'learning_rate\\': 0.05,\\n        \\'random_strength\\': 0.8,\\n        \\'bagging_temperature\\': 0.8, \\n        \\'l2_leaf_reg\\': 30,\\n        \\'depth\\': 12, \\n        #\\'max_leaves\\': 48,\\n        #\\'max_bin\\':255,\\n        \\'iterations\\' : 1000,\\n        #\\'task_type\\':\\'GPU\\',\\n        \\'loss_function\\' : \"Logloss\",\\n        \\'objective\\':\\'CrossEntropy\\',\\n        \\'eval_metric\\' : \"AUC\",\\n        \\'bootstrap_type\\' : \\'Bayesian\\',\\n        \\'use_best_model\\': True \\n}\\n'"
      ]
     },
     "execution_count": 48,
     "metadata": {},
     "output_type": "execute_result"
    }
   ],
   "source": [
    "# Initializing a CatBoostClassifier with best parameters\n",
    "param_cb = {\n",
    "                'n_estimators':5000,\n",
    "                'learning_rate': 0.07,\n",
    "                'eval_metric':'AUC',\n",
    "                'loss_function':'Logloss',\n",
    "                'random_seed':2021,\n",
    "                'metric_period':500,\n",
    "                'od_wait':500,\n",
    "                #'task_type':'GPU',\n",
    "                'depth': 8,\n",
    "                #'colsample_bylevel':0.7,\n",
    "                } \n",
    "\"\"\"\n",
    "\n",
    "param_cb = {'bagging_temperature': 0.8,\n",
    "               'depth': 5,\n",
    "               'iterations': 1000,\n",
    "               'l2_leaf_reg': 30,\n",
    "               'learning_rate': 0.02,\n",
    "               'random_strength': 0.8,\n",
    "            'bootstrap_type' : 'Bayesian',\n",
    "            'objective':'CrossEntropy',\n",
    "           }\n",
    "\n",
    "param_cb = {\n",
    "        'learning_rate': 0.05,\n",
    "        'random_strength': 0.8,\n",
    "        'bagging_temperature': 0.8, \n",
    "        'l2_leaf_reg': 30,\n",
    "        'depth': 12, \n",
    "        #'max_leaves': 48,\n",
    "        #'max_bin':255,\n",
    "        'iterations' : 1000,\n",
    "        #'task_type':'GPU',\n",
    "        'loss_function' : \"Logloss\",\n",
    "        'objective':'CrossEntropy',\n",
    "        'eval_metric' : \"AUC\",\n",
    "        'bootstrap_type' : 'Bayesian',\n",
    "        'use_best_model': True \n",
    "}\n",
    "\"\"\""
   ]
  },
  {
   "cell_type": "code",
   "execution_count": 49,
   "metadata": {
    "execution": {
     "iopub.execute_input": "2021-02-26T14:54:49.785072Z",
     "iopub.status.busy": "2021-02-26T14:54:49.784411Z",
     "iopub.status.idle": "2021-02-26T14:54:49.787482Z",
     "shell.execute_reply": "2021-02-26T14:54:49.788063Z"
    },
    "papermill": {
     "duration": 0.071592,
     "end_time": "2021-02-26T14:54:49.788247",
     "exception": false,
     "start_time": "2021-02-26T14:54:49.716655",
     "status": "completed"
    },
    "tags": []
   },
   "outputs": [],
   "source": [
    "# Setting a n-fold stratified cross-validation (note: shuffle=True)\n",
    "SEED = 2021\n",
    "#SEED = 42\n",
    "FOLDS = 100\n",
    "#FOLDS = 5\n",
    "skf = StratifiedKFold(n_splits=FOLDS, shuffle=True, random_state=SEED)"
   ]
  },
  {
   "cell_type": "code",
   "execution_count": 50,
   "metadata": {
    "execution": {
     "iopub.execute_input": "2021-02-26T14:54:49.927403Z",
     "iopub.status.busy": "2021-02-26T14:54:49.926695Z",
     "iopub.status.idle": "2021-02-26T15:55:41.278183Z",
     "shell.execute_reply": "2021-02-26T15:55:41.278633Z"
    },
    "papermill": {
     "duration": 3651.427398,
     "end_time": "2021-02-26T15:55:41.278885",
     "exception": false,
     "start_time": "2021-02-26T14:54:49.851487",
     "status": "completed"
    },
    "tags": []
   },
   "outputs": [
    {
     "name": "stderr",
     "output_type": "stream",
     "text": [
      "Warning: Overfitting detector is active, thus evaluation metric is calculated on every iteration. 'metric_period' is ignored for evaluation metric.\n"
     ]
    },
    {
     "name": "stdout",
     "output_type": "stream",
     "text": [
      "0:\ttest: 0.5664063\tbest: 0.5664063 (0)\ttotal: 75.7ms\tremaining: 6m 18s\n",
      "500:\ttest: 0.5416667\tbest: 0.6302083 (2)\ttotal: 29.3s\tremaining: 4m 23s\n",
      "Stopped by overfitting detector  (500 iterations wait)\n",
      "\n",
      "bestTest = 0.6302083333\n",
      "bestIteration = 2\n",
      "\n",
      "Shrink model to first 3 iterations.\n"
     ]
    },
    {
     "name": "stderr",
     "output_type": "stream",
     "text": [
      "Warning: Overfitting detector is active, thus evaluation metric is calculated on every iteration. 'metric_period' is ignored for evaluation metric.\n"
     ]
    },
    {
     "name": "stdout",
     "output_type": "stream",
     "text": [
      "0:\ttest: 0.4635417\tbest: 0.4635417 (0)\ttotal: 17.5ms\tremaining: 1m 27s\n",
      "500:\ttest: 0.4290365\tbest: 0.5175781 (96)\ttotal: 29.6s\tremaining: 4m 26s\n",
      "Stopped by overfitting detector  (500 iterations wait)\n",
      "\n",
      "bestTest = 0.517578125\n",
      "bestIteration = 96\n",
      "\n",
      "Shrink model to first 97 iterations.\n"
     ]
    },
    {
     "name": "stderr",
     "output_type": "stream",
     "text": [
      "Warning: Overfitting detector is active, thus evaluation metric is calculated on every iteration. 'metric_period' is ignored for evaluation metric.\n"
     ]
    },
    {
     "name": "stdout",
     "output_type": "stream",
     "text": [
      "0:\ttest: 0.5130208\tbest: 0.5130208 (0)\ttotal: 27.2ms\tremaining: 2m 16s\n",
      "500:\ttest: 0.5664063\tbest: 0.6598307 (13)\ttotal: 30s\tremaining: 4m 29s\n",
      "Stopped by overfitting detector  (500 iterations wait)\n",
      "\n",
      "bestTest = 0.6598307292\n",
      "bestIteration = 13\n",
      "\n",
      "Shrink model to first 14 iterations.\n"
     ]
    },
    {
     "name": "stderr",
     "output_type": "stream",
     "text": [
      "Warning: Overfitting detector is active, thus evaluation metric is calculated on every iteration. 'metric_period' is ignored for evaluation metric.\n"
     ]
    },
    {
     "name": "stdout",
     "output_type": "stream",
     "text": [
      "0:\ttest: 0.5520833\tbest: 0.5520833 (0)\ttotal: 20.3ms\tremaining: 1m 41s\n",
      "500:\ttest: 0.5195313\tbest: 0.6165365 (6)\ttotal: 30.2s\tremaining: 4m 30s\n",
      "Stopped by overfitting detector  (500 iterations wait)\n",
      "\n",
      "bestTest = 0.6165364583\n",
      "bestIteration = 6\n",
      "\n",
      "Shrink model to first 7 iterations.\n"
     ]
    },
    {
     "name": "stderr",
     "output_type": "stream",
     "text": [
      "Warning: Overfitting detector is active, thus evaluation metric is calculated on every iteration. 'metric_period' is ignored for evaluation metric.\n"
     ]
    },
    {
     "name": "stdout",
     "output_type": "stream",
     "text": [
      "0:\ttest: 0.6276042\tbest: 0.6276042 (0)\ttotal: 20.3ms\tremaining: 1m 41s\n",
      "500:\ttest: 0.4980469\tbest: 0.7594401 (9)\ttotal: 30.1s\tremaining: 4m 30s\n",
      "Stopped by overfitting detector  (500 iterations wait)\n",
      "\n",
      "bestTest = 0.7594401042\n",
      "bestIteration = 9\n",
      "\n",
      "Shrink model to first 10 iterations.\n"
     ]
    },
    {
     "name": "stderr",
     "output_type": "stream",
     "text": [
      "Warning: Overfitting detector is active, thus evaluation metric is calculated on every iteration. 'metric_period' is ignored for evaluation metric.\n"
     ]
    },
    {
     "name": "stdout",
     "output_type": "stream",
     "text": [
      "0:\ttest: 0.5833333\tbest: 0.5833333 (0)\ttotal: 18.3ms\tremaining: 1m 31s\n",
      "500:\ttest: 0.3821615\tbest: 0.6018880 (7)\ttotal: 30s\tremaining: 4m 29s\n",
      "Stopped by overfitting detector  (500 iterations wait)\n",
      "\n",
      "bestTest = 0.6018880208\n",
      "bestIteration = 7\n",
      "\n",
      "Shrink model to first 8 iterations.\n"
     ]
    },
    {
     "name": "stderr",
     "output_type": "stream",
     "text": [
      "Warning: Overfitting detector is active, thus evaluation metric is calculated on every iteration. 'metric_period' is ignored for evaluation metric.\n"
     ]
    },
    {
     "name": "stdout",
     "output_type": "stream",
     "text": [
      "0:\ttest: 0.4511719\tbest: 0.4511719 (0)\ttotal: 24ms\tremaining: 1m 59s\n",
      "500:\ttest: 0.5410156\tbest: 0.5576172 (1)\ttotal: 30.4s\tremaining: 4m 33s\n",
      "Stopped by overfitting detector  (500 iterations wait)\n",
      "\n",
      "bestTest = 0.5576171875\n",
      "bestIteration = 1\n",
      "\n",
      "Shrink model to first 2 iterations.\n"
     ]
    },
    {
     "name": "stderr",
     "output_type": "stream",
     "text": [
      "Warning: Overfitting detector is active, thus evaluation metric is calculated on every iteration. 'metric_period' is ignored for evaluation metric.\n"
     ]
    },
    {
     "name": "stdout",
     "output_type": "stream",
     "text": [
      "0:\ttest: 0.4055990\tbest: 0.4055990 (0)\ttotal: 22.9ms\tremaining: 1m 54s\n",
      "500:\ttest: 0.5358073\tbest: 0.5709635 (357)\ttotal: 29.9s\tremaining: 4m 28s\n",
      "Stopped by overfitting detector  (500 iterations wait)\n",
      "\n",
      "bestTest = 0.5709635417\n",
      "bestIteration = 357\n",
      "\n",
      "Shrink model to first 358 iterations.\n"
     ]
    },
    {
     "name": "stderr",
     "output_type": "stream",
     "text": [
      "Warning: Overfitting detector is active, thus evaluation metric is calculated on every iteration. 'metric_period' is ignored for evaluation metric.\n"
     ]
    },
    {
     "name": "stdout",
     "output_type": "stream",
     "text": [
      "0:\ttest: 0.5781250\tbest: 0.5781250 (0)\ttotal: 19.1ms\tremaining: 1m 35s\n",
      "500:\ttest: 0.6829427\tbest: 0.7174479 (392)\ttotal: 30.6s\tremaining: 4m 34s\n",
      "Stopped by overfitting detector  (500 iterations wait)\n",
      "\n",
      "bestTest = 0.7174479167\n",
      "bestIteration = 392\n",
      "\n",
      "Shrink model to first 393 iterations.\n"
     ]
    },
    {
     "name": "stderr",
     "output_type": "stream",
     "text": [
      "Warning: Overfitting detector is active, thus evaluation metric is calculated on every iteration. 'metric_period' is ignored for evaluation metric.\n"
     ]
    },
    {
     "name": "stdout",
     "output_type": "stream",
     "text": [
      "0:\ttest: 0.5081380\tbest: 0.5081380 (0)\ttotal: 17.7ms\tremaining: 1m 28s\n",
      "500:\ttest: 0.3678385\tbest: 0.5426432 (12)\ttotal: 30.6s\tremaining: 4m 34s\n",
      "Stopped by overfitting detector  (500 iterations wait)\n",
      "\n",
      "bestTest = 0.5426432292\n",
      "bestIteration = 12\n",
      "\n",
      "Shrink model to first 13 iterations.\n"
     ]
    },
    {
     "name": "stderr",
     "output_type": "stream",
     "text": [
      "Warning: Overfitting detector is active, thus evaluation metric is calculated on every iteration. 'metric_period' is ignored for evaluation metric.\n"
     ]
    },
    {
     "name": "stdout",
     "output_type": "stream",
     "text": [
      "0:\ttest: 0.5208333\tbest: 0.5208333 (0)\ttotal: 21ms\tremaining: 1m 44s\n",
      "500:\ttest: 0.4576823\tbest: 0.6171875 (106)\ttotal: 30.5s\tremaining: 4m 34s\n",
      "Stopped by overfitting detector  (500 iterations wait)\n",
      "\n",
      "bestTest = 0.6171875\n",
      "bestIteration = 106\n",
      "\n",
      "Shrink model to first 107 iterations.\n"
     ]
    },
    {
     "name": "stderr",
     "output_type": "stream",
     "text": [
      "Warning: Overfitting detector is active, thus evaluation metric is calculated on every iteration. 'metric_period' is ignored for evaluation metric.\n"
     ]
    },
    {
     "name": "stdout",
     "output_type": "stream",
     "text": [
      "0:\ttest: 0.5647786\tbest: 0.5647786 (0)\ttotal: 19.4ms\tremaining: 1m 36s\n",
      "500:\ttest: 0.5937500\tbest: 0.6569010 (133)\ttotal: 30.4s\tremaining: 4m 33s\n",
      "Stopped by overfitting detector  (500 iterations wait)\n",
      "\n",
      "bestTest = 0.6569010417\n",
      "bestIteration = 133\n",
      "\n",
      "Shrink model to first 134 iterations.\n"
     ]
    },
    {
     "name": "stderr",
     "output_type": "stream",
     "text": [
      "Warning: Overfitting detector is active, thus evaluation metric is calculated on every iteration. 'metric_period' is ignored for evaluation metric.\n"
     ]
    },
    {
     "name": "stdout",
     "output_type": "stream",
     "text": [
      "0:\ttest: 0.6354167\tbest: 0.6354167 (0)\ttotal: 19.7ms\tremaining: 1m 38s\n",
      "500:\ttest: 0.4427083\tbest: 0.6354167 (0)\ttotal: 30.1s\tremaining: 4m 30s\n",
      "Stopped by overfitting detector  (500 iterations wait)\n",
      "\n",
      "bestTest = 0.6354166667\n",
      "bestIteration = 0\n",
      "\n",
      "Shrink model to first 1 iterations.\n"
     ]
    },
    {
     "name": "stderr",
     "output_type": "stream",
     "text": [
      "Warning: Overfitting detector is active, thus evaluation metric is calculated on every iteration. 'metric_period' is ignored for evaluation metric.\n"
     ]
    },
    {
     "name": "stdout",
     "output_type": "stream",
     "text": [
      "0:\ttest: 0.5286458\tbest: 0.5286458 (0)\ttotal: 26.9ms\tremaining: 2m 14s\n",
      "500:\ttest: 0.4830729\tbest: 0.7132161 (18)\ttotal: 30.5s\tremaining: 4m 33s\n",
      "Stopped by overfitting detector  (500 iterations wait)\n",
      "\n",
      "bestTest = 0.7132161458\n",
      "bestIteration = 18\n",
      "\n",
      "Shrink model to first 19 iterations.\n"
     ]
    },
    {
     "name": "stderr",
     "output_type": "stream",
     "text": [
      "Warning: Overfitting detector is active, thus evaluation metric is calculated on every iteration. 'metric_period' is ignored for evaluation metric.\n"
     ]
    },
    {
     "name": "stdout",
     "output_type": "stream",
     "text": [
      "0:\ttest: 0.5416667\tbest: 0.5416667 (0)\ttotal: 18.5ms\tremaining: 1m 32s\n",
      "500:\ttest: 0.5429688\tbest: 0.6972656 (13)\ttotal: 30.4s\tremaining: 4m 33s\n",
      "Stopped by overfitting detector  (500 iterations wait)\n",
      "\n",
      "bestTest = 0.697265625\n",
      "bestIteration = 13\n",
      "\n",
      "Shrink model to first 14 iterations.\n"
     ]
    },
    {
     "name": "stderr",
     "output_type": "stream",
     "text": [
      "Warning: Overfitting detector is active, thus evaluation metric is calculated on every iteration. 'metric_period' is ignored for evaluation metric.\n"
     ]
    },
    {
     "name": "stdout",
     "output_type": "stream",
     "text": [
      "0:\ttest: 0.4277344\tbest: 0.4277344 (0)\ttotal: 18.8ms\tremaining: 1m 33s\n",
      "500:\ttest: 0.6204427\tbest: 0.6738281 (25)\ttotal: 30.4s\tremaining: 4m 33s\n",
      "Stopped by overfitting detector  (500 iterations wait)\n",
      "\n",
      "bestTest = 0.673828125\n",
      "bestIteration = 25\n",
      "\n",
      "Shrink model to first 26 iterations.\n"
     ]
    },
    {
     "name": "stderr",
     "output_type": "stream",
     "text": [
      "Warning: Overfitting detector is active, thus evaluation metric is calculated on every iteration. 'metric_period' is ignored for evaluation metric.\n"
     ]
    },
    {
     "name": "stdout",
     "output_type": "stream",
     "text": [
      "0:\ttest: 0.5950464\tbest: 0.5950464 (0)\ttotal: 19.5ms\tremaining: 1m 37s\n",
      "500:\ttest: 0.5417957\tbest: 0.6452012 (5)\ttotal: 30.5s\tremaining: 4m 33s\n",
      "Stopped by overfitting detector  (500 iterations wait)\n",
      "\n",
      "bestTest = 0.6452012384\n",
      "bestIteration = 5\n",
      "\n",
      "Shrink model to first 6 iterations.\n"
     ]
    },
    {
     "name": "stderr",
     "output_type": "stream",
     "text": [
      "Warning: Overfitting detector is active, thus evaluation metric is calculated on every iteration. 'metric_period' is ignored for evaluation metric.\n"
     ]
    },
    {
     "name": "stdout",
     "output_type": "stream",
     "text": [
      "0:\ttest: 0.4244582\tbest: 0.4244582 (0)\ttotal: 19.6ms\tremaining: 1m 38s\n",
      "500:\ttest: 0.5535604\tbest: 0.5560372 (494)\ttotal: 30.1s\tremaining: 4m 30s\n",
      "1000:\ttest: 0.4848297\tbest: 0.5789474 (548)\ttotal: 1m 2s\tremaining: 4m 10s\n",
      "Stopped by overfitting detector  (500 iterations wait)\n",
      "\n",
      "bestTest = 0.5789473684\n",
      "bestIteration = 548\n",
      "\n",
      "Shrink model to first 549 iterations.\n"
     ]
    },
    {
     "name": "stderr",
     "output_type": "stream",
     "text": [
      "Warning: Overfitting detector is active, thus evaluation metric is calculated on every iteration. 'metric_period' is ignored for evaluation metric.\n"
     ]
    },
    {
     "name": "stdout",
     "output_type": "stream",
     "text": [
      "0:\ttest: 0.5089783\tbest: 0.5089783 (0)\ttotal: 18.2ms\tremaining: 1m 31s\n",
      "500:\ttest: 0.5021672\tbest: 0.6111455 (148)\ttotal: 31s\tremaining: 4m 38s\n",
      "Stopped by overfitting detector  (500 iterations wait)\n",
      "\n",
      "bestTest = 0.6111455108\n",
      "bestIteration = 148\n",
      "\n",
      "Shrink model to first 149 iterations.\n"
     ]
    },
    {
     "name": "stderr",
     "output_type": "stream",
     "text": [
      "Warning: Overfitting detector is active, thus evaluation metric is calculated on every iteration. 'metric_period' is ignored for evaluation metric.\n"
     ]
    },
    {
     "name": "stdout",
     "output_type": "stream",
     "text": [
      "0:\ttest: 0.4879257\tbest: 0.4879257 (0)\ttotal: 20.9ms\tremaining: 1m 44s\n",
      "500:\ttest: 0.5058824\tbest: 0.5975232 (38)\ttotal: 30s\tremaining: 4m 29s\n",
      "Stopped by overfitting detector  (500 iterations wait)\n",
      "\n",
      "bestTest = 0.5975232198\n",
      "bestIteration = 38\n",
      "\n",
      "Shrink model to first 39 iterations.\n"
     ]
    },
    {
     "name": "stderr",
     "output_type": "stream",
     "text": [
      "Warning: Overfitting detector is active, thus evaluation metric is calculated on every iteration. 'metric_period' is ignored for evaluation metric.\n"
     ]
    },
    {
     "name": "stdout",
     "output_type": "stream",
     "text": [
      "0:\ttest: 0.4331269\tbest: 0.4331269 (0)\ttotal: 21ms\tremaining: 1m 44s\n",
      "500:\ttest: 0.5058824\tbest: 0.5504644 (274)\ttotal: 29.9s\tremaining: 4m 28s\n",
      "1000:\ttest: 0.5071207\tbest: 0.5547988 (579)\ttotal: 1m 2s\tremaining: 4m 7s\n",
      "Stopped by overfitting detector  (500 iterations wait)\n",
      "\n",
      "bestTest = 0.5547987616\n",
      "bestIteration = 579\n",
      "\n",
      "Shrink model to first 580 iterations.\n"
     ]
    },
    {
     "name": "stderr",
     "output_type": "stream",
     "text": [
      "Warning: Overfitting detector is active, thus evaluation metric is calculated on every iteration. 'metric_period' is ignored for evaluation metric.\n"
     ]
    },
    {
     "name": "stdout",
     "output_type": "stream",
     "text": [
      "0:\ttest: 0.6055728\tbest: 0.6055728 (0)\ttotal: 17.9ms\tremaining: 1m 29s\n",
      "500:\ttest: 0.4767802\tbest: 0.6315789 (56)\ttotal: 30.1s\tremaining: 4m 29s\n",
      "Stopped by overfitting detector  (500 iterations wait)\n",
      "\n",
      "bestTest = 0.6315789474\n",
      "bestIteration = 56\n",
      "\n",
      "Shrink model to first 57 iterations.\n"
     ]
    },
    {
     "name": "stderr",
     "output_type": "stream",
     "text": [
      "Warning: Overfitting detector is active, thus evaluation metric is calculated on every iteration. 'metric_period' is ignored for evaluation metric.\n"
     ]
    },
    {
     "name": "stdout",
     "output_type": "stream",
     "text": [
      "0:\ttest: 0.4133127\tbest: 0.4133127 (0)\ttotal: 19ms\tremaining: 1m 35s\n",
      "500:\ttest: 0.6037152\tbest: 0.6817337 (93)\ttotal: 29.6s\tremaining: 4m 26s\n",
      "Stopped by overfitting detector  (500 iterations wait)\n",
      "\n",
      "bestTest = 0.6817337461\n",
      "bestIteration = 93\n",
      "\n",
      "Shrink model to first 94 iterations.\n"
     ]
    },
    {
     "name": "stderr",
     "output_type": "stream",
     "text": [
      "Warning: Overfitting detector is active, thus evaluation metric is calculated on every iteration. 'metric_period' is ignored for evaluation metric.\n"
     ]
    },
    {
     "name": "stdout",
     "output_type": "stream",
     "text": [
      "0:\ttest: 0.5953560\tbest: 0.5953560 (0)\ttotal: 18.1ms\tremaining: 1m 30s\n",
      "500:\ttest: 0.5795666\tbest: 0.7015480 (29)\ttotal: 30.2s\tremaining: 4m 30s\n",
      "Stopped by overfitting detector  (500 iterations wait)\n",
      "\n",
      "bestTest = 0.7015479876\n",
      "bestIteration = 29\n",
      "\n",
      "Shrink model to first 30 iterations.\n"
     ]
    },
    {
     "name": "stderr",
     "output_type": "stream",
     "text": [
      "Warning: Overfitting detector is active, thus evaluation metric is calculated on every iteration. 'metric_period' is ignored for evaluation metric.\n"
     ]
    },
    {
     "name": "stdout",
     "output_type": "stream",
     "text": [
      "0:\ttest: 0.5616099\tbest: 0.5616099 (0)\ttotal: 18.6ms\tremaining: 1m 32s\n",
      "500:\ttest: 0.6037152\tbest: 0.7089783 (22)\ttotal: 29.8s\tremaining: 4m 27s\n",
      "Stopped by overfitting detector  (500 iterations wait)\n",
      "\n",
      "bestTest = 0.7089783282\n",
      "bestIteration = 22\n",
      "\n",
      "Shrink model to first 23 iterations.\n"
     ]
    },
    {
     "name": "stderr",
     "output_type": "stream",
     "text": [
      "Warning: Overfitting detector is active, thus evaluation metric is calculated on every iteration. 'metric_period' is ignored for evaluation metric.\n"
     ]
    },
    {
     "name": "stdout",
     "output_type": "stream",
     "text": [
      "0:\ttest: 0.4804954\tbest: 0.4804954 (0)\ttotal: 18.3ms\tremaining: 1m 31s\n",
      "500:\ttest: 0.6185759\tbest: 0.6551084 (367)\ttotal: 29.8s\tremaining: 4m 27s\n",
      "Stopped by overfitting detector  (500 iterations wait)\n",
      "\n",
      "bestTest = 0.6551083591\n",
      "bestIteration = 367\n",
      "\n",
      "Shrink model to first 368 iterations.\n"
     ]
    },
    {
     "name": "stderr",
     "output_type": "stream",
     "text": [
      "Warning: Overfitting detector is active, thus evaluation metric is calculated on every iteration. 'metric_period' is ignored for evaluation metric.\n"
     ]
    },
    {
     "name": "stdout",
     "output_type": "stream",
     "text": [
      "0:\ttest: 0.6173375\tbest: 0.6173375 (0)\ttotal: 18.6ms\tremaining: 1m 32s\n",
      "500:\ttest: 0.5764706\tbest: 0.6671827 (6)\ttotal: 29.4s\tremaining: 4m 24s\n",
      "Stopped by overfitting detector  (500 iterations wait)\n",
      "\n",
      "bestTest = 0.6671826625\n",
      "bestIteration = 6\n",
      "\n",
      "Shrink model to first 7 iterations.\n"
     ]
    },
    {
     "name": "stderr",
     "output_type": "stream",
     "text": [
      "Warning: Overfitting detector is active, thus evaluation metric is calculated on every iteration. 'metric_period' is ignored for evaluation metric.\n"
     ]
    },
    {
     "name": "stdout",
     "output_type": "stream",
     "text": [
      "0:\ttest: 0.5356037\tbest: 0.5356037 (0)\ttotal: 18.5ms\tremaining: 1m 32s\n",
      "500:\ttest: 0.5306502\tbest: 0.6117647 (116)\ttotal: 29.8s\tremaining: 4m 27s\n",
      "Stopped by overfitting detector  (500 iterations wait)\n",
      "\n",
      "bestTest = 0.6117647059\n",
      "bestIteration = 116\n",
      "\n",
      "Shrink model to first 117 iterations.\n"
     ]
    },
    {
     "name": "stderr",
     "output_type": "stream",
     "text": [
      "Warning: Overfitting detector is active, thus evaluation metric is calculated on every iteration. 'metric_period' is ignored for evaluation metric.\n"
     ]
    },
    {
     "name": "stdout",
     "output_type": "stream",
     "text": [
      "0:\ttest: 0.5040248\tbest: 0.5040248 (0)\ttotal: 19.3ms\tremaining: 1m 36s\n",
      "500:\ttest: 0.5578947\tbest: 0.6482972 (168)\ttotal: 30.4s\tremaining: 4m 33s\n",
      "Stopped by overfitting detector  (500 iterations wait)\n",
      "\n",
      "bestTest = 0.6482972136\n",
      "bestIteration = 168\n",
      "\n",
      "Shrink model to first 169 iterations.\n"
     ]
    },
    {
     "name": "stderr",
     "output_type": "stream",
     "text": [
      "Warning: Overfitting detector is active, thus evaluation metric is calculated on every iteration. 'metric_period' is ignored for evaluation metric.\n"
     ]
    },
    {
     "name": "stdout",
     "output_type": "stream",
     "text": [
      "0:\ttest: 0.4931889\tbest: 0.4931889 (0)\ttotal: 18.3ms\tremaining: 1m 31s\n",
      "500:\ttest: 0.5102167\tbest: 0.5777090 (263)\ttotal: 30.5s\tremaining: 4m 34s\n",
      "Stopped by overfitting detector  (500 iterations wait)\n",
      "\n",
      "bestTest = 0.5777089783\n",
      "bestIteration = 263\n",
      "\n",
      "Shrink model to first 264 iterations.\n"
     ]
    },
    {
     "name": "stderr",
     "output_type": "stream",
     "text": [
      "Warning: Overfitting detector is active, thus evaluation metric is calculated on every iteration. 'metric_period' is ignored for evaluation metric.\n"
     ]
    },
    {
     "name": "stdout",
     "output_type": "stream",
     "text": [
      "0:\ttest: 0.3507740\tbest: 0.3507740 (0)\ttotal: 19.9ms\tremaining: 1m 39s\n",
      "500:\ttest: 0.5950464\tbest: 0.6625387 (172)\ttotal: 29.5s\tremaining: 4m 25s\n",
      "Stopped by overfitting detector  (500 iterations wait)\n",
      "\n",
      "bestTest = 0.6625386997\n",
      "bestIteration = 172\n",
      "\n",
      "Shrink model to first 173 iterations.\n"
     ]
    },
    {
     "name": "stderr",
     "output_type": "stream",
     "text": [
      "Warning: Overfitting detector is active, thus evaluation metric is calculated on every iteration. 'metric_period' is ignored for evaluation metric.\n"
     ]
    },
    {
     "name": "stdout",
     "output_type": "stream",
     "text": [
      "0:\ttest: 0.4427245\tbest: 0.4427245 (0)\ttotal: 17.9ms\tremaining: 1m 29s\n",
      "500:\ttest: 0.5665635\tbest: 0.6755418 (101)\ttotal: 29.6s\tremaining: 4m 25s\n",
      "Stopped by overfitting detector  (500 iterations wait)\n",
      "\n",
      "bestTest = 0.6755417957\n",
      "bestIteration = 101\n",
      "\n",
      "Shrink model to first 102 iterations.\n"
     ]
    },
    {
     "name": "stderr",
     "output_type": "stream",
     "text": [
      "Warning: Overfitting detector is active, thus evaluation metric is calculated on every iteration. 'metric_period' is ignored for evaluation metric.\n"
     ]
    },
    {
     "name": "stdout",
     "output_type": "stream",
     "text": [
      "0:\ttest: 0.5832817\tbest: 0.5832817 (0)\ttotal: 17.9ms\tremaining: 1m 29s\n",
      "500:\ttest: 0.5498452\tbest: 0.6643963 (20)\ttotal: 29.7s\tremaining: 4m 27s\n",
      "Stopped by overfitting detector  (500 iterations wait)\n",
      "\n",
      "bestTest = 0.6643962848\n",
      "bestIteration = 20\n",
      "\n",
      "Shrink model to first 21 iterations.\n"
     ]
    },
    {
     "name": "stderr",
     "output_type": "stream",
     "text": [
      "Warning: Overfitting detector is active, thus evaluation metric is calculated on every iteration. 'metric_period' is ignored for evaluation metric.\n"
     ]
    },
    {
     "name": "stdout",
     "output_type": "stream",
     "text": [
      "0:\ttest: 0.4640867\tbest: 0.4640867 (0)\ttotal: 18.5ms\tremaining: 1m 32s\n",
      "500:\ttest: 0.5900929\tbest: 0.6359133 (291)\ttotal: 29.7s\tremaining: 4m 26s\n",
      "Stopped by overfitting detector  (500 iterations wait)\n",
      "\n",
      "bestTest = 0.6359133127\n",
      "bestIteration = 291\n",
      "\n",
      "Shrink model to first 292 iterations.\n"
     ]
    },
    {
     "name": "stderr",
     "output_type": "stream",
     "text": [
      "Warning: Overfitting detector is active, thus evaluation metric is calculated on every iteration. 'metric_period' is ignored for evaluation metric.\n"
     ]
    },
    {
     "name": "stdout",
     "output_type": "stream",
     "text": [
      "0:\ttest: 0.4749226\tbest: 0.4749226 (0)\ttotal: 18.1ms\tremaining: 1m 30s\n",
      "500:\ttest: 0.4334365\tbest: 0.5665635 (38)\ttotal: 30s\tremaining: 4m 29s\n",
      "Stopped by overfitting detector  (500 iterations wait)\n",
      "\n",
      "bestTest = 0.5665634675\n",
      "bestIteration = 38\n",
      "\n",
      "Shrink model to first 39 iterations.\n"
     ]
    },
    {
     "name": "stderr",
     "output_type": "stream",
     "text": [
      "Warning: Overfitting detector is active, thus evaluation metric is calculated on every iteration. 'metric_period' is ignored for evaluation metric.\n"
     ]
    },
    {
     "name": "stdout",
     "output_type": "stream",
     "text": [
      "0:\ttest: 0.5603715\tbest: 0.5603715 (0)\ttotal: 19.7ms\tremaining: 1m 38s\n",
      "500:\ttest: 0.5820433\tbest: 0.7845201 (90)\ttotal: 29.8s\tremaining: 4m 27s\n",
      "Stopped by overfitting detector  (500 iterations wait)\n",
      "\n",
      "bestTest = 0.7845201238\n",
      "bestIteration = 90\n",
      "\n",
      "Shrink model to first 91 iterations.\n"
     ]
    },
    {
     "name": "stderr",
     "output_type": "stream",
     "text": [
      "Warning: Overfitting detector is active, thus evaluation metric is calculated on every iteration. 'metric_period' is ignored for evaluation metric.\n"
     ]
    },
    {
     "name": "stdout",
     "output_type": "stream",
     "text": [
      "0:\ttest: 0.4597523\tbest: 0.4597523 (0)\ttotal: 19ms\tremaining: 1m 34s\n",
      "500:\ttest: 0.3801858\tbest: 0.5547988 (86)\ttotal: 29.9s\tremaining: 4m 28s\n",
      "Stopped by overfitting detector  (500 iterations wait)\n",
      "\n",
      "bestTest = 0.5547987616\n",
      "bestIteration = 86\n",
      "\n",
      "Shrink model to first 87 iterations.\n"
     ]
    },
    {
     "name": "stderr",
     "output_type": "stream",
     "text": [
      "Warning: Overfitting detector is active, thus evaluation metric is calculated on every iteration. 'metric_period' is ignored for evaluation metric.\n"
     ]
    },
    {
     "name": "stdout",
     "output_type": "stream",
     "text": [
      "0:\ttest: 0.5699690\tbest: 0.5699690 (0)\ttotal: 17.6ms\tremaining: 1m 28s\n",
      "500:\ttest: 0.6873065\tbest: 0.6928793 (458)\ttotal: 29.7s\tremaining: 4m 26s\n",
      "1000:\ttest: 0.6804954\tbest: 0.7034056 (550)\ttotal: 1m 1s\tremaining: 4m 4s\n",
      "Stopped by overfitting detector  (500 iterations wait)\n",
      "\n",
      "bestTest = 0.7034055728\n",
      "bestIteration = 550\n",
      "\n",
      "Shrink model to first 551 iterations.\n"
     ]
    },
    {
     "name": "stderr",
     "output_type": "stream",
     "text": [
      "Warning: Overfitting detector is active, thus evaluation metric is calculated on every iteration. 'metric_period' is ignored for evaluation metric.\n"
     ]
    },
    {
     "name": "stdout",
     "output_type": "stream",
     "text": [
      "0:\ttest: 0.5594427\tbest: 0.5594427 (0)\ttotal: 19ms\tremaining: 1m 34s\n",
      "500:\ttest: 0.5399381\tbest: 0.6625387 (14)\ttotal: 29.2s\tremaining: 4m 22s\n",
      "Stopped by overfitting detector  (500 iterations wait)\n",
      "\n",
      "bestTest = 0.6625386997\n",
      "bestIteration = 14\n",
      "\n",
      "Shrink model to first 15 iterations.\n"
     ]
    },
    {
     "name": "stderr",
     "output_type": "stream",
     "text": [
      "Warning: Overfitting detector is active, thus evaluation metric is calculated on every iteration. 'metric_period' is ignored for evaluation metric.\n"
     ]
    },
    {
     "name": "stdout",
     "output_type": "stream",
     "text": [
      "0:\ttest: 0.5300310\tbest: 0.5300310 (0)\ttotal: 17.4ms\tremaining: 1m 26s\n",
      "500:\ttest: 0.7300310\tbest: 0.7925697 (103)\ttotal: 29.6s\tremaining: 4m 25s\n",
      "Stopped by overfitting detector  (500 iterations wait)\n",
      "\n",
      "bestTest = 0.7925696594\n",
      "bestIteration = 103\n",
      "\n",
      "Shrink model to first 104 iterations.\n"
     ]
    },
    {
     "name": "stderr",
     "output_type": "stream",
     "text": [
      "Warning: Overfitting detector is active, thus evaluation metric is calculated on every iteration. 'metric_period' is ignored for evaluation metric.\n"
     ]
    },
    {
     "name": "stdout",
     "output_type": "stream",
     "text": [
      "0:\ttest: 0.5089783\tbest: 0.5089783 (0)\ttotal: 17.7ms\tremaining: 1m 28s\n",
      "500:\ttest: 0.5238390\tbest: 0.5900929 (8)\ttotal: 30.2s\tremaining: 4m 31s\n",
      "Stopped by overfitting detector  (500 iterations wait)\n",
      "\n",
      "bestTest = 0.5900928793\n",
      "bestIteration = 8\n",
      "\n",
      "Shrink model to first 9 iterations.\n"
     ]
    },
    {
     "name": "stderr",
     "output_type": "stream",
     "text": [
      "Warning: Overfitting detector is active, thus evaluation metric is calculated on every iteration. 'metric_period' is ignored for evaluation metric.\n"
     ]
    },
    {
     "name": "stdout",
     "output_type": "stream",
     "text": [
      "0:\ttest: 0.4380805\tbest: 0.4380805 (0)\ttotal: 19.8ms\tremaining: 1m 39s\n",
      "500:\ttest: 0.6904025\tbest: 0.7417957 (119)\ttotal: 29.8s\tremaining: 4m 27s\n",
      "Stopped by overfitting detector  (500 iterations wait)\n",
      "\n",
      "bestTest = 0.7417956656\n",
      "bestIteration = 119\n",
      "\n",
      "Shrink model to first 120 iterations.\n"
     ]
    },
    {
     "name": "stderr",
     "output_type": "stream",
     "text": [
      "Warning: Overfitting detector is active, thus evaluation metric is calculated on every iteration. 'metric_period' is ignored for evaluation metric.\n"
     ]
    },
    {
     "name": "stdout",
     "output_type": "stream",
     "text": [
      "0:\ttest: 0.5541796\tbest: 0.5541796 (0)\ttotal: 18.9ms\tremaining: 1m 34s\n",
      "500:\ttest: 0.4854489\tbest: 0.5541796 (0)\ttotal: 30.1s\tremaining: 4m 30s\n",
      "Stopped by overfitting detector  (500 iterations wait)\n",
      "\n",
      "bestTest = 0.5541795666\n",
      "bestIteration = 0\n",
      "\n",
      "Shrink model to first 1 iterations.\n"
     ]
    },
    {
     "name": "stderr",
     "output_type": "stream",
     "text": [
      "Warning: Overfitting detector is active, thus evaluation metric is calculated on every iteration. 'metric_period' is ignored for evaluation metric.\n"
     ]
    },
    {
     "name": "stdout",
     "output_type": "stream",
     "text": [
      "0:\ttest: 0.5730650\tbest: 0.5730650 (0)\ttotal: 27.3ms\tremaining: 2m 16s\n",
      "500:\ttest: 0.6173375\tbest: 0.7021672 (32)\ttotal: 30.1s\tremaining: 4m 30s\n",
      "Stopped by overfitting detector  (500 iterations wait)\n",
      "\n",
      "bestTest = 0.7021671827\n",
      "bestIteration = 32\n",
      "\n",
      "Shrink model to first 33 iterations.\n"
     ]
    },
    {
     "name": "stderr",
     "output_type": "stream",
     "text": [
      "Warning: Overfitting detector is active, thus evaluation metric is calculated on every iteration. 'metric_period' is ignored for evaluation metric.\n"
     ]
    },
    {
     "name": "stdout",
     "output_type": "stream",
     "text": [
      "0:\ttest: 0.4260062\tbest: 0.4260062 (0)\ttotal: 21ms\tremaining: 1m 45s\n",
      "500:\ttest: 0.5517028\tbest: 0.6145511 (19)\ttotal: 29.8s\tremaining: 4m 27s\n",
      "Stopped by overfitting detector  (500 iterations wait)\n",
      "\n",
      "bestTest = 0.6145510836\n",
      "bestIteration = 19\n",
      "\n",
      "Shrink model to first 20 iterations.\n"
     ]
    },
    {
     "name": "stderr",
     "output_type": "stream",
     "text": [
      "Warning: Overfitting detector is active, thus evaluation metric is calculated on every iteration. 'metric_period' is ignored for evaluation metric.\n"
     ]
    },
    {
     "name": "stdout",
     "output_type": "stream",
     "text": [
      "0:\ttest: 0.4219814\tbest: 0.4219814 (0)\ttotal: 19ms\tremaining: 1m 34s\n",
      "500:\ttest: 0.4916409\tbest: 0.5331269 (173)\ttotal: 29.7s\tremaining: 4m 26s\n",
      "Stopped by overfitting detector  (500 iterations wait)\n",
      "\n",
      "bestTest = 0.533126935\n",
      "bestIteration = 173\n",
      "\n",
      "Shrink model to first 174 iterations.\n"
     ]
    },
    {
     "name": "stderr",
     "output_type": "stream",
     "text": [
      "Warning: Overfitting detector is active, thus evaluation metric is calculated on every iteration. 'metric_period' is ignored for evaluation metric.\n"
     ]
    },
    {
     "name": "stdout",
     "output_type": "stream",
     "text": [
      "0:\ttest: 0.5749226\tbest: 0.5749226 (0)\ttotal: 19.4ms\tremaining: 1m 36s\n",
      "500:\ttest: 0.4383901\tbest: 0.6300310 (7)\ttotal: 30.2s\tremaining: 4m 31s\n",
      "Stopped by overfitting detector  (500 iterations wait)\n",
      "\n",
      "bestTest = 0.6300309598\n",
      "bestIteration = 7\n",
      "\n",
      "Shrink model to first 8 iterations.\n"
     ]
    },
    {
     "name": "stderr",
     "output_type": "stream",
     "text": [
      "Warning: Overfitting detector is active, thus evaluation metric is calculated on every iteration. 'metric_period' is ignored for evaluation metric.\n"
     ]
    },
    {
     "name": "stdout",
     "output_type": "stream",
     "text": [
      "0:\ttest: 0.5541796\tbest: 0.5541796 (0)\ttotal: 17.6ms\tremaining: 1m 27s\n",
      "500:\ttest: 0.5752322\tbest: 0.6012384 (43)\ttotal: 29.7s\tremaining: 4m 26s\n",
      "Stopped by overfitting detector  (500 iterations wait)\n",
      "\n",
      "bestTest = 0.6012383901\n",
      "bestIteration = 43\n",
      "\n",
      "Shrink model to first 44 iterations.\n"
     ]
    },
    {
     "name": "stderr",
     "output_type": "stream",
     "text": [
      "Warning: Overfitting detector is active, thus evaluation metric is calculated on every iteration. 'metric_period' is ignored for evaluation metric.\n"
     ]
    },
    {
     "name": "stdout",
     "output_type": "stream",
     "text": [
      "0:\ttest: 0.4133127\tbest: 0.4133127 (0)\ttotal: 17.5ms\tremaining: 1m 27s\n",
      "500:\ttest: 0.5244582\tbest: 0.5690402 (215)\ttotal: 29.9s\tremaining: 4m 28s\n",
      "Stopped by overfitting detector  (500 iterations wait)\n",
      "\n",
      "bestTest = 0.5690402477\n",
      "bestIteration = 215\n",
      "\n",
      "Shrink model to first 216 iterations.\n"
     ]
    },
    {
     "name": "stderr",
     "output_type": "stream",
     "text": [
      "Warning: Overfitting detector is active, thus evaluation metric is calculated on every iteration. 'metric_period' is ignored for evaluation metric.\n"
     ]
    },
    {
     "name": "stdout",
     "output_type": "stream",
     "text": [
      "0:\ttest: 0.6151703\tbest: 0.6151703 (0)\ttotal: 25.5ms\tremaining: 2m 7s\n",
      "500:\ttest: 0.6253870\tbest: 0.7380805 (20)\ttotal: 29.5s\tremaining: 4m 25s\n",
      "Stopped by overfitting detector  (500 iterations wait)\n",
      "\n",
      "bestTest = 0.7380804954\n",
      "bestIteration = 20\n",
      "\n",
      "Shrink model to first 21 iterations.\n"
     ]
    },
    {
     "name": "stderr",
     "output_type": "stream",
     "text": [
      "Warning: Overfitting detector is active, thus evaluation metric is calculated on every iteration. 'metric_period' is ignored for evaluation metric.\n"
     ]
    },
    {
     "name": "stdout",
     "output_type": "stream",
     "text": [
      "0:\ttest: 0.4829721\tbest: 0.4829721 (0)\ttotal: 25.2ms\tremaining: 2m 5s\n",
      "500:\ttest: 0.6160991\tbest: 0.6619195 (325)\ttotal: 29.1s\tremaining: 4m 21s\n",
      "Stopped by overfitting detector  (500 iterations wait)\n",
      "\n",
      "bestTest = 0.6619195046\n",
      "bestIteration = 325\n",
      "\n",
      "Shrink model to first 326 iterations.\n"
     ]
    },
    {
     "name": "stderr",
     "output_type": "stream",
     "text": [
      "Warning: Overfitting detector is active, thus evaluation metric is calculated on every iteration. 'metric_period' is ignored for evaluation metric.\n"
     ]
    },
    {
     "name": "stdout",
     "output_type": "stream",
     "text": [
      "0:\ttest: 0.6068111\tbest: 0.6068111 (0)\ttotal: 17.7ms\tremaining: 1m 28s\n",
      "500:\ttest: 0.6024768\tbest: 0.6507740 (4)\ttotal: 29.1s\tremaining: 4m 21s\n",
      "Stopped by overfitting detector  (500 iterations wait)\n",
      "\n",
      "bestTest = 0.6507739938\n",
      "bestIteration = 4\n",
      "\n",
      "Shrink model to first 5 iterations.\n"
     ]
    },
    {
     "name": "stderr",
     "output_type": "stream",
     "text": [
      "Warning: Overfitting detector is active, thus evaluation metric is calculated on every iteration. 'metric_period' is ignored for evaluation metric.\n"
     ]
    },
    {
     "name": "stdout",
     "output_type": "stream",
     "text": [
      "0:\ttest: 0.4291022\tbest: 0.4291022 (0)\ttotal: 21.1ms\tremaining: 1m 45s\n",
      "500:\ttest: 0.5374613\tbest: 0.5702786 (9)\ttotal: 29.3s\tremaining: 4m 22s\n",
      "Stopped by overfitting detector  (500 iterations wait)\n",
      "\n",
      "bestTest = 0.5702786378\n",
      "bestIteration = 9\n",
      "\n",
      "Shrink model to first 10 iterations.\n"
     ]
    },
    {
     "name": "stderr",
     "output_type": "stream",
     "text": [
      "Warning: Overfitting detector is active, thus evaluation metric is calculated on every iteration. 'metric_period' is ignored for evaluation metric.\n"
     ]
    },
    {
     "name": "stdout",
     "output_type": "stream",
     "text": [
      "0:\ttest: 0.5000000\tbest: 0.5000000 (0)\ttotal: 18.6ms\tremaining: 1m 32s\n",
      "500:\ttest: 0.6572368\tbest: 0.7059211 (2)\ttotal: 29.6s\tremaining: 4m 26s\n",
      "Stopped by overfitting detector  (500 iterations wait)\n",
      "\n",
      "bestTest = 0.7059210526\n",
      "bestIteration = 2\n",
      "\n",
      "Shrink model to first 3 iterations.\n"
     ]
    },
    {
     "name": "stderr",
     "output_type": "stream",
     "text": [
      "Warning: Overfitting detector is active, thus evaluation metric is calculated on every iteration. 'metric_period' is ignored for evaluation metric.\n"
     ]
    },
    {
     "name": "stdout",
     "output_type": "stream",
     "text": [
      "0:\ttest: 0.5000000\tbest: 0.5000000 (0)\ttotal: 19.5ms\tremaining: 1m 37s\n",
      "500:\ttest: 0.5276316\tbest: 0.6355263 (37)\ttotal: 29.7s\tremaining: 4m 26s\n",
      "Stopped by overfitting detector  (500 iterations wait)\n",
      "\n",
      "bestTest = 0.6355263158\n",
      "bestIteration = 37\n",
      "\n",
      "Shrink model to first 38 iterations.\n"
     ]
    },
    {
     "name": "stderr",
     "output_type": "stream",
     "text": [
      "Warning: Overfitting detector is active, thus evaluation metric is calculated on every iteration. 'metric_period' is ignored for evaluation metric.\n"
     ]
    },
    {
     "name": "stdout",
     "output_type": "stream",
     "text": [
      "0:\ttest: 0.5000000\tbest: 0.5000000 (0)\ttotal: 17.1ms\tremaining: 1m 25s\n",
      "500:\ttest: 0.4164474\tbest: 0.5947368 (32)\ttotal: 29.5s\tremaining: 4m 25s\n",
      "Stopped by overfitting detector  (500 iterations wait)\n",
      "\n",
      "bestTest = 0.5947368421\n",
      "bestIteration = 32\n",
      "\n",
      "Shrink model to first 33 iterations.\n"
     ]
    },
    {
     "name": "stderr",
     "output_type": "stream",
     "text": [
      "Warning: Overfitting detector is active, thus evaluation metric is calculated on every iteration. 'metric_period' is ignored for evaluation metric.\n"
     ]
    },
    {
     "name": "stdout",
     "output_type": "stream",
     "text": [
      "0:\ttest: 0.5654605\tbest: 0.5654605 (0)\ttotal: 68.2ms\tremaining: 5m 40s\n",
      "500:\ttest: 0.5875000\tbest: 0.6302632 (301)\ttotal: 29.7s\tremaining: 4m 26s\n",
      "Stopped by overfitting detector  (500 iterations wait)\n",
      "\n",
      "bestTest = 0.6302631579\n",
      "bestIteration = 301\n",
      "\n",
      "Shrink model to first 302 iterations.\n"
     ]
    },
    {
     "name": "stderr",
     "output_type": "stream",
     "text": [
      "Warning: Overfitting detector is active, thus evaluation metric is calculated on every iteration. 'metric_period' is ignored for evaluation metric.\n"
     ]
    },
    {
     "name": "stdout",
     "output_type": "stream",
     "text": [
      "0:\ttest: 0.4907895\tbest: 0.4907895 (0)\ttotal: 68.8ms\tremaining: 5m 44s\n",
      "500:\ttest: 0.5855263\tbest: 0.7059211 (11)\ttotal: 29.9s\tremaining: 4m 28s\n",
      "Stopped by overfitting detector  (500 iterations wait)\n",
      "\n",
      "bestTest = 0.7059210526\n",
      "bestIteration = 11\n",
      "\n",
      "Shrink model to first 12 iterations.\n"
     ]
    },
    {
     "name": "stderr",
     "output_type": "stream",
     "text": [
      "Warning: Overfitting detector is active, thus evaluation metric is calculated on every iteration. 'metric_period' is ignored for evaluation metric.\n"
     ]
    },
    {
     "name": "stdout",
     "output_type": "stream",
     "text": [
      "0:\ttest: 0.5000000\tbest: 0.5000000 (0)\ttotal: 15ms\tremaining: 1m 15s\n",
      "500:\ttest: 0.5276316\tbest: 0.6621711 (17)\ttotal: 29.9s\tremaining: 4m 28s\n",
      "Stopped by overfitting detector  (500 iterations wait)\n",
      "\n",
      "bestTest = 0.6621710526\n",
      "bestIteration = 17\n",
      "\n",
      "Shrink model to first 18 iterations.\n"
     ]
    },
    {
     "name": "stderr",
     "output_type": "stream",
     "text": [
      "Warning: Overfitting detector is active, thus evaluation metric is calculated on every iteration. 'metric_period' is ignored for evaluation metric.\n"
     ]
    },
    {
     "name": "stdout",
     "output_type": "stream",
     "text": [
      "0:\ttest: 0.5000000\tbest: 0.5000000 (0)\ttotal: 16.3ms\tremaining: 1m 21s\n",
      "500:\ttest: 0.4960526\tbest: 0.5618421 (30)\ttotal: 30s\tremaining: 4m 29s\n",
      "Stopped by overfitting detector  (500 iterations wait)\n",
      "\n",
      "bestTest = 0.5618421053\n",
      "bestIteration = 30\n",
      "\n",
      "Shrink model to first 31 iterations.\n"
     ]
    },
    {
     "name": "stderr",
     "output_type": "stream",
     "text": [
      "Warning: Overfitting detector is active, thus evaluation metric is calculated on every iteration. 'metric_period' is ignored for evaluation metric.\n"
     ]
    },
    {
     "name": "stdout",
     "output_type": "stream",
     "text": [
      "0:\ttest: 0.5000000\tbest: 0.5000000 (0)\ttotal: 14.7ms\tremaining: 1m 13s\n",
      "500:\ttest: 0.6381579\tbest: 0.6769737 (122)\ttotal: 29.6s\tremaining: 4m 25s\n",
      "1000:\ttest: 0.6789474\tbest: 0.6835526 (662)\ttotal: 1m 1s\tremaining: 4m 4s\n",
      "Stopped by overfitting detector  (500 iterations wait)\n",
      "\n",
      "bestTest = 0.6835526316\n",
      "bestIteration = 662\n",
      "\n",
      "Shrink model to first 663 iterations.\n"
     ]
    },
    {
     "name": "stderr",
     "output_type": "stream",
     "text": [
      "Warning: Overfitting detector is active, thus evaluation metric is calculated on every iteration. 'metric_period' is ignored for evaluation metric.\n"
     ]
    },
    {
     "name": "stdout",
     "output_type": "stream",
     "text": [
      "0:\ttest: 0.5463816\tbest: 0.5463816 (0)\ttotal: 54ms\tremaining: 4m 30s\n",
      "500:\ttest: 0.4250000\tbest: 0.5911184 (13)\ttotal: 29.7s\tremaining: 4m 27s\n",
      "Stopped by overfitting detector  (500 iterations wait)\n",
      "\n",
      "bestTest = 0.5911184211\n",
      "bestIteration = 13\n",
      "\n",
      "Shrink model to first 14 iterations.\n"
     ]
    },
    {
     "name": "stderr",
     "output_type": "stream",
     "text": [
      "Warning: Overfitting detector is active, thus evaluation metric is calculated on every iteration. 'metric_period' is ignored for evaluation metric.\n"
     ]
    },
    {
     "name": "stdout",
     "output_type": "stream",
     "text": [
      "0:\ttest: 0.5000000\tbest: 0.5000000 (0)\ttotal: 15.4ms\tremaining: 1m 17s\n",
      "500:\ttest: 0.5743421\tbest: 0.6815789 (14)\ttotal: 30s\tremaining: 4m 28s\n",
      "Stopped by overfitting detector  (500 iterations wait)\n",
      "\n",
      "bestTest = 0.6815789474\n",
      "bestIteration = 14\n",
      "\n",
      "Shrink model to first 15 iterations.\n"
     ]
    },
    {
     "name": "stderr",
     "output_type": "stream",
     "text": [
      "Warning: Overfitting detector is active, thus evaluation metric is calculated on every iteration. 'metric_period' is ignored for evaluation metric.\n"
     ]
    },
    {
     "name": "stdout",
     "output_type": "stream",
     "text": [
      "0:\ttest: 0.5000000\tbest: 0.5000000 (0)\ttotal: 14.8ms\tremaining: 1m 13s\n",
      "500:\ttest: 0.5322368\tbest: 0.5644737 (299)\ttotal: 29.7s\tremaining: 4m 26s\n",
      "1000:\ttest: 0.5421053\tbest: 0.6019737 (832)\ttotal: 1m 1s\tremaining: 4m 5s\n",
      "Stopped by overfitting detector  (500 iterations wait)\n",
      "\n",
      "bestTest = 0.6019736842\n",
      "bestIteration = 832\n",
      "\n",
      "Shrink model to first 833 iterations.\n"
     ]
    },
    {
     "name": "stderr",
     "output_type": "stream",
     "text": [
      "Warning: Overfitting detector is active, thus evaluation metric is calculated on every iteration. 'metric_period' is ignored for evaluation metric.\n"
     ]
    },
    {
     "name": "stdout",
     "output_type": "stream",
     "text": [
      "0:\ttest: 0.5000000\tbest: 0.5000000 (0)\ttotal: 14.1ms\tremaining: 1m 10s\n",
      "500:\ttest: 0.5157895\tbest: 0.6016447 (2)\ttotal: 30.6s\tremaining: 4m 35s\n",
      "Stopped by overfitting detector  (500 iterations wait)\n",
      "\n",
      "bestTest = 0.6016447368\n",
      "bestIteration = 2\n",
      "\n",
      "Shrink model to first 3 iterations.\n"
     ]
    },
    {
     "name": "stderr",
     "output_type": "stream",
     "text": [
      "Warning: Overfitting detector is active, thus evaluation metric is calculated on every iteration. 'metric_period' is ignored for evaluation metric.\n"
     ]
    },
    {
     "name": "stdout",
     "output_type": "stream",
     "text": [
      "0:\ttest: 0.4934211\tbest: 0.4934211 (0)\ttotal: 62.3ms\tremaining: 5m 11s\n",
      "500:\ttest: 0.4973684\tbest: 0.6572368 (30)\ttotal: 29.8s\tremaining: 4m 27s\n",
      "Stopped by overfitting detector  (500 iterations wait)\n",
      "\n",
      "bestTest = 0.6572368421\n",
      "bestIteration = 30\n",
      "\n",
      "Shrink model to first 31 iterations.\n"
     ]
    },
    {
     "name": "stderr",
     "output_type": "stream",
     "text": [
      "Warning: Overfitting detector is active, thus evaluation metric is calculated on every iteration. 'metric_period' is ignored for evaluation metric.\n"
     ]
    },
    {
     "name": "stdout",
     "output_type": "stream",
     "text": [
      "0:\ttest: 0.5967105\tbest: 0.5967105 (0)\ttotal: 56.4ms\tremaining: 4m 41s\n",
      "500:\ttest: 0.5848684\tbest: 0.6509868 (1)\ttotal: 30.6s\tremaining: 4m 34s\n",
      "Stopped by overfitting detector  (500 iterations wait)\n",
      "\n",
      "bestTest = 0.6509868421\n",
      "bestIteration = 1\n",
      "\n",
      "Shrink model to first 2 iterations.\n"
     ]
    },
    {
     "name": "stderr",
     "output_type": "stream",
     "text": [
      "Warning: Overfitting detector is active, thus evaluation metric is calculated on every iteration. 'metric_period' is ignored for evaluation metric.\n"
     ]
    },
    {
     "name": "stdout",
     "output_type": "stream",
     "text": [
      "0:\ttest: 0.5000000\tbest: 0.5000000 (0)\ttotal: 18.8ms\tremaining: 1m 33s\n",
      "500:\ttest: 0.5750000\tbest: 0.7223684 (43)\ttotal: 29.6s\tremaining: 4m 26s\n",
      "Stopped by overfitting detector  (500 iterations wait)\n",
      "\n",
      "bestTest = 0.7223684211\n",
      "bestIteration = 43\n",
      "\n",
      "Shrink model to first 44 iterations.\n"
     ]
    },
    {
     "name": "stderr",
     "output_type": "stream",
     "text": [
      "Warning: Overfitting detector is active, thus evaluation metric is calculated on every iteration. 'metric_period' is ignored for evaluation metric.\n"
     ]
    },
    {
     "name": "stdout",
     "output_type": "stream",
     "text": [
      "0:\ttest: 0.5786184\tbest: 0.5786184 (0)\ttotal: 69.6ms\tremaining: 5m 48s\n",
      "500:\ttest: 0.5927632\tbest: 0.6657895 (21)\ttotal: 30s\tremaining: 4m 29s\n",
      "Stopped by overfitting detector  (500 iterations wait)\n",
      "\n",
      "bestTest = 0.6657894737\n",
      "bestIteration = 21\n",
      "\n",
      "Shrink model to first 22 iterations.\n"
     ]
    },
    {
     "name": "stderr",
     "output_type": "stream",
     "text": [
      "Warning: Overfitting detector is active, thus evaluation metric is calculated on every iteration. 'metric_period' is ignored for evaluation metric.\n"
     ]
    },
    {
     "name": "stdout",
     "output_type": "stream",
     "text": [
      "0:\ttest: 0.5000000\tbest: 0.5000000 (0)\ttotal: 17ms\tremaining: 1m 25s\n",
      "500:\ttest: 0.4335526\tbest: 0.5746711 (16)\ttotal: 29.7s\tremaining: 4m 26s\n",
      "Stopped by overfitting detector  (500 iterations wait)\n",
      "\n",
      "bestTest = 0.5746710526\n",
      "bestIteration = 16\n",
      "\n",
      "Shrink model to first 17 iterations.\n"
     ]
    },
    {
     "name": "stderr",
     "output_type": "stream",
     "text": [
      "Warning: Overfitting detector is active, thus evaluation metric is calculated on every iteration. 'metric_period' is ignored for evaluation metric.\n"
     ]
    },
    {
     "name": "stdout",
     "output_type": "stream",
     "text": [
      "0:\ttest: 0.4957237\tbest: 0.4957237 (0)\ttotal: 54.5ms\tremaining: 4m 32s\n",
      "500:\ttest: 0.5835526\tbest: 0.6473684 (28)\ttotal: 29.6s\tremaining: 4m 25s\n",
      "Stopped by overfitting detector  (500 iterations wait)\n",
      "\n",
      "bestTest = 0.6473684211\n",
      "bestIteration = 28\n",
      "\n",
      "Shrink model to first 29 iterations.\n"
     ]
    },
    {
     "name": "stderr",
     "output_type": "stream",
     "text": [
      "Warning: Overfitting detector is active, thus evaluation metric is calculated on every iteration. 'metric_period' is ignored for evaluation metric.\n"
     ]
    },
    {
     "name": "stdout",
     "output_type": "stream",
     "text": [
      "0:\ttest: 0.4411184\tbest: 0.4411184 (0)\ttotal: 53.8ms\tremaining: 4m 28s\n",
      "500:\ttest: 0.4164474\tbest: 0.5049342 (8)\ttotal: 30.1s\tremaining: 4m 30s\n",
      "Stopped by overfitting detector  (500 iterations wait)\n",
      "\n",
      "bestTest = 0.5049342105\n",
      "bestIteration = 8\n",
      "\n",
      "Shrink model to first 9 iterations.\n"
     ]
    },
    {
     "name": "stderr",
     "output_type": "stream",
     "text": [
      "Warning: Overfitting detector is active, thus evaluation metric is calculated on every iteration. 'metric_period' is ignored for evaluation metric.\n"
     ]
    },
    {
     "name": "stdout",
     "output_type": "stream",
     "text": [
      "0:\ttest: 0.5657895\tbest: 0.5657895 (0)\ttotal: 56.5ms\tremaining: 4m 42s\n",
      "500:\ttest: 0.5697368\tbest: 0.6240132 (8)\ttotal: 29.9s\tremaining: 4m 28s\n",
      "Stopped by overfitting detector  (500 iterations wait)\n",
      "\n",
      "bestTest = 0.6240131579\n",
      "bestIteration = 8\n",
      "\n",
      "Shrink model to first 9 iterations.\n"
     ]
    },
    {
     "name": "stderr",
     "output_type": "stream",
     "text": [
      "Warning: Overfitting detector is active, thus evaluation metric is calculated on every iteration. 'metric_period' is ignored for evaluation metric.\n"
     ]
    },
    {
     "name": "stdout",
     "output_type": "stream",
     "text": [
      "0:\ttest: 0.5509868\tbest: 0.5509868 (0)\ttotal: 52.2ms\tremaining: 4m 20s\n",
      "500:\ttest: 0.6157895\tbest: 0.7440789 (44)\ttotal: 30.6s\tremaining: 4m 35s\n",
      "Stopped by overfitting detector  (500 iterations wait)\n",
      "\n",
      "bestTest = 0.7440789474\n",
      "bestIteration = 44\n",
      "\n",
      "Shrink model to first 45 iterations.\n"
     ]
    },
    {
     "name": "stderr",
     "output_type": "stream",
     "text": [
      "Warning: Overfitting detector is active, thus evaluation metric is calculated on every iteration. 'metric_period' is ignored for evaluation metric.\n"
     ]
    },
    {
     "name": "stdout",
     "output_type": "stream",
     "text": [
      "0:\ttest: 0.5322368\tbest: 0.5322368 (0)\ttotal: 56.9ms\tremaining: 4m 44s\n",
      "500:\ttest: 0.5552632\tbest: 0.6638158 (5)\ttotal: 30.2s\tremaining: 4m 30s\n",
      "Stopped by overfitting detector  (500 iterations wait)\n",
      "\n",
      "bestTest = 0.6638157895\n",
      "bestIteration = 5\n",
      "\n",
      "Shrink model to first 6 iterations.\n"
     ]
    },
    {
     "name": "stderr",
     "output_type": "stream",
     "text": [
      "Warning: Overfitting detector is active, thus evaluation metric is calculated on every iteration. 'metric_period' is ignored for evaluation metric.\n"
     ]
    },
    {
     "name": "stdout",
     "output_type": "stream",
     "text": [
      "0:\ttest: 0.5000000\tbest: 0.5000000 (0)\ttotal: 19.2ms\tremaining: 1m 35s\n",
      "500:\ttest: 0.3802632\tbest: 0.5000000 (0)\ttotal: 29.3s\tremaining: 4m 23s\n",
      "Stopped by overfitting detector  (500 iterations wait)\n",
      "\n",
      "bestTest = 0.5\n",
      "bestIteration = 0\n",
      "\n",
      "Shrink model to first 1 iterations.\n"
     ]
    },
    {
     "name": "stderr",
     "output_type": "stream",
     "text": [
      "Warning: Overfitting detector is active, thus evaluation metric is calculated on every iteration. 'metric_period' is ignored for evaluation metric.\n"
     ]
    },
    {
     "name": "stdout",
     "output_type": "stream",
     "text": [
      "0:\ttest: 0.4338816\tbest: 0.4338816 (0)\ttotal: 55.6ms\tremaining: 4m 37s\n",
      "500:\ttest: 0.4736842\tbest: 0.6259868 (9)\ttotal: 29.7s\tremaining: 4m 26s\n",
      "Stopped by overfitting detector  (500 iterations wait)\n",
      "\n",
      "bestTest = 0.6259868421\n",
      "bestIteration = 9\n",
      "\n",
      "Shrink model to first 10 iterations.\n"
     ]
    },
    {
     "name": "stderr",
     "output_type": "stream",
     "text": [
      "Warning: Overfitting detector is active, thus evaluation metric is calculated on every iteration. 'metric_period' is ignored for evaluation metric.\n"
     ]
    },
    {
     "name": "stdout",
     "output_type": "stream",
     "text": [
      "0:\ttest: 0.5325658\tbest: 0.5325658 (0)\ttotal: 54.3ms\tremaining: 4m 31s\n",
      "500:\ttest: 0.5230263\tbest: 0.6111842 (27)\ttotal: 30.1s\tremaining: 4m 30s\n",
      "Stopped by overfitting detector  (500 iterations wait)\n",
      "\n",
      "bestTest = 0.6111842105\n",
      "bestIteration = 27\n",
      "\n",
      "Shrink model to first 28 iterations.\n"
     ]
    },
    {
     "name": "stderr",
     "output_type": "stream",
     "text": [
      "Warning: Overfitting detector is active, thus evaluation metric is calculated on every iteration. 'metric_period' is ignored for evaluation metric.\n"
     ]
    },
    {
     "name": "stdout",
     "output_type": "stream",
     "text": [
      "0:\ttest: 0.5000000\tbest: 0.5000000 (0)\ttotal: 18.7ms\tremaining: 1m 33s\n",
      "500:\ttest: 0.4881579\tbest: 0.5657895 (58)\ttotal: 30.2s\tremaining: 4m 31s\n",
      "Stopped by overfitting detector  (500 iterations wait)\n",
      "\n",
      "bestTest = 0.5657894737\n",
      "bestIteration = 58\n",
      "\n",
      "Shrink model to first 59 iterations.\n"
     ]
    },
    {
     "name": "stderr",
     "output_type": "stream",
     "text": [
      "Warning: Overfitting detector is active, thus evaluation metric is calculated on every iteration. 'metric_period' is ignored for evaluation metric.\n"
     ]
    },
    {
     "name": "stdout",
     "output_type": "stream",
     "text": [
      "0:\ttest: 0.4976974\tbest: 0.4976974 (0)\ttotal: 54.8ms\tremaining: 4m 33s\n",
      "500:\ttest: 0.4921053\tbest: 0.5480263 (251)\ttotal: 29.9s\tremaining: 4m 28s\n",
      "Stopped by overfitting detector  (500 iterations wait)\n",
      "\n",
      "bestTest = 0.5480263158\n",
      "bestIteration = 251\n",
      "\n",
      "Shrink model to first 252 iterations.\n"
     ]
    },
    {
     "name": "stderr",
     "output_type": "stream",
     "text": [
      "Warning: Overfitting detector is active, thus evaluation metric is calculated on every iteration. 'metric_period' is ignored for evaluation metric.\n"
     ]
    },
    {
     "name": "stdout",
     "output_type": "stream",
     "text": [
      "0:\ttest: 0.5187500\tbest: 0.5187500 (0)\ttotal: 66.3ms\tremaining: 5m 31s\n",
      "500:\ttest: 0.5243421\tbest: 0.7210526 (16)\ttotal: 31.7s\tremaining: 4m 44s\n",
      "Stopped by overfitting detector  (500 iterations wait)\n",
      "\n",
      "bestTest = 0.7210526316\n",
      "bestIteration = 16\n",
      "\n",
      "Shrink model to first 17 iterations.\n"
     ]
    },
    {
     "name": "stderr",
     "output_type": "stream",
     "text": [
      "Warning: Overfitting detector is active, thus evaluation metric is calculated on every iteration. 'metric_period' is ignored for evaluation metric.\n"
     ]
    },
    {
     "name": "stdout",
     "output_type": "stream",
     "text": [
      "0:\ttest: 0.4026316\tbest: 0.4026316 (0)\ttotal: 56.5ms\tremaining: 4m 42s\n",
      "500:\ttest: 0.5526316\tbest: 0.5888158 (47)\ttotal: 30.1s\tremaining: 4m 30s\n",
      "Stopped by overfitting detector  (500 iterations wait)\n",
      "\n",
      "bestTest = 0.5888157895\n",
      "bestIteration = 47\n",
      "\n",
      "Shrink model to first 48 iterations.\n"
     ]
    },
    {
     "name": "stderr",
     "output_type": "stream",
     "text": [
      "Warning: Overfitting detector is active, thus evaluation metric is calculated on every iteration. 'metric_period' is ignored for evaluation metric.\n"
     ]
    },
    {
     "name": "stdout",
     "output_type": "stream",
     "text": [
      "0:\ttest: 0.5000000\tbest: 0.5000000 (0)\ttotal: 15.4ms\tremaining: 1m 16s\n",
      "500:\ttest: 0.4052632\tbest: 0.6759868 (6)\ttotal: 29.7s\tremaining: 4m 26s\n",
      "Stopped by overfitting detector  (500 iterations wait)\n",
      "\n",
      "bestTest = 0.6759868421\n",
      "bestIteration = 6\n",
      "\n",
      "Shrink model to first 7 iterations.\n"
     ]
    },
    {
     "name": "stderr",
     "output_type": "stream",
     "text": [
      "Warning: Overfitting detector is active, thus evaluation metric is calculated on every iteration. 'metric_period' is ignored for evaluation metric.\n"
     ]
    },
    {
     "name": "stdout",
     "output_type": "stream",
     "text": [
      "0:\ttest: 0.3875000\tbest: 0.3875000 (0)\ttotal: 77.6ms\tremaining: 6m 28s\n",
      "500:\ttest: 0.6072368\tbest: 0.6967105 (158)\ttotal: 29.8s\tremaining: 4m 27s\n",
      "Stopped by overfitting detector  (500 iterations wait)\n",
      "\n",
      "bestTest = 0.6967105263\n",
      "bestIteration = 158\n",
      "\n",
      "Shrink model to first 159 iterations.\n"
     ]
    },
    {
     "name": "stderr",
     "output_type": "stream",
     "text": [
      "Warning: Overfitting detector is active, thus evaluation metric is calculated on every iteration. 'metric_period' is ignored for evaluation metric.\n"
     ]
    },
    {
     "name": "stdout",
     "output_type": "stream",
     "text": [
      "0:\ttest: 0.5167763\tbest: 0.5167763 (0)\ttotal: 52.5ms\tremaining: 4m 22s\n",
      "500:\ttest: 0.4486842\tbest: 0.5493421 (56)\ttotal: 29.6s\tremaining: 4m 25s\n",
      "Stopped by overfitting detector  (500 iterations wait)\n",
      "\n",
      "bestTest = 0.5493421053\n",
      "bestIteration = 56\n",
      "\n",
      "Shrink model to first 57 iterations.\n"
     ]
    },
    {
     "name": "stderr",
     "output_type": "stream",
     "text": [
      "Warning: Overfitting detector is active, thus evaluation metric is calculated on every iteration. 'metric_period' is ignored for evaluation metric.\n"
     ]
    },
    {
     "name": "stdout",
     "output_type": "stream",
     "text": [
      "0:\ttest: 0.5000000\tbest: 0.5000000 (0)\ttotal: 13.1ms\tremaining: 1m 5s\n",
      "500:\ttest: 0.5855263\tbest: 0.6690789 (134)\ttotal: 29.9s\tremaining: 4m 28s\n",
      "Stopped by overfitting detector  (500 iterations wait)\n",
      "\n",
      "bestTest = 0.6690789474\n",
      "bestIteration = 134\n",
      "\n",
      "Shrink model to first 135 iterations.\n"
     ]
    },
    {
     "name": "stderr",
     "output_type": "stream",
     "text": [
      "Warning: Overfitting detector is active, thus evaluation metric is calculated on every iteration. 'metric_period' is ignored for evaluation metric.\n"
     ]
    },
    {
     "name": "stdout",
     "output_type": "stream",
     "text": [
      "0:\ttest: 0.4980263\tbest: 0.4980263 (0)\ttotal: 52.8ms\tremaining: 4m 23s\n",
      "500:\ttest: 0.5019737\tbest: 0.7220395 (8)\ttotal: 29.4s\tremaining: 4m 23s\n",
      "Stopped by overfitting detector  (500 iterations wait)\n",
      "\n",
      "bestTest = 0.7220394737\n",
      "bestIteration = 8\n",
      "\n",
      "Shrink model to first 9 iterations.\n"
     ]
    },
    {
     "name": "stderr",
     "output_type": "stream",
     "text": [
      "Warning: Overfitting detector is active, thus evaluation metric is calculated on every iteration. 'metric_period' is ignored for evaluation metric.\n"
     ]
    },
    {
     "name": "stdout",
     "output_type": "stream",
     "text": [
      "0:\ttest: 0.5000000\tbest: 0.5000000 (0)\ttotal: 16.6ms\tremaining: 1m 22s\n",
      "500:\ttest: 0.4907895\tbest: 0.5476974 (24)\ttotal: 30.1s\tremaining: 4m 30s\n",
      "Stopped by overfitting detector  (500 iterations wait)\n",
      "\n",
      "bestTest = 0.5476973684\n",
      "bestIteration = 24\n",
      "\n",
      "Shrink model to first 25 iterations.\n"
     ]
    },
    {
     "name": "stderr",
     "output_type": "stream",
     "text": [
      "Warning: Overfitting detector is active, thus evaluation metric is calculated on every iteration. 'metric_period' is ignored for evaluation metric.\n"
     ]
    },
    {
     "name": "stdout",
     "output_type": "stream",
     "text": [
      "0:\ttest: 0.6065789\tbest: 0.6065789 (0)\ttotal: 52.2ms\tremaining: 4m 20s\n",
      "500:\ttest: 0.5361842\tbest: 0.6703947 (2)\ttotal: 29.1s\tremaining: 4m 21s\n",
      "Stopped by overfitting detector  (500 iterations wait)\n",
      "\n",
      "bestTest = 0.6703947368\n",
      "bestIteration = 2\n",
      "\n",
      "Shrink model to first 3 iterations.\n"
     ]
    },
    {
     "name": "stderr",
     "output_type": "stream",
     "text": [
      "Warning: Overfitting detector is active, thus evaluation metric is calculated on every iteration. 'metric_period' is ignored for evaluation metric.\n"
     ]
    },
    {
     "name": "stdout",
     "output_type": "stream",
     "text": [
      "0:\ttest: 0.5000000\tbest: 0.5000000 (0)\ttotal: 21ms\tremaining: 1m 44s\n",
      "500:\ttest: 0.4901316\tbest: 0.6447368 (15)\ttotal: 29.5s\tremaining: 4m 24s\n",
      "Stopped by overfitting detector  (500 iterations wait)\n",
      "\n",
      "bestTest = 0.6447368421\n",
      "bestIteration = 15\n",
      "\n",
      "Shrink model to first 16 iterations.\n"
     ]
    },
    {
     "name": "stderr",
     "output_type": "stream",
     "text": [
      "Warning: Overfitting detector is active, thus evaluation metric is calculated on every iteration. 'metric_period' is ignored for evaluation metric.\n"
     ]
    },
    {
     "name": "stdout",
     "output_type": "stream",
     "text": [
      "0:\ttest: 0.4703947\tbest: 0.4703947 (0)\ttotal: 75.6ms\tremaining: 6m 17s\n",
      "500:\ttest: 0.4605263\tbest: 0.5506579 (174)\ttotal: 29.6s\tremaining: 4m 25s\n",
      "Stopped by overfitting detector  (500 iterations wait)\n",
      "\n",
      "bestTest = 0.5506578947\n",
      "bestIteration = 174\n",
      "\n",
      "Shrink model to first 175 iterations.\n"
     ]
    },
    {
     "name": "stderr",
     "output_type": "stream",
     "text": [
      "Warning: Overfitting detector is active, thus evaluation metric is calculated on every iteration. 'metric_period' is ignored for evaluation metric.\n"
     ]
    },
    {
     "name": "stdout",
     "output_type": "stream",
     "text": [
      "0:\ttest: 0.5634868\tbest: 0.5634868 (0)\ttotal: 70.5ms\tremaining: 5m 52s\n",
      "500:\ttest: 0.4822368\tbest: 0.5634868 (0)\ttotal: 29.5s\tremaining: 4m 25s\n",
      "Stopped by overfitting detector  (500 iterations wait)\n",
      "\n",
      "bestTest = 0.5634868421\n",
      "bestIteration = 0\n",
      "\n",
      "Shrink model to first 1 iterations.\n"
     ]
    },
    {
     "name": "stderr",
     "output_type": "stream",
     "text": [
      "Warning: Overfitting detector is active, thus evaluation metric is calculated on every iteration. 'metric_period' is ignored for evaluation metric.\n"
     ]
    },
    {
     "name": "stdout",
     "output_type": "stream",
     "text": [
      "0:\ttest: 0.5000000\tbest: 0.5000000 (0)\ttotal: 15.9ms\tremaining: 1m 19s\n",
      "500:\ttest: 0.5953947\tbest: 0.6243421 (25)\ttotal: 29.2s\tremaining: 4m 22s\n",
      "Stopped by overfitting detector  (500 iterations wait)\n",
      "\n",
      "bestTest = 0.6243421053\n",
      "bestIteration = 25\n",
      "\n",
      "Shrink model to first 26 iterations.\n"
     ]
    },
    {
     "name": "stderr",
     "output_type": "stream",
     "text": [
      "Warning: Overfitting detector is active, thus evaluation metric is calculated on every iteration. 'metric_period' is ignored for evaluation metric.\n"
     ]
    },
    {
     "name": "stdout",
     "output_type": "stream",
     "text": [
      "0:\ttest: 0.5000000\tbest: 0.5000000 (0)\ttotal: 15.2ms\tremaining: 1m 15s\n",
      "500:\ttest: 0.5184211\tbest: 0.5671053 (7)\ttotal: 29.6s\tremaining: 4m 25s\n",
      "Stopped by overfitting detector  (500 iterations wait)\n",
      "\n",
      "bestTest = 0.5671052632\n",
      "bestIteration = 7\n",
      "\n",
      "Shrink model to first 8 iterations.\n"
     ]
    },
    {
     "name": "stderr",
     "output_type": "stream",
     "text": [
      "Warning: Overfitting detector is active, thus evaluation metric is calculated on every iteration. 'metric_period' is ignored for evaluation metric.\n"
     ]
    },
    {
     "name": "stdout",
     "output_type": "stream",
     "text": [
      "0:\ttest: 0.5000000\tbest: 0.5000000 (0)\ttotal: 18.6ms\tremaining: 1m 32s\n",
      "500:\ttest: 0.5315789\tbest: 0.6078947 (330)\ttotal: 29.5s\tremaining: 4m 24s\n",
      "Stopped by overfitting detector  (500 iterations wait)\n",
      "\n",
      "bestTest = 0.6078947368\n",
      "bestIteration = 330\n",
      "\n",
      "Shrink model to first 331 iterations.\n"
     ]
    },
    {
     "name": "stderr",
     "output_type": "stream",
     "text": [
      "Warning: Overfitting detector is active, thus evaluation metric is calculated on every iteration. 'metric_period' is ignored for evaluation metric.\n"
     ]
    },
    {
     "name": "stdout",
     "output_type": "stream",
     "text": [
      "0:\ttest: 0.4782895\tbest: 0.4782895 (0)\ttotal: 68.2ms\tremaining: 5m 40s\n",
      "500:\ttest: 0.6171053\tbest: 0.7085526 (20)\ttotal: 29.2s\tremaining: 4m 22s\n",
      "Stopped by overfitting detector  (500 iterations wait)\n",
      "\n",
      "bestTest = 0.7085526316\n",
      "bestIteration = 20\n",
      "\n",
      "Shrink model to first 21 iterations.\n"
     ]
    },
    {
     "name": "stderr",
     "output_type": "stream",
     "text": [
      "Warning: Overfitting detector is active, thus evaluation metric is calculated on every iteration. 'metric_period' is ignored for evaluation metric.\n"
     ]
    },
    {
     "name": "stdout",
     "output_type": "stream",
     "text": [
      "0:\ttest: 0.5000000\tbest: 0.5000000 (0)\ttotal: 19.4ms\tremaining: 1m 36s\n",
      "500:\ttest: 0.5842105\tbest: 0.6092105 (220)\ttotal: 29.3s\tremaining: 4m 22s\n",
      "Stopped by overfitting detector  (500 iterations wait)\n",
      "\n",
      "bestTest = 0.6092105263\n",
      "bestIteration = 220\n",
      "\n",
      "Shrink model to first 221 iterations.\n"
     ]
    },
    {
     "name": "stderr",
     "output_type": "stream",
     "text": [
      "Warning: Overfitting detector is active, thus evaluation metric is calculated on every iteration. 'metric_period' is ignored for evaluation metric.\n"
     ]
    },
    {
     "name": "stdout",
     "output_type": "stream",
     "text": [
      "0:\ttest: 0.5000000\tbest: 0.5000000 (0)\ttotal: 20.8ms\tremaining: 1m 43s\n",
      "500:\ttest: 0.5157895\tbest: 0.6470395 (8)\ttotal: 32.9s\tremaining: 4m 55s\n",
      "Stopped by overfitting detector  (500 iterations wait)\n",
      "\n",
      "bestTest = 0.6470394737\n",
      "bestIteration = 8\n",
      "\n",
      "Shrink model to first 9 iterations.\n"
     ]
    },
    {
     "name": "stderr",
     "output_type": "stream",
     "text": [
      "Warning: Overfitting detector is active, thus evaluation metric is calculated on every iteration. 'metric_period' is ignored for evaluation metric.\n"
     ]
    },
    {
     "name": "stdout",
     "output_type": "stream",
     "text": [
      "0:\ttest: 0.5000000\tbest: 0.5000000 (0)\ttotal: 21.3ms\tremaining: 1m 46s\n",
      "500:\ttest: 0.4861842\tbest: 0.6184211 (2)\ttotal: 29.5s\tremaining: 4m 24s\n",
      "Stopped by overfitting detector  (500 iterations wait)\n",
      "\n",
      "bestTest = 0.6184210526\n",
      "bestIteration = 2\n",
      "\n",
      "Shrink model to first 3 iterations.\n"
     ]
    },
    {
     "name": "stderr",
     "output_type": "stream",
     "text": [
      "Warning: Overfitting detector is active, thus evaluation metric is calculated on every iteration. 'metric_period' is ignored for evaluation metric.\n"
     ]
    },
    {
     "name": "stdout",
     "output_type": "stream",
     "text": [
      "0:\ttest: 0.5641447\tbest: 0.5641447 (0)\ttotal: 45.6ms\tremaining: 3m 48s\n",
      "500:\ttest: 0.5111842\tbest: 0.5894737 (3)\ttotal: 29.6s\tremaining: 4m 25s\n",
      "Stopped by overfitting detector  (500 iterations wait)\n",
      "\n",
      "bestTest = 0.5894736842\n",
      "bestIteration = 3\n",
      "\n",
      "Shrink model to first 4 iterations.\n"
     ]
    }
   ],
   "source": [
    "# CV interations\n",
    "roc_auc = list()\n",
    "average_precision = list()\n",
    "oof = np.zeros(len(X))\n",
    "\n",
    "cv_test_preds = np.zeros(len(Xt))\n",
    "best_iteration = list()\n",
    "#i = 1\n",
    "for train_idx, test_idx in skf.split(X, y):\n",
    "    #print(\"\\nfold {}\".format(i))\n",
    "    X_train, y_train = X.iloc[train_idx, :], y[train_idx]\n",
    "    X_test, y_test = X.iloc[test_idx, :], y[test_idx]\n",
    "    \n",
    "    train = Pool(data=X_train, \n",
    "             label=y_train,            \n",
    "             feature_names=list(X_train.columns),\n",
    "             cat_features=cat_features)\n",
    "\n",
    "    val = Pool(data=X_test, \n",
    "               label=y_test,\n",
    "               feature_names=list(X_test.columns),\n",
    "               cat_features=cat_features)\n",
    "\n",
    "    catb = CatBoostClassifier(**param_cb,\n",
    "                          #loss_function='Logloss',\n",
    "                          #eval_metric = 'AUC',\n",
    "                          #nan_mode='Min',\n",
    "                          thread_count=4,\n",
    "                          verbose = True)\n",
    "    \n",
    "    catb.fit(train,\n",
    "             verbose_eval=500, \n",
    "             #early_stopping_rounds=500,\n",
    "             eval_set=val,\n",
    "             use_best_model=True,\n",
    "             #task_type = \"GPU\",\n",
    "             #verbose=True,\n",
    "             plot=False)\n",
    "    \n",
    "    best_iteration.append(catb.best_iteration_)\n",
    "    preds = catb.predict_proba(X_test)\n",
    "    oof[test_idx] = preds[:,1]\n",
    "    \n",
    "    # CV test prediction\n",
    "    Xt_pool = Pool(data=Xt[list(X_train.columns)],\n",
    "               feature_names=list(X_train.columns),\n",
    "               cat_features=cat_features)\n",
    "    \n",
    "    cv_test_preds += catb.predict_proba(Xt_pool)[:,1] / FOLDS\n",
    "    \n",
    "    #print('OOF AUC:', metrics.roc_auc_score(y_test, oof))\n",
    "    roc_auc.append(roc_auc_score(y_true=y_test, y_score=preds[:,1]))\n",
    "    average_precision.append(average_precision_score(y_true=y_test, y_score=preds[:,1]))"
   ]
  },
  {
   "cell_type": "code",
   "execution_count": 51,
   "metadata": {
    "execution": {
     "iopub.execute_input": "2021-02-26T15:55:41.646889Z",
     "iopub.status.busy": "2021-02-26T15:55:41.645863Z",
     "iopub.status.idle": "2021-02-26T15:55:41.673045Z",
     "shell.execute_reply": "2021-02-26T15:55:41.673562Z"
    },
    "papermill": {
     "duration": 0.21585,
     "end_time": "2021-02-26T15:55:41.673733",
     "exception": false,
     "start_time": "2021-02-26T15:55:41.457883",
     "status": "completed"
    },
    "tags": []
   },
   "outputs": [],
   "source": [
    "# Storing results to disk\n",
    "sample_submission['Best Performance'] = cv_test_preds\n",
    "sample_submission.to_csv('catboost_last_submission.csv', index=False)"
   ]
  },
  {
   "cell_type": "markdown",
   "metadata": {
    "execution": {
     "iopub.execute_input": "2021-02-06T11:50:00.247971Z",
     "iopub.status.busy": "2021-02-06T11:50:00.247138Z",
     "iopub.status.idle": "2021-02-06T11:50:00.253426Z",
     "shell.execute_reply": "2021-02-06T11:50:00.252779Z"
    },
    "papermill": {
     "duration": 0.17918,
     "end_time": "2021-02-26T15:55:42.032006",
     "exception": false,
     "start_time": "2021-02-26T15:55:41.852826",
     "status": "completed"
    },
    "tags": []
   },
   "source": [
    "sample_submission"
   ]
  },
  {
   "cell_type": "code",
   "execution_count": 52,
   "metadata": {
    "execution": {
     "iopub.execute_input": "2021-02-26T15:55:42.393173Z",
     "iopub.status.busy": "2021-02-26T15:55:42.392276Z",
     "iopub.status.idle": "2021-02-26T15:55:42.401154Z",
     "shell.execute_reply": "2021-02-26T15:55:42.401661Z"
    },
    "papermill": {
     "duration": 0.190253,
     "end_time": "2021-02-26T15:55:42.401816",
     "exception": false,
     "start_time": "2021-02-26T15:55:42.211563",
     "status": "completed"
    },
    "tags": []
   },
   "outputs": [
    {
     "data": {
      "text/html": [
       "<div>\n",
       "<style scoped>\n",
       "    .dataframe tbody tr th:only-of-type {\n",
       "        vertical-align: middle;\n",
       "    }\n",
       "\n",
       "    .dataframe tbody tr th {\n",
       "        vertical-align: top;\n",
       "    }\n",
       "\n",
       "    .dataframe thead th {\n",
       "        text-align: right;\n",
       "    }\n",
       "</style>\n",
       "<table border=\"1\" class=\"dataframe\">\n",
       "  <thead>\n",
       "    <tr style=\"text-align: right;\">\n",
       "      <th></th>\n",
       "      <th>index</th>\n",
       "      <th>Best Performance</th>\n",
       "    </tr>\n",
       "  </thead>\n",
       "  <tbody>\n",
       "    <tr>\n",
       "      <th>0</th>\n",
       "      <td>0</td>\n",
       "      <td>0.212546</td>\n",
       "    </tr>\n",
       "    <tr>\n",
       "      <th>1</th>\n",
       "      <td>1</td>\n",
       "      <td>0.222744</td>\n",
       "    </tr>\n",
       "    <tr>\n",
       "      <th>2</th>\n",
       "      <td>2</td>\n",
       "      <td>0.265011</td>\n",
       "    </tr>\n",
       "    <tr>\n",
       "      <th>3</th>\n",
       "      <td>3</td>\n",
       "      <td>0.230665</td>\n",
       "    </tr>\n",
       "    <tr>\n",
       "      <th>4</th>\n",
       "      <td>4</td>\n",
       "      <td>0.240600</td>\n",
       "    </tr>\n",
       "  </tbody>\n",
       "</table>\n",
       "</div>"
      ],
      "text/plain": [
       "   index  Best Performance\n",
       "0      0          0.212546\n",
       "1      1          0.222744\n",
       "2      2          0.265011\n",
       "3      3          0.230665\n",
       "4      4          0.240600"
      ]
     },
     "execution_count": 52,
     "metadata": {},
     "output_type": "execute_result"
    }
   ],
   "source": [
    "sample_submission.head()"
   ]
  },
  {
   "cell_type": "code",
   "execution_count": 53,
   "metadata": {
    "execution": {
     "iopub.execute_input": "2021-02-26T15:55:42.765994Z",
     "iopub.status.busy": "2021-02-26T15:55:42.765031Z",
     "iopub.status.idle": "2021-02-26T15:55:42.771033Z",
     "shell.execute_reply": "2021-02-26T15:55:42.771615Z"
    },
    "papermill": {
     "duration": 0.191327,
     "end_time": "2021-02-26T15:55:42.771780",
     "exception": false,
     "start_time": "2021-02-26T15:55:42.580453",
     "status": "completed"
    },
    "tags": []
   },
   "outputs": [
    {
     "data": {
      "text/plain": [
       "0.22523067310151762"
      ]
     },
     "execution_count": 53,
     "metadata": {},
     "output_type": "execute_result"
    }
   ],
   "source": [
    "sample_submission['Best Performance'].mean()"
   ]
  },
  {
   "cell_type": "code",
   "execution_count": 54,
   "metadata": {
    "execution": {
     "iopub.execute_input": "2021-02-26T15:55:43.138135Z",
     "iopub.status.busy": "2021-02-26T15:55:43.136925Z",
     "iopub.status.idle": "2021-02-26T15:55:43.466252Z",
     "shell.execute_reply": "2021-02-26T15:55:43.465730Z"
    },
    "papermill": {
     "duration": 0.514165,
     "end_time": "2021-02-26T15:55:43.466408",
     "exception": false,
     "start_time": "2021-02-26T15:55:42.952243",
     "status": "completed"
    },
    "tags": []
   },
   "outputs": [
    {
     "data": {
      "image/png": "[encoded data removed]",
      "text/plain": [
       "<Figure size 432x288 with 1 Axes>"
      ]
     },
     "metadata": {
      "needs_background": "light"
     },
     "output_type": "display_data"
    }
   ],
   "source": [
    "import matplotlib.pyplot as plt\n",
    "\n",
    "plt.hist(sample_submission['Best Performance'],bins=100)\n",
    "plt.ylim((0,5000))\n",
    "plt.title('cat')\n",
    "plt.show()"
   ]
  },
  {
   "cell_type": "code",
   "execution_count": 55,
   "metadata": {
    "execution": {
     "iopub.execute_input": "2021-02-26T15:55:43.833758Z",
     "iopub.status.busy": "2021-02-26T15:55:43.832865Z",
     "iopub.status.idle": "2021-02-26T15:55:43.878552Z",
     "shell.execute_reply": "2021-02-26T15:55:43.877975Z"
    },
    "papermill": {
     "duration": 0.231633,
     "end_time": "2021-02-26T15:55:43.878691",
     "exception": false,
     "start_time": "2021-02-26T15:55:43.647058",
     "status": "completed"
    },
    "tags": []
   },
   "outputs": [],
   "source": [
    "oof = pd.DataFrame({'id':X.index, 'catboost_oof': oof})\n",
    "oof.to_csv(\"oof.csv\", index=False)"
   ]
  },
  {
   "cell_type": "code",
   "execution_count": 56,
   "metadata": {
    "execution": {
     "iopub.execute_input": "2021-02-26T15:55:44.250955Z",
     "iopub.status.busy": "2021-02-26T15:55:44.249930Z",
     "iopub.status.idle": "2021-02-26T15:55:44.261721Z",
     "shell.execute_reply": "2021-02-26T15:55:44.261174Z"
    },
    "papermill": {
     "duration": 0.201324,
     "end_time": "2021-02-26T15:55:44.261905",
     "exception": false,
     "start_time": "2021-02-26T15:55:44.060581",
     "status": "completed"
    },
    "tags": []
   },
   "outputs": [
    {
     "name": "stdout",
     "output_type": "stream",
     "text": [
      "Average cv roc auc score 0.634 ± 0.062\n",
      "Average cv roc average precision 0.257 ± 0.064\n",
      "Roc auc score OOF 0.535\n",
      "Average precision OOF 0.157\n"
     ]
    }
   ],
   "source": [
    "print(\"Average cv roc auc score %0.3f ± %0.3f\" % (np.mean(roc_auc), np.std(roc_auc)))\n",
    "print(\"Average cv roc average precision %0.3f ± %0.3f\" % (np.mean(average_precision), np.std(average_precision)))\n",
    "\n",
    "print(\"Roc auc score OOF %0.3f\" % roc_auc_score(y_true=y, y_score=oof.catboost_oof))\n",
    "print(\"Average precision OOF %0.3f\" % average_precision_score(y_true=y, y_score=oof.catboost_oof))"
   ]
  },
  {
   "cell_type": "code",
   "execution_count": 57,
   "metadata": {
    "execution": {
     "iopub.execute_input": "2021-02-26T15:55:44.629616Z",
     "iopub.status.busy": "2021-02-26T15:55:44.628619Z",
     "iopub.status.idle": "2021-02-26T15:55:44.944698Z",
     "shell.execute_reply": "2021-02-26T15:55:44.945248Z"
    },
    "papermill": {
     "duration": 0.503166,
     "end_time": "2021-02-26T15:55:44.945425",
     "exception": false,
     "start_time": "2021-02-26T15:55:44.442259",
     "status": "completed"
    },
    "tags": []
   },
   "outputs": [
    {
     "data": {
      "text/plain": [
       "<AxesSubplot:xlabel='Importance', ylabel='Features'>"
      ]
     },
     "execution_count": 57,
     "metadata": {},
     "output_type": "execute_result"
    },
    {
     "data": {
      "image/png": "[encoded data removed]",
      "text/plain": [
       "<Figure size 720x504 with 1 Axes>"
      ]
     },
     "metadata": {
      "needs_background": "light"
     },
     "output_type": "display_data"
    }
   ],
   "source": [
    "feature_dict = {'Features': catb.feature_names_, 'Importance': catb.feature_importances_}\n",
    "feature_imp = pd.DataFrame(feature_dict).sort_values(by=['Importance'], ascending=False)\n",
    "\n",
    "plt.figure(figsize=(10,7))\n",
    "df_imp = feature_imp.head(20)\n",
    "sns.barplot(y=df_imp['Features'], x=df_imp['Importance'], palette='light:m_r')"
   ]
  },
  {
   "cell_type": "code",
   "execution_count": 58,
   "metadata": {
    "execution": {
     "iopub.execute_input": "2021-02-26T15:55:45.314454Z",
     "iopub.status.busy": "2021-02-26T15:55:45.313533Z",
     "iopub.status.idle": "2021-02-26T15:55:45.316958Z",
     "shell.execute_reply": "2021-02-26T15:55:45.317440Z"
    },
    "papermill": {
     "duration": 0.19019,
     "end_time": "2021-02-26T15:55:45.317601",
     "exception": false,
     "start_time": "2021-02-26T15:55:45.127411",
     "status": "completed"
    },
    "tags": []
   },
   "outputs": [],
   "source": [
    "#catb.save_model('model_one')"
   ]
  }
 ],
 "metadata": {
  "kernelspec": {
   "display_name": "Python 3",
   "language": "python",
   "name": "python3"
  },
  "language_info": {
   "codemirror_mode": {
    "name": "ipython",
    "version": 3
   },
   "file_extension": ".py",
   "mimetype": "text/x-python",
   "name": "python",
   "nbconvert_exporter": "python",
   "pygments_lexer": "ipython3",
   "version": "3.7.9"
  },
  "papermill": {
   "default_parameters": {},
   "duration": 3711.820801,
   "end_time": "2021-02-26T15:55:46.212122",
   "environment_variables": {},
   "exception": null,
   "input_path": "__notebook__.ipynb",
   "output_path": "__notebook__.ipynb",
   "parameters": {},
   "start_time": "2021-02-26T14:53:54.391321",
   "version": "2.2.2"
  }
 },
 "nbformat": 4,
 "nbformat_minor": 4
}
